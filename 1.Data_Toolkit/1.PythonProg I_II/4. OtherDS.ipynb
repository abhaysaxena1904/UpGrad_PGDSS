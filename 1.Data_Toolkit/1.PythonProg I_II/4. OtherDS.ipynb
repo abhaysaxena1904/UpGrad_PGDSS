{
 "cells": [
  {
   "cell_type": "code",
   "execution_count": 8,
   "metadata": {},
   "outputs": [],
   "source": [
    "A={1,2,3}\n",
    "B={2,3,4}\n",
    "C={3,4,5}\n",
    "\n",
    "#set.intersection(A, B, C)\n",
    "#A.intersection(B, C)\n",
    "#A.intersection([B, C])\n",
    "#set.intersection([A, B, C])"
   ]
  },
  {
   "cell_type": "code",
   "execution_count": 15,
   "metadata": {},
   "outputs": [
    {
     "name": "stdout",
     "output_type": "stream",
     "text": [
      "[1,2,3,3,4,5,5,1,2]\n",
      "[1, 2, 3, 4, 5]\n"
     ]
    }
   ],
   "source": [
    "import ast\n",
    "\n",
    "mylist=ast.literal_eval(input())\n",
    "\n",
    "d={}\n",
    "a\n",
    "for i in mylist:\n",
    "    if i not in d:\n",
    "        d[i]=1\n",
    "    else:\n",
    "        d[i]=d[i]+1    #to get count\n",
    "        \n",
    "print(list(d.keys()))"
   ]
  },
  {
   "cell_type": "code",
   "execution_count": 10,
   "metadata": {},
   "outputs": [
    {
     "name": "stdout",
     "output_type": "stream",
     "text": [
      "['Mobile_Redmi', 'Mobile_Samsung', 'Mobile_Realme', 'Laptop_Dell', 'Laptop_HP', 'TV_Videocon', 'TV_Sony']\n"
     ]
    }
   ],
   "source": [
    "inp={'Mobile': ['Redmi', 'Samsung', 'Realme'], \n",
    "'Laptop': ['Dell', 'HP'],\n",
    "'TV': ['Videocon', 'Sony'] }\n",
    "\n",
    "\n",
    "\n",
    "#for i in range(len(inp)):\n",
    "    #inp.keys[i]\n",
    "out = []\n",
    "for key in inp.keys():\n",
    "    for word in inp[key]:\n",
    "        out.append(key+\"_\"+word)\n",
    "        \n",
    "\n",
    "print(out)"
   ]
  },
  {
   "cell_type": "code",
   "execution_count": 12,
   "metadata": {},
   "outputs": [
    {
     "name": "stdout",
     "output_type": "stream",
     "text": [
      "#take input inp=input() stack = []  for i in inp:     if(len(stack) == 0):         stack.append(i)     else:         if i==')' and stack[-1]=='(':             stack.pop()         elif i=='}' and stack[-1]=='{':             stack.pop()         elif i==']' and stack[-1]=='[':             stack.pop()         else:             stack.append(i)              if(len(stack) == 0):     print('Yes') else:     print('No')\n",
      "False\n"
     ]
    }
   ],
   "source": [
    "#input has been taken for you\n",
    "s=input()\n",
    "\n",
    "#start writing your code to check if s is upgrad string or no\n",
    "d={}\n",
    "for i in s:\n",
    "    if i not in d:\n",
    "        d[i] = 1\n",
    "    else:\n",
    "        d[i] = d[i] + 1\n",
    "\n",
    "vals = d.values()\n",
    "n = len(d)\n",
    "\n",
    "def upgrad_string(vals):\n",
    "    for i in range(1, n+1):\n",
    "        if i not in vals:\n",
    "            return False\n",
    "    return True        \n",
    "print(upgrad_string(vals))"
   ]
  },
  {
   "cell_type": "code",
   "execution_count": 14,
   "metadata": {},
   "outputs": [
    {
     "name": "stdout",
     "output_type": "stream",
     "text": [
      "[](){[]()(){}}\n",
      "Yes\n"
     ]
    }
   ],
   "source": [
    "#take input\n",
    "inp=input()\n",
    "stack = []\n",
    "\n",
    "for i in inp:\n",
    "    if(len(stack) == 0):\n",
    "        stack.append(i)\n",
    "    else:\n",
    "        if i==')' and stack[-1]=='(':\n",
    "            stack.pop()\n",
    "        elif i=='}' and stack[-1]=='{':\n",
    "            stack.pop()\n",
    "        elif i==']' and stack[-1]=='[':\n",
    "            stack.pop()\n",
    "        else:\n",
    "            stack.append(i)\n",
    "            \n",
    "if(len(stack) == 0):\n",
    "    print('Yes')\n",
    "else:\n",
    "    print('No')"
   ]
  },
  {
   "cell_type": "code",
   "execution_count": 43,
   "metadata": {},
   "outputs": [
    {
     "name": "stdout",
     "output_type": "stream",
     "text": [
      "mobile4: 9000\n"
     ]
    }
   ],
   "source": [
    "inp={'mobile1':10000, 'mobile2':11000, 'mobile3':13000, 'mobile4':9000, 'mobile5':15000, 'mobile6':16000, 'mobile7':17000, 'mobile8':18000, 'mobile9':19000}\n",
    "\n",
    "#import ast\n",
    "#inp=ast.literal_eval(input())\n",
    "\n",
    "x=list(inp.values())\n",
    "a=int(x[0])\n",
    "\n",
    "for i in inp.keys():\n",
    "    if inp.get(i)<a:\n",
    "        lk=i\n",
    "        a=inp.get(i)\n",
    "\n",
    "        \n",
    "print(lk+':',a)\n",
    "\n"
   ]
  },
  {
   "cell_type": "code",
   "execution_count": 10,
   "metadata": {},
   "outputs": [
    {
     "data": {
      "text/plain": [
       "{1: 1, 2: 3, 3: 0, 5: 0, 4: 0, 6: 1, 7: 0, 8: 0}"
      ]
     },
     "execution_count": 10,
     "metadata": {},
     "output_type": "execute_result"
    }
   ],
   "source": [
    "#Maximum Distance\n",
    "#import ast\n",
    "#inp= ast.literal_eval(input())\n",
    "inp=[1, 2, 3, 2, 5, 1, 2, 4, 6, 2, 7, 8, 6]\n",
    "\n",
    "max_dis={}\n",
    "for i in inp:\n",
    "    if i not in max_dis.keys():\n",
    "        max_dis[i] = 0\n",
    "    else:            \n",
    "        max_dis[i] = max_dis[i] + 1\n",
    "        \n",
    "max_dis"
   ]
  },
  {
   "cell_type": "code",
   "execution_count": 22,
   "metadata": {},
   "outputs": [
    {
     "name": "stdout",
     "output_type": "stream",
     "text": [
      "8\n"
     ]
    }
   ],
   "source": [
    "from collections import defaultdict \n",
    "  \n",
    "\n",
    "inp = [1, 2, 3, 2, 5, 1, 2, 4, 6, 2, 7, 8, 6] \n",
    "  \n",
    "# Maximum distance between elements \n",
    "# using max() + enumerate() + loop + defaultdict() \n",
    "temp = defaultdict(list) \n",
    "\n",
    "for idx, ele in enumerate(inp): \n",
    "    temp[ele].append(idx) \n",
    "    \n",
    "res = max(temp[ele][-1]-temp[ele][0] for ele in temp) \n",
    "   \n",
    "print (res)\n",
    "#print (temp)\n",
    "#print(idx,ele)\n"
   ]
  },
  {
   "cell_type": "code",
   "execution_count": 30,
   "metadata": {},
   "outputs": [
    {
     "name": "stdout",
     "output_type": "stream",
     "text": [
      "pasta\n"
     ]
    }
   ],
   "source": [
    "votes=[\"pasta\",\"pasta\",\"pasta\",\"pasta\",\"pasta\",\"paratha\",\"paratha\",\"paratha\"]\n",
    "l=[]\n",
    "for i in votes:\n",
    "    if votes.count(i)>len(votes)/2:\n",
    "        l.append(i)\n",
    "if len(l)>len(votes)/2:\n",
    "    print(l[0])\n",
    "else:\n",
    "    print(\"NOTA\")\n",
    "    \n",
    "#print(l)"
   ]
  },
  {
   "cell_type": "code",
   "execution_count": 35,
   "metadata": {},
   "outputs": [
    {
     "name": "stdout",
     "output_type": "stream",
     "text": [
      "['Fruit', 'Spices', 'Vegetable_Cabbage', 'Vegetable_Cauliflower']\n",
      "[1, 2, 3, 4]\n"
     ]
    }
   ],
   "source": [
    "import ast,sys\n",
    "d= {'Fruit': 1, 'Vegetable': {'Cabbage': 2, 'Cauliflower': 3}, 'Spices': 4}\n",
    "\n",
    "def flatten_dict(d):\n",
    "    ind = [] # Initialize an empty list\n",
    "    t = {}  # Initialize an empty dictionary\n",
    "    for i in d: # Iterate over the dictionary d\n",
    "        val = d.get(i)  #Get the value of key 'i'\n",
    "        if isinstance(val, dict) == True:  # if value is found to be of type dictionary, like {'Cabbage': 2, 'Cauliflower': 3}\n",
    "            ind.append(i) # append i to list ind\n",
    "            for j in val: # Iterate over the dictinary which is the value of a key in d\n",
    "                key = i + '_' + j # Compute key like 'Vegetable' + '_' + 'Cabbage'\n",
    "                t.update({key: val.get(j)}) #Insert the value 'Vegetable_Cabbage': 2 to dictionary t\n",
    "    for i in ind: #Iterate over list ind which has keys that has dictionary values\n",
    "        del d[i]  # del the item, 'Vegetable': {'Cabbage': 2, 'Cauliflower': 3} here\n",
    "    d.update(t)   # update d with the items in t, {'Vegetable_Cabbage':2, 'Vegetable_Cauliflower':3}\n",
    "    return d\n",
    "\n",
    "out1=list(flatten_dict(d).keys()) \n",
    "out2=list(flatten_dict(d).values())\n",
    "out1.sort()\n",
    "out2.sort()\n",
    "print(out1)\n",
    "print(out2)"
   ]
  },
  {
   "cell_type": "code",
   "execution_count": 36,
   "metadata": {},
   "outputs": [
    {
     "ename": "SyntaxError",
     "evalue": "unexpected EOF while parsing (<unknown>, line 0)",
     "output_type": "error",
     "traceback": [
      "Traceback \u001b[1;36m(most recent call last)\u001b[0m:\n",
      "  File \u001b[0;32m\"C:\\Users\\91975\\anaconda3\\lib\\site-packages\\IPython\\core\\interactiveshell.py\"\u001b[0m, line \u001b[0;32m3343\u001b[0m, in \u001b[0;35mrun_code\u001b[0m\n    exec(code_obj, self.user_global_ns, self.user_ns)\n",
      "  File \u001b[0;32m\"<ipython-input-36-da6209908280>\"\u001b[0m, line \u001b[0;32m3\u001b[0m, in \u001b[0;35m<module>\u001b[0m\n    dict1 = dict(ast.literal_eval(input_str))\n",
      "  File \u001b[0;32m\"C:\\Users\\91975\\anaconda3\\lib\\ast.py\"\u001b[0m, line \u001b[0;32m59\u001b[0m, in \u001b[0;35mliteral_eval\u001b[0m\n    node_or_string = parse(node_or_string, mode='eval')\n",
      "\u001b[1;36m  File \u001b[1;32m\"C:\\Users\\91975\\anaconda3\\lib\\ast.py\"\u001b[1;36m, line \u001b[1;32m47\u001b[1;36m, in \u001b[1;35mparse\u001b[1;36m\u001b[0m\n\u001b[1;33m    return compile(source, filename, mode, flags,\u001b[0m\n",
      "\u001b[1;36m  File \u001b[1;32m\"<unknown>\"\u001b[1;36m, line \u001b[1;32munknown\u001b[0m\n\u001b[1;33m    \u001b[0m\n\u001b[1;37m    ^\u001b[0m\n\u001b[1;31mSyntaxError\u001b[0m\u001b[1;31m:\u001b[0m unexpected EOF while parsing\n"
     ]
    }
   ],
   "source": [
    "import ast,sys\n",
    "input_str = sys.stdin.read()\n",
    "dict1 = dict(ast.literal_eval(input_str))\n",
    "dict2={}\n",
    "dict3={}\n",
    "for i in dict1:\n",
    "    if type(dict1[i])!=dict:\n",
    "        dict2[i]=dict1[i]\n",
    "    else:\n",
    "        for j in dict1[i]:\n",
    "            dict3[i+\"_\"+j]=dict1[i][j]\n",
    "for k in dict3:\n",
    "    dict2[k]=dict3[k]\n",
    "print(sorted(list(dict2.keys())))\n",
    "print(sorted(list(dict2.values())))"
   ]
  }
 ],
 "metadata": {
  "kernelspec": {
   "display_name": "Python 3",
   "language": "python",
   "name": "python3"
  },
  "language_info": {
   "codemirror_mode": {
    "name": "ipython",
    "version": 3
   },
   "file_extension": ".py",
   "mimetype": "text/x-python",
   "name": "python",
   "nbconvert_exporter": "python",
   "pygments_lexer": "ipython3",
   "version": "3.8.3"
  }
 },
 "nbformat": 4,
 "nbformat_minor": 4
}
