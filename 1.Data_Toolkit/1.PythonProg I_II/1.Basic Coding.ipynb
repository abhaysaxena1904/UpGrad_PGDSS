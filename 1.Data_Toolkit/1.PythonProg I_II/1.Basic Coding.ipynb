{
 "cells": [
  {
   "cell_type": "code",
   "execution_count": null,
   "metadata": {},
   "outputs": [],
   "source": [
    "#back Buton Functionality"
   ]
  },
  {
   "cell_type": "code",
   "execution_count": 1,
   "metadata": {
    "scrolled": true
   },
   "outputs": [
    {
     "name": "stdout",
     "output_type": "stream",
     "text": [
      "Press Back Y/N:y\n",
      "url4\n",
      "Press Back Y/N:y\n",
      "url3\n",
      "Press Back Y/N:n\n"
     ]
    }
   ],
   "source": [
    "i=0\n",
    "urls=['url1','url2','url3','url4','url5']\n",
    "\n",
    "for i in range(len(urls)):\n",
    "    back=input(\"Press Back Y/N:\")\n",
    "    i+=1\n",
    "    if back ==\"y\":\n",
    "        urls.pop()\n",
    "    elif back ==\"n\":\n",
    "        urls\n",
    "        break\n",
    "    print(urls[-1])"
   ]
  },
  {
   "cell_type": "code",
   "execution_count": 53,
   "metadata": {},
   "outputs": [
    {
     "name": "stdout",
     "output_type": "stream",
     "text": [
      "At page:6\n",
      "['Home', 'page-1', 'page-2', 'page-3', 'page-4', 'page-5']\n",
      "you are at page: page-5\n",
      "Press Back Y/N:y\n",
      "page-4\n",
      "Press Back Y/N:n\n",
      "page-4\n"
     ]
    }
   ],
   "source": [
    "#Generic Back Button Functionality \n",
    "\n",
    "import numpy as np\n",
    "n=int(input(\"At page:\"))\n",
    "\n",
    "urls= list(np.arange(1,n+1))\n",
    "for i in range(0,len(urls)):\n",
    "    urls[0]=\"Home\"\n",
    "    if i != 0:\n",
    "        urls[i]=\"page-\"+str(i)\n",
    "   \n",
    "print(urls)\n",
    "print(\"you are at page:\",urls[-1])\n",
    "\n",
    "for i in range(len(urls)):\n",
    "    back=input(\"Press Back Y/N:\")\n",
    "    i+=1\n",
    "    if back ==\"y\":\n",
    "        urls.pop()\n",
    "        if len(urls)==1:\n",
    "            print(\"At Home Page;No More Backs\")\n",
    "            break\n",
    "    elif back ==\"n\":\n",
    "        urls\n",
    "        print(urls[-1])\n",
    "        break\n",
    "    print(urls[-1])\n"
   ]
  },
  {
   "cell_type": "code",
   "execution_count": 49,
   "metadata": {},
   "outputs": [],
   "source": [
    "# Amazon Product recommendation system"
   ]
  },
  {
   "cell_type": "code",
   "execution_count": 6,
   "metadata": {},
   "outputs": [
    {
     "name": "stdout",
     "output_type": "stream",
     "text": [
      "search here:oil\n",
      "oil Not Available\n"
     ]
    }
   ],
   "source": [
    "clothes=[]\n",
    "elec_devices=[]\n",
    "prod_list= ['jeans', 'shirt', 'saree','suits','clothes','elec_devices','elec_tools','mobile', 'earphones','TV']\n",
    "x= input('search here:' )\n",
    "if x in prod_list:\n",
    "    print(x,\"Is Available\")    \n",
    "else:\n",
    "    print(x,'Not Available')"
   ]
  },
  {
   "cell_type": "markdown",
   "metadata": {},
   "source": [
    "### How to search word by word"
   ]
  },
  {
   "cell_type": "code",
   "execution_count": 3,
   "metadata": {},
   "outputs": [],
   "source": [
    "# Youtube viewer counter\n",
    "import sys\n",
    "import numpy as np"
   ]
  },
  {
   "cell_type": "code",
   "execution_count": 5,
   "metadata": {},
   "outputs": [
    {
     "name": "stdout",
     "output_type": "stream",
     "text": [
      "No Of Videos:7\n",
      "Enter Users ID:u5\n",
      "NewUser\n",
      "['v-0', 'v-1', 'v-2', 'v-3', 'v-4', 'v-5', 'v-6']\n",
      "Select Video:v-4\n",
      "Video: v-4\n",
      "views count 1\n"
     ]
    }
   ],
   "source": [
    "n = int(input(\"No Of Videos:\"))\n",
    "c=[0]*n\n",
    "newuser=False\n",
    "vids= list(np.arange(1,n+1))\n",
    "for i in range(0,len(vids)):\n",
    "    vids[i]=\"v-\"+str(i)\n",
    "    \n",
    "users=['u1','u2','u3']\n",
    "user=str(input(\"Enter Users ID:\"))\n",
    "if user not in users:\n",
    "    newuser = True\n",
    "    print(\"NewUser\")\n",
    "    users.append(user)\n",
    "#print(users)\n",
    "print(vids)\n",
    "v= str(input(\"Select Video:\"))\n",
    "if v not in vids:\n",
    "    print(\"video not found\")\n",
    "    sys.exit()\n",
    "for j in range(0,len(vids)):\n",
    "    if v == vids[j]:\n",
    "        if newuser==True:\n",
    "            c[j]+=1\n",
    "            break\n",
    "    \n",
    "    j+=1\n",
    "\n",
    "    \n",
    "#print(users)\n",
    "print(\"Video:\",vids[j])\n",
    "print(\"views count\",c[j])"
   ]
  },
  {
   "cell_type": "code",
   "execution_count": 6,
   "metadata": {},
   "outputs": [
    {
     "name": "stdout",
     "output_type": "stream",
     "text": [
      "{'F3', 'F5'}\n"
     ]
    }
   ],
   "source": [
    "# Facebook Mutual Friends\n",
    "My_profile = {'F1','F3', 'F4','F5', 'F7'}\n",
    "Friend_profile = {'F2','F3','F8','F9', 'F5'}\n",
    "Mutual_friends = My_profile.intersection(Friend_profile)\n",
    "print(Mutual_friends) "
   ]
  },
  {
   "cell_type": "code",
   "execution_count": 8,
   "metadata": {},
   "outputs": [],
   "source": [
    "#Dating algo: if both users have right swiped (list) each others profile\n",
    "\n"
   ]
  },
  {
   "cell_type": "code",
   "execution_count": 108,
   "metadata": {},
   "outputs": [],
   "source": [
    "#Food delivery nearby resturant search\n",
    "# Based on your GPS location find resturants serving near you\n",
    "# considering delivery range of each resturant =5."
   ]
  },
  {
   "cell_type": "code",
   "execution_count": 60,
   "metadata": {},
   "outputs": [],
   "source": [
    "import math\n",
    "from math import sqrt,pow"
   ]
  },
  {
   "cell_type": "code",
   "execution_count": 107,
   "metadata": {},
   "outputs": [
    {
     "name": "stdout",
     "output_type": "stream",
     "text": [
      "coordinate(x, y): 8,9\n",
      "[7.81, 3.61, 8.54, 9.9, 7.21]\n",
      "These Resurants will Deliver ['r2']\n"
     ]
    }
   ],
   "source": [
    "user_gps = tuple(input(\"coordinate(x, y): \").split(','))\n",
    "\n",
    "r= {'r1':(2,4),'r2':(5,7),'r3':(5,1),'r4':(1,2),'r5':(4,3)}\n",
    "d=[]\n",
    "deliver=[]\n",
    "for i in range(0,len(r)):\n",
    "    d.append(round(sqrt(pow(float(user_gps[0])-list(r.values())[i][0],2)+pow(float(user_gps[1])-list(r.values())[i][1],2)),2))\n",
    "print(d)    \n",
    "for j in range(len(d)):\n",
    "    if d[j]<=5:\n",
    "        deliver.append(list(r.keys())[j])\n",
    "        \n",
    "print(\"These Resurants will Deliver\",deliver)\n"
   ]
  },
  {
   "cell_type": "code",
   "execution_count": 1,
   "metadata": {},
   "outputs": [],
   "source": [
    "### In this, you have to implement the ATM machine. The basic function of an ATM machine is, you insert your card and pin, if the pin matches, it lets you withdraw money from your account and deducts the same from your account. Don't forget to handle cases like insufficient balance and no cash available. The more realistic ATM model you build the better."
   ]
  },
  {
   "cell_type": "code",
   "execution_count": 132,
   "metadata": {},
   "outputs": [
    {
     "name": "stdout",
     "output_type": "stream",
     "text": [
      "Enter pin: 8226\n",
      "Please enter the amount(in denominations of 100) to be retrieved from your account: 60000\n",
      "You have insufficient balance in your account\n"
     ]
    }
   ],
   "source": [
    "pin = '8226'\n",
    "Acc_Bal = 50000\n",
    "Cash_Bal = 10000\n",
    "\n",
    "user_pin = input('Enter pin: ')\n",
    "if(user_pin == pin):\n",
    "    amt = int(input('Please enter the amount(in denominations of 100) to be retrieved from your account: '))\n",
    "    if(amt<=Acc_Bal):\n",
    "        if(amt<=Cash_Bal):\n",
    "            if(amt>=100 and amt%100 == 0):\n",
    "                Acc_Bal -= amt\n",
    "                Cash = amt\n",
    "                print('Please take the cash ',Cash)\n",
    "                print('Available balance in your acoount is ',Acc_Bal)\n",
    "            else:\n",
    "                print('The requested denominations are unavailable')\n",
    "        else:\n",
    "            print(\"Insufficient Cash available\")\n",
    "    else:\n",
    "        print('You have insufficient balance in your account')\n",
    "else:\n",
    "    print('Incorrect Pin')"
   ]
  },
  {
   "cell_type": "code",
   "execution_count": 129,
   "metadata": {},
   "outputs": [
    {
     "name": "stdout",
     "output_type": "stream",
     "text": [
      "Input Operation:log\n",
      "input the number:100\n",
      "input Power/Base:10\n",
      "log 100 =\n",
      "2.0\n"
     ]
    }
   ],
   "source": [
    "#Implement a simple calculator. \n",
    "#This will take only numbers and operations as input(addition, subtraction, multiplication, division). You may choose to take more operations (Let's see who can design a calculator with most functionalities) \n",
    "\n",
    "o=input(\"Input Operation:\")\n",
    "if o in ['+','-','*','/']:\n",
    "    a=int(input(\"input one number:\"))\n",
    "    b=int(input(\"input second number:\"))\n",
    "    print(a,o,b,\"=\")\n",
    "    if o =='+':\n",
    "        print(a+b)\n",
    "    if o =='-':\n",
    "        print(a-b)\n",
    "    if o =='*':\n",
    "        print(a*b)\n",
    "    if o =='/':\n",
    "        print(a/b)\n",
    "if o in ['sqrt','root','log']:\n",
    "    a=int(input(\"input the number:\"))\n",
    "    b=int(input(\"input Power/Base:\"))\n",
    "    print(o,a,\"=\")\n",
    "    if o =='root':\n",
    "        print(pow(a,1/b))\n",
    "    if o =='pow':\n",
    "        print(pow(a,b))\n",
    "    if o =='log':\n",
    "        print(math.log(a,b))"
   ]
  },
  {
   "cell_type": "code",
   "execution_count": null,
   "metadata": {},
   "outputs": [],
   "source": [
    "#Swapping 2 nos"
   ]
  },
  {
   "cell_type": "code",
   "execution_count": 134,
   "metadata": {},
   "outputs": [
    {
     "name": "stdout",
     "output_type": "stream",
     "text": [
      "2,5\n",
      "x before swapping:  2\n",
      "y before swapping:  5\n",
      "\n",
      "x after swapping:  5\n",
      "y after swapping:  2\n"
     ]
    }
   ],
   "source": [
    "#Take input using input()\n",
    "\n",
    "#input() takes input in form of the string\n",
    "in_string=input()\n",
    "\n",
    "#here extract the two numbers from the string\n",
    "list= in_string.split(\",\")\n",
    "x= int(list[0])\n",
    "y = int(list[1])\n",
    "#print x and y before swapping\n",
    "print(\"x before swapping: \",x)\n",
    "print(\"y before swapping: \",y)\n",
    "#Writing your swapping code here\n",
    "z=x\n",
    "x=y\n",
    "y=z\n",
    "#print x and y after swapping\n",
    "print()\n",
    "print(\"x after swapping: \",x)\n",
    "print(\"y after swapping: \",y)\n",
    "\n",
    "\n"
   ]
  },
  {
   "cell_type": "code",
   "execution_count": 135,
   "metadata": {},
   "outputs": [
    {
     "name": "stdout",
     "output_type": "stream",
     "text": [
      "x: 23\n",
      "y: 10\n"
     ]
    }
   ],
   "source": [
    "x=10\n",
    "y=23\n",
    "x = x + y\n",
    "y = x-y\n",
    "x = x-y\n",
    "print(\"x:\",x)\n",
    "print(\"y:\",y)\n"
   ]
  },
  {
   "cell_type": "code",
   "execution_count": 136,
   "metadata": {},
   "outputs": [
    {
     "name": "stdout",
     "output_type": "stream",
     "text": [
      "23 10\n"
     ]
    }
   ],
   "source": [
    "x=10\n",
    "y=23\n",
    "x,y=y,x\n",
    "print(x,y)"
   ]
  },
  {
   "cell_type": "code",
   "execution_count": 138,
   "metadata": {},
   "outputs": [
    {
     "name": "stdout",
     "output_type": "stream",
     "text": [
      "23 10\n"
     ]
    }
   ],
   "source": [
    "x=10\n",
    "y=23\n",
    "\n",
    "# Bitwise XOR ^\n",
    "\n",
    "x = x^y\n",
    "y = x^y\n",
    "x = x^y\n",
    "print(x,y)"
   ]
  },
  {
   "cell_type": "code",
   "execution_count": 144,
   "metadata": {},
   "outputs": [
    {
     "name": "stdout",
     "output_type": "stream",
     "text": [
      "23 10\n"
     ]
    }
   ],
   "source": [
    "X=10\n",
    "Y=23\n",
    "X=X*Y\n",
    "Y=X//Y\n",
    "X=X//Y\n",
    "print(X,Y)"
   ]
  },
  {
   "cell_type": "code",
   "execution_count": 143,
   "metadata": {},
   "outputs": [],
   "source": [
    "# Odd Even"
   ]
  },
  {
   "cell_type": "code",
   "execution_count": 148,
   "metadata": {},
   "outputs": [
    {
     "name": "stdout",
     "output_type": "stream",
     "text": [
      "68 is even\n"
     ]
    }
   ],
   "source": [
    "n=68\n",
    "\n",
    "if n%2==0:\n",
    "    print(n,\"is even\")\n",
    "else:\n",
    "    print(n,\"is odd\")"
   ]
  },
  {
   "cell_type": "code",
   "execution_count": 149,
   "metadata": {},
   "outputs": [
    {
     "name": "stdout",
     "output_type": "stream",
     "text": [
      "sexy\n"
     ]
    }
   ],
   "source": [
    "# A number k is beautiful if it is of the form 3n+1, is pretty if it is of the form 3n+2 and is sexy if it is of form 3n.\n",
    "#Given a number k, print if it is beautiful, pretty or sexy.\n",
    "\n",
    "\n",
    "k=21\n",
    "\n",
    "if k%3-1==0:\n",
    "    print(\"beautiful\")\n",
    "\n",
    "    \n",
    "    \n",
    "elif k%3-2==0:\n",
    "    print(\"pretty\")\n",
    "    \n",
    "elif k%3==0:\n",
    "    print(\"sexy\")  \n",
    "    "
   ]
  },
  {
   "cell_type": "code",
   "execution_count": null,
   "metadata": {},
   "outputs": [],
   "source": [
    "# prime no."
   ]
  },
  {
   "cell_type": "code",
   "execution_count": 158,
   "metadata": {},
   "outputs": [
    {
     "name": "stdout",
     "output_type": "stream",
     "text": [
      "217 is not a prime number\n",
      "7 times 31 is 217\n"
     ]
    }
   ],
   "source": [
    "num=7*31\n",
    "\n",
    "if num > 1:  \n",
    "   for i in range(2,num):  \n",
    "       if (num % i) == 0:  \n",
    "           print(num,\"is not a prime number\")  \n",
    "           print(i,\"times\",num//i,\"is\",num)  \n",
    "           break  \n",
    "   else:  \n",
    "       print(num,\"is a prime number\")  \n",
    "         \n",
    "else:  \n",
    "   print(num,\"is not a prime number\")  \n"
   ]
  },
  {
   "cell_type": "code",
   "execution_count": 25,
   "metadata": {},
   "outputs": [
    {
     "name": "stdout",
     "output_type": "stream",
     "text": [
      "Enter N:1500\n"
     ]
    }
   ],
   "source": [
    "# print 1st n prime nos ----Googled it!!\n",
    "def Prime(n):  \n",
    "    for i in range(2,n//2+1):  \n",
    "        if(n%i==0):  \n",
    "            return(0)  \n",
    "    return(1)  \n",
    "  \n",
    "N=int(input(\"Enter N:\"))  \n",
    "i=2 \n",
    "lst=[] \n",
    "while(1):  \n",
    "    if(Prime(i)):  \n",
    "        lst.append(i) \n",
    "        if(len(lst)==N): \n",
    "            break \n",
    "    i+=1 \n",
    "\n",
    "#print(\"First \"+str(N)+\" Prime numbers are:\",end=\"\") \n",
    "#print(*lst) "
   ]
  },
  {
   "cell_type": "code",
   "execution_count": 33,
   "metadata": {},
   "outputs": [
    {
     "data": {
      "image/png": "[encoded data removed]",
      "text/plain": [
       "<Figure size 432x288 with 1 Axes>"
      ]
     },
     "metadata": {
      "needs_background": "light"
     },
     "output_type": "display_data"
    },
    {
     "data": {
      "text/plain": [
       "<Figure size 3600x3600 with 0 Axes>"
      ]
     },
     "metadata": {},
     "output_type": "display_data"
    }
   ],
   "source": [
    "#plottting first 1500 prime nos on polar plot as (prime no, prime no)\n",
    "import numpy as np\n",
    "l=np.arange(1500)\n",
    "import matplotlib.pyplot as plt\n",
    "plt.polar(lst,lst,'g.')\n",
    "plt.figure(figsize=(50,50))\n",
    "plt.show()\n"
   ]
  },
  {
   "cell_type": "code",
   "execution_count": 12,
   "metadata": {},
   "outputs": [
    {
     "name": "stdout",
     "output_type": "stream",
     "text": [
      "Enter No. To find factors of:6\n",
      "The factors of 6 are:\n",
      "1 2 3 6 "
     ]
    }
   ],
   "source": [
    "# find factors of a no.\n",
    "def factors(x):\n",
    "    print(\"The factors of\",x,\"are:\")\n",
    "    for i in range(1, x + 1):\n",
    "        if x % i == 0:\n",
    "            print(i,end=\" \")\n",
    "\n",
    "factors(int(input(\"Enter no. to find factors of:\")))"
   ]
  },
  {
   "cell_type": "code",
   "execution_count": 30,
   "metadata": {},
   "outputs": [
    {
     "name": "stdout",
     "output_type": "stream",
     "text": [
      "Enter the no to find prime factor:888\n",
      "2 2 2 3 37.0 "
     ]
    }
   ],
   "source": [
    "# Prime Factors\n",
    "# Python program to print prime factors\n",
    "\n",
    "import math\n",
    "\n",
    "# A function to print all prime factors of\n",
    "# a given number n\n",
    "def primeFactors(n):\n",
    "\t\n",
    "\t# Print the number of two's that divide n\n",
    "\twhile n % 2 == 0:\n",
    "\t\tprint(2,end=\" \")\n",
    "\t\tn = n / 2\n",
    "\t\t\n",
    "\t# n must be odd at this point\n",
    "\t# so a skip of 2 ( i = i + 2) can be used\n",
    "\tfor i in range(3,int(math.sqrt(n))+1,2):\n",
    "\t\t\n",
    "\t\t# while i divides n , print i ad divide n\n",
    "\t\twhile n % i== 0:\n",
    "\t\t\tprint(i,end=\" \"),\n",
    "\t\t\tn = n / i\n",
    "\tif n > 2:\n",
    "\t\tprint(n,end=\" \")\n",
    "\t\t\n",
    "# Driver Program to test above function\n",
    "\n",
    "primeFactors(int(input(\"Enter the no to find prime factor:\")))\n"
   ]
  },
  {
   "cell_type": "code",
   "execution_count": null,
   "metadata": {},
   "outputs": [],
   "source": [
    "#Alarm"
   ]
  },
  {
   "cell_type": "code",
   "execution_count": null,
   "metadata": {},
   "outputs": [],
   "source": [
    "#Take input here\n",
    "#we will take input using ast sys\n",
    "import ast\n",
    "input_str = input()\n",
    "\n",
    "#ast.literal_eval() will evaluate the string and make a data structure for the same\n",
    "#here the input is a list since input is in '[...]', so ast.literal_eval() will\n",
    "#make a list with the same data as passed\n",
    "input_list = ast.literal_eval(input_str)\n",
    "\n",
    "#the data or the two values in list is now changed to separate variables\n",
    "day_of_the_week = input_list[0] #first element is an integer denoting the day of the week\n",
    "is_on_vacation = input_list[1] #this is a boolean denoting if its vacation or not\n",
    "\n",
    "# write your code here\n",
    "weekend=[6,7]\n",
    "if is_on_vacation:\n",
    "    if day_of_the_week in weekend:\n",
    "        print('off')\n",
    "    else:\n",
    "        print('10:00')\n",
    "else:\n",
    "    if day_of_the_week in weekend:\n",
    "        print('10:00')\n",
    "    else:\n",
    "        print('7:00')"
   ]
  },
  {
   "cell_type": "code",
   "execution_count": 33,
   "metadata": {},
   "outputs": [],
   "source": [
    "#Factorial"
   ]
  },
  {
   "cell_type": "code",
   "execution_count": 34,
   "metadata": {},
   "outputs": [
    {
     "name": "stdout",
     "output_type": "stream",
     "text": [
      "4\n",
      "24\n"
     ]
    }
   ],
   "source": [
    "###### take the input here\n",
    "number= int(input())\n",
    "f=1\n",
    "#the function definition starts here\n",
    "def factorial(n):\n",
    "    #write the funtion here that finds and RETURNS factorial of next\n",
    "    if n<0:\n",
    "        return -1\n",
    "    elif n==0:\n",
    "        return 1\n",
    "    else:\n",
    "        f=1\n",
    "        for i in range(1,n+1):\n",
    "            f=f*i\n",
    "            i=i+1\n",
    "        return f\n",
    "#function definition ends here\n",
    "\n",
    "#do not alter the code typed below\n",
    "k=factorial(number)\n",
    "print(k)"
   ]
  },
  {
   "cell_type": "code",
   "execution_count": 44,
   "metadata": {},
   "outputs": [
    {
     "name": "stdout",
     "output_type": "stream",
     "text": [
      "ANii 2 ye8 dis\n",
      "sid 8ey 2 iiNA\n"
     ]
    }
   ],
   "source": [
    "# reverse the Input\n",
    "n=input()\n",
    "s=[]\n",
    "for i in range(len(n)):\n",
    "    s.append(n[i])\n",
    "    \n",
    "s.reverse()\n",
    "rn= \"\".join(s)\n",
    "print(rn)"
   ]
  },
  {
   "cell_type": "code",
   "execution_count": 35,
   "metadata": {},
   "outputs": [
    {
     "name": "stdout",
     "output_type": "stream",
     "text": [
      "567\n",
      "765\n"
     ]
    }
   ],
   "source": [
    "n=int(input())\n",
    "N=str(n)\n",
    "r=0\n",
    "rv=''\n",
    "for i in range(len(N)):\n",
    "    r=(N[i])\n",
    "    rv= r+rv\n",
    "print(int(rv))"
   ]
  },
  {
   "cell_type": "code",
   "execution_count": null,
   "metadata": {},
   "outputs": [],
   "source": [
    "n=int(input())\n",
    "r=0\n",
    "i=1\n",
    "while(i<n):\n",
    "    x=n%(10**i)\n",
    "    n=n-x\n",
    "    r=r+x%(10**i)\n",
    "    i=i+1\n",
    "    print(x)"
   ]
  },
  {
   "cell_type": "code",
   "execution_count": 45,
   "metadata": {},
   "outputs": [
    {
     "name": "stdout",
     "output_type": "stream",
     "text": [
      "789\n",
      "987\n"
     ]
    }
   ],
   "source": [
    "n=int(input())\n",
    "r=0\n",
    "while(n>0):\n",
    "    r= r*10+n%10\n",
    "    n=n//10\n",
    "print(r)"
   ]
  },
  {
   "cell_type": "code",
   "execution_count": 46,
   "metadata": {},
   "outputs": [
    {
     "name": "stdout",
     "output_type": "stream",
     "text": [
      "Enter money you have: 10\n",
      "Enter cost of choc 1\n",
      "14\n"
     ]
    }
   ],
   "source": [
    "#How Many Choclates\n",
    "#Sanjay loves chocolates. He goes to a shop to buy his favourite chocolate. There he notices there is an offer going on, upon bringing 3 wrappers of the same chocolate, you will get new chocolate for free. If Sanjay has m Rupees. How many chocolates will he be able to eat if each chocolate costs c Rupees?\n",
    "\n",
    "m=int(input('Enter money you have: '))\n",
    "c=int(input('Enter cost of choc '))\n",
    "\n",
    "\n",
    "w=m//c\n",
    "choc=m//c    \n",
    "while(w//3!=0):\n",
    "    choc= choc+w//3\n",
    "    w=w//3+w%3   \n",
    "print(int(choc))"
   ]
  },
  {
   "cell_type": "code",
   "execution_count": null,
   "metadata": {},
   "outputs": [],
   "source": [
    "# w=w//3+w%3 ----correct\n",
    "# w=w/3+w%3 ----partially correct"
   ]
  },
  {
   "cell_type": "code",
   "execution_count": null,
   "metadata": {},
   "outputs": [],
   "source": [
    "i=input()\n",
    "a=i.split(',')\n",
    "m=int(a[0])\n",
    "c=int(a[1])\n",
    "\n",
    "w=m//c\n",
    "choc=m//c    \n",
    "while(w//3!=0):\n",
    "    choc= choc+w//3\n",
    "    w=w//3+w%3   \n",
    "print(int(choc))"
   ]
  },
  {
   "cell_type": "code",
   "execution_count": 2,
   "metadata": {},
   "outputs": [],
   "source": [
    "#Pattern\n",
    "#print()----by default goes to next line\n",
    "#print(o/p,end='')---- keeps next o/p in same line"
   ]
  },
  {
   "cell_type": "code",
   "execution_count": 3,
   "metadata": {},
   "outputs": [
    {
     "name": "stdout",
     "output_type": "stream",
     "text": [
      "5\n",
      "    *\n",
      "   *_*\n",
      "  *_*_*\n",
      " *_*_*_*\n",
      "*_*_*_*_*\n"
     ]
    }
   ],
   "source": [
    "#print pattern\n",
    "\n",
    "n= int(input())\n",
    "\n",
    "for i in range(1,n+1):\n",
    "    for j in range(n-i):\n",
    "        print(' ',end='')\n",
    "    for k in range(i-1):\n",
    "        print('*_',end='')\n",
    "    print('*')\n",
    "                 "
   ]
  },
  {
   "cell_type": "code",
   "execution_count": null,
   "metadata": {},
   "outputs": [],
   "source": [
    "#one line of input containing 0 < N < 27, the size of the rangoli\n",
    "#size 5  \n",
    "#--------e--------\n",
    "#------e-d-e------\n",
    "#----e-d-c-d-e----\n",
    "#--e-d-c-b-c-d-e--\n",
    "#e-d-c-b-a-b-c-d-e\n",
    "#--e-d-c-b-c-d-e--\n",
    "#----e-d-c-d-e----\n",
    "#------e-d-e------\n",
    "#--------e--------\n",
    "\n",
    "def print_rangoli(size):\n",
    "    width  = size*4-3\n",
    "    string = ''\n",
    "\n",
    "    for i in range(1,size+1):\n",
    "        for j in range(0,i):\n",
    "            string += chr(96+size-j)\n",
    "            if len(string) < width :\n",
    "                string += '-'\n",
    "        for k in range(i-1,0,-1):    \n",
    "            string += chr(97+size-k)\n",
    "            if len(string) < width :\n",
    "                string += '-'\n",
    "        print(string.center(width,'-'))\n",
    "        string = ''\n",
    "\n",
    "    for i in range(size-1,0,-1):\n",
    "        string = ''\n",
    "        for j in range(0,i):\n",
    "            string += chr(96+size-j)\n",
    "            if len(string) < width :\n",
    "                string += '-'\n",
    "        for k in range(i-1,0,-1):\n",
    "            string += chr(97+size-k)\n",
    "            if len(string) < width :\n",
    "                string += '-'\n",
    "        print(string.center(width,'-'))\n",
    "\n",
    "if __name__ == '__main__':\n",
    "    n = int(input())\n",
    "    print_rangoli(n)"
   ]
  },
  {
   "cell_type": "code",
   "execution_count": null,
   "metadata": {},
   "outputs": [],
   "source": [
    "def print_rangoli(size):\n",
    "    width  = size*4-3\n",
    "    string = ''\n",
    "\n",
    "    for i in range(1,size+1):\n",
    "        for j in range(0,i):\n",
    "            string += chr(96+size-j)\n",
    "            if len(string) < width :\n",
    "                string += '-'\n",
    "        for k in range(i-1,0,-1):    \n",
    "            string += chr(97+size-k)\n",
    "            if len(string) < width :\n",
    "                string += '-'\n",
    "        print(string.center(width,'-'))\n",
    "        string = ''\n",
    "\n",
    "    \n",
    "\n",
    "if __name__ == '__main__':\n",
    "    n = int(input())\n",
    "    print_rangoli(n)"
   ]
  },
  {
   "cell_type": "code",
   "execution_count": null,
   "metadata": {},
   "outputs": [],
   "source": [
    "def print_rangoli(size):\n",
    "    width  = size*4-3\n",
    "    string = ''\n",
    "\n",
    "\n",
    "    for i in range(size-1,0,-1):\n",
    "        string = ''\n",
    "        for j in range(0,i):\n",
    "            string += chr(96+size-j)\n",
    "            if len(string) < width :\n",
    "                string += '-'\n",
    "        for k in range(i-1,0,-1):\n",
    "            string += chr(97+size-k)\n",
    "            if len(string) < width :\n",
    "                string += '-'\n",
    "        print(string.center(width,'-'))\n",
    "\n",
    "if __name__ == '__main__':\n",
    "    n = int(input())\n",
    "    print_rangoli(n)"
   ]
  },
  {
   "cell_type": "code",
   "execution_count": 10,
   "metadata": {},
   "outputs": [
    {
     "name": "stdout",
     "output_type": "stream",
     "text": [
      "6\n",
      "----------f----------\n",
      "--------f-e-f--------\n",
      "------f-e-d-e-f------\n",
      "----f-e-d-c-d-e-f----\n",
      "--f-e-d-c-b-c-d-e-f--\n",
      "f-e-d-c-b-a-b-c-d-e-f\n",
      "--f-e-d-c-b-c-d-e-f--\n",
      "----f-e-d-c-d-e-f----\n",
      "------f-e-d-e-f------\n",
      "--------f-e-f--------\n",
      "----------f----------\n"
     ]
    }
   ],
   "source": [
    "def print_rangoli(n):\n",
    "    alpha = \"abcdefghijklmnopqrstuvwxyz\"\n",
    "    data = [alpha[i] for i in range(n)]\n",
    "    items = list(range(n))\n",
    "    items = items[:-1]+items[::-1]\n",
    "    for i in items:\n",
    "        temp = data[-(i+1):]\n",
    "        row = temp[::-1]+temp[1:]\n",
    "        print(\"-\".join(row).center(n*4-3, \"-\"))\n",
    "\n",
    "\n",
    "n = int(input())\n",
    "print_rangoli(n)"
   ]
  },
  {
   "cell_type": "code",
   "execution_count": 26,
   "metadata": {},
   "outputs": [
    {
     "name": "stdout",
     "output_type": "stream",
     "text": [
      "--------e--------\n",
      "------e-d-e------\n",
      "----e-d-c-d-e----\n",
      "--e-d-c-b-c-d-e--\n",
      "e-d-c-b-a-b-c-d-e\n",
      "--e-d-c-b-c-d-e--\n",
      "----e-d-c-d-e----\n",
      "------e-d-e------\n",
      "--------e--------\n"
     ]
    }
   ],
   "source": [
    "#n= int(input())\n",
    "n=5\n",
    "l1=list(map(chr,range(97,123)))\n",
    "x = l1[n-1::-1]+l1[1:n]\n",
    "m = len('-'.join(x))\n",
    "for i in range(1,n):\n",
    "    print('-'.join(l1[n-1:n-i:-1]+l1[n-i:n]).center(m,'-'))\n",
    "for i in range(n,0,-1):\n",
    "    print('-'.join(l1[n-1:n-i:-1]+l1[n-i:n]).center(m,'-')) "
   ]
  },
  {
   "cell_type": "code",
   "execution_count": 29,
   "metadata": {},
   "outputs": [
    {
     "data": {
      "text/plain": [
       "17"
      ]
     },
     "execution_count": 29,
     "metadata": {},
     "output_type": "execute_result"
    }
   ],
   "source": [
    "m"
   ]
  },
  {
   "cell_type": "code",
   "execution_count": 41,
   "metadata": {},
   "outputs": [
    {
     "name": "stdout",
     "output_type": "stream",
     "text": [
      "True\n"
     ]
    }
   ],
   "source": [
    "# Armstorng No\n",
    "##### from functools import reduce\n",
    "m='153' #input()\n",
    " \n",
    "n=int(m)\n",
    "l1=[]\n",
    "for i in range(len(m)):\n",
    "    l1= l1+list(m[i])\n",
    "\n",
    "l2= list(map(int,l1))\n",
    "x=sum([e**3 for e in l2])\n",
    "if x==n:\n",
    "    print('True')\n",
    "else:\n",
    "    print('False')\n",
    "\n"
   ]
  },
  {
   "cell_type": "code",
   "execution_count": 43,
   "metadata": {},
   "outputs": [
    {
     "data": {
      "text/plain": [
       "153"
      ]
     },
     "execution_count": 43,
     "metadata": {},
     "output_type": "execute_result"
    }
   ],
   "source": [
    "x"
   ]
  },
  {
   "cell_type": "code",
   "execution_count": 48,
   "metadata": {},
   "outputs": [
    {
     "name": "stdout",
     "output_type": "stream",
     "text": [
      "7\n",
      "0 1 1 2 3 5 8\n"
     ]
    }
   ],
   "source": [
    "# Fibonacci Series\n",
    "\n",
    "n= int(input())\n",
    "f=1\n",
    "i=0\n",
    "l=[0,1]\n",
    "for i in range(n-2):\n",
    "    f=l[-1]+l[-2]\n",
    "    l=l+[f]\n",
    "print(*l) "
   ]
  },
  {
   "cell_type": "code",
   "execution_count": 53,
   "metadata": {
    "scrolled": true
   },
   "outputs": [
    {
     "name": "stdout",
     "output_type": "stream",
     "text": [
      "7\n",
      "0 1 1 2 3 5 8 "
     ]
    }
   ],
   "source": [
    "n= int(input())\n",
    "f=0\n",
    "m=1\n",
    "for i in range(n):\n",
    "    print(f,end=\" \")\n",
    "    x=f+m\n",
    "    f=m\n",
    "    m=x\n",
    "    "
   ]
  },
  {
   "cell_type": "code",
   "execution_count": 55,
   "metadata": {},
   "outputs": [
    {
     "name": "stdout",
     "output_type": "stream",
     "text": [
      "1 2 3 4 5\n",
      "printing lists separated by commas\n",
      "1, 2, 3, 4, 5\n",
      "printing lists in new line\n",
      "1\n",
      "2\n",
      "3\n",
      "4\n",
      "5\n"
     ]
    }
   ],
   "source": [
    "# Python program to print list \n",
    "# without using loop \n",
    "  \n",
    "a = [1, 2, 3, 4, 5] \n",
    "  \n",
    "# printing the list using * operator separated  \n",
    "# by space  \n",
    "print(*a) \n",
    "  \n",
    "# printing the list using * and sep operator \n",
    "print(\"printing lists separated by commas\") \n",
    "  \n",
    "print(*a, sep = \", \")  \n",
    "  \n",
    "# print in new line \n",
    "print(\"printing lists in new line\") \n",
    "  \n",
    "print(*a, sep = \"\\n\") "
   ]
  },
  {
   "cell_type": "code",
   "execution_count": null,
   "metadata": {},
   "outputs": [],
   "source": []
  },
  {
   "cell_type": "code",
   "execution_count": 5,
   "metadata": {},
   "outputs": [
    {
     "name": "stdout",
     "output_type": "stream",
     "text": [
      "7\n",
      "7 is not a prime number\n",
      "7 is not a prime number\n",
      "7 is not a prime number\n",
      "7 is not a prime number\n",
      "7 is not a prime number\n",
      "[3, 5, 5, 5] is list of prime numbers till  7\n"
     ]
    }
   ],
   "source": [
    "n= int(input())\n",
    "l=[]\n",
    "for j in range(2,n):\n",
    "    for i in range(2,n):\n",
    "        if (j % i) == 0:\n",
    "            print(n,\"is not a prime number\")\n",
    "            break\n",
    "        else:\n",
    "            l=l+[j]\n",
    "print(l,\"is list of prime numbers till \",n)"
   ]
  },
  {
   "cell_type": "code",
   "execution_count": 61,
   "metadata": {},
   "outputs": [
    {
     "name": "stdout",
     "output_type": "stream",
     "text": [
      "8\n",
      "17\n"
     ]
    }
   ],
   "source": [
    "# Sum of primeNos till N\n",
    "\n",
    "n= int(input())\n",
    "l=[2,3]\n",
    "\n",
    "for i in range(1,n+1):\n",
    "    for j in range(2,i):\n",
    "        if (i%j)!=0:\n",
    "            if i%2==0:\n",
    "                break\n",
    "            if i%3==0:\n",
    "                break\n",
    "            else:\n",
    "                l=l+[i]\n",
    "        else:\n",
    "            break\n",
    "    i=i+1\n",
    "\n",
    "print(sum(set(l)))"
   ]
  },
  {
   "cell_type": "code",
   "execution_count": 62,
   "metadata": {},
   "outputs": [
    {
     "data": {
      "text/plain": [
       "17"
      ]
     },
     "execution_count": 62,
     "metadata": {},
     "output_type": "execute_result"
    }
   ],
   "source": [
    "l={2,3,5,7}\n",
    "sum(l)"
   ]
  },
  {
   "cell_type": "code",
   "execution_count": 64,
   "metadata": {},
   "outputs": [
    {
     "name": "stdout",
     "output_type": "stream",
     "text": [
      "qwertyuiop,1234567890\n"
     ]
    }
   ],
   "source": [
    "str='q1w2e3r4t5y6u7i8o9p0'\n",
    "a= str[::2]\n",
    "b= str[1::2]\n",
    "print(a+','+b)"
   ]
  },
  {
   "cell_type": "code",
   "execution_count": 66,
   "metadata": {
    "scrolled": true
   },
   "outputs": [
    {
     "name": "stdout",
     "output_type": "stream",
     "text": [
      "10,2,2,1\n",
      "9\n"
     ]
    }
   ],
   "source": [
    "#i=input()\n",
    "#a=i.split(' ')\n",
    "import ast\n",
    "a = ast.literal_eval(input())\n",
    "\n",
    "m=int(a[0])\n",
    "c=int(a[1])\n",
    "w=int(a[2])      #shopkeeper will give away 2 chocolates for 3 wrappers\n",
    "k=int(a[3])\n",
    "\n",
    "wraps=m//c\n",
    "choc=m//c\n",
    "while(wraps>=w):\n",
    "    choc= choc + (wraps//w)*k\n",
    "    wraps = (wraps//w)*k + wraps%w\n",
    "\n",
    "print(int(choc))"
   ]
  },
  {
   "cell_type": "code",
   "execution_count": 67,
   "metadata": {},
   "outputs": [
    {
     "data": {
      "text/plain": [
       "[1, 2, 3, 4]"
      ]
     },
     "execution_count": 67,
     "metadata": {},
     "output_type": "execute_result"
    }
   ],
   "source": [
    "list(i for i in range(1, 5))"
   ]
  },
  {
   "cell_type": "code",
   "execution_count": 40,
   "metadata": {},
   "outputs": [
    {
     "name": "stdout",
     "output_type": "stream",
     "text": [
      "4\n",
      "0\n"
     ]
    }
   ],
   "source": [
    "L=[2, 3, 4, 2, 1, 2, 3]\n",
    "print(L.index(1))   # gives index value of '1' in L  i.e 4 here\n",
    "print(L.index(2))   #gives index value of '2' (first occurance) in L  i.e 0 here"
   ]
  },
  {
   "cell_type": "code",
   "execution_count": 47,
   "metadata": {},
   "outputs": [],
   "source": [
    "L=[10,20,30,40,50,60,70,80,90,100]  # how will you get a list [20, 40, 60, 80]\n",
    "\n",
    "\n",
    "#L[[1, 3, 5, 7]]\n",
    "#L[1, 3, 5, 7]\n",
    "#L[1::2]\n",
    "#L[1:-1:2]\n",
    "#L[2:-1:2]\n",
    "#[L[i] for i in range(1,9,2)]"
   ]
  },
  {
   "cell_type": "code",
   "execution_count": 22,
   "metadata": {},
   "outputs": [
    {
     "data": {
      "text/plain": [
       "[45, 35, 25]"
      ]
     },
     "execution_count": 22,
     "metadata": {},
     "output_type": "execute_result"
    }
   ],
   "source": [
    "A = [10, 20, 30]\n",
    "B = [45, 35, 25]    # output [45, 35, 25, 10, 20, 30]\n",
    "\n",
    "#B.append(A)\n",
    "#B.extend(A)\n",
    "\n",
    "B"
   ]
  }
 ],
 "metadata": {
  "kernelspec": {
   "display_name": "Python 3",
   "language": "python",
   "name": "python3"
  },
  "language_info": {
   "codemirror_mode": {
    "name": "ipython",
    "version": 3
   },
   "file_extension": ".py",
   "mimetype": "text/x-python",
   "name": "python",
   "nbconvert_exporter": "python",
   "pygments_lexer": "ipython3",
   "version": "3.8.3"
  }
 },
 "nbformat": 4,
 "nbformat_minor": 4
}
