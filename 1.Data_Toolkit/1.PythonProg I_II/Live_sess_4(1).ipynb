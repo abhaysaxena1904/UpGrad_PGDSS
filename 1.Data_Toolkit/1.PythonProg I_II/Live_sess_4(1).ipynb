{
 "cells": [
  {
   "cell_type": "code",
   "execution_count": null,
   "metadata": {},
   "outputs": [],
   "source": [
    "#https://docs.google.com/document/d/18xn2E_Www4vUkjEi6w6f_vTB2wFnysofoHaFq6vcJCI/preview?pli=1&pru=AAABc_ctrKY*bmgKdqEp6h-irBcWkXVTwA\n",
    "Link to learners response"
   ]
  },
  {
   "cell_type": "code",
   "execution_count": null,
   "metadata": {},
   "outputs": [],
   "source": [
    "#print a random Number\n",
    "import random \n",
    "n = random.random() \n",
    "print(n)\n"
   ]
  },
  {
   "cell_type": "code",
   "execution_count": null,
   "metadata": {},
   "outputs": [],
   "source": [
    "# generate a randon no. \n",
    "n = random.randint(1,21) \n",
    "print(n)\n"
   ]
  },
  {
   "cell_type": "code",
   "execution_count": null,
   "metadata": {},
   "outputs": [],
   "source": [
    "n = random.randint(1,21) \n",
    "print(n)\n",
    "\n",
    "#get input from user\n",
    "\n",
    "for attempt in range(0,6):\n",
    "    playerChoice=int(input('Guess the no '))\n",
    "    \n",
    "    #compare comp and player choice\n",
    "    \n",
    "    if playerChoice ==n:\n",
    "        print('Gotcha')\n",
    "        break\n",
    "    elif playerChoice<n:\n",
    "        print('Guess Higher')\n",
    "    elif playerChoice>n:\n",
    "        print('Guess Lower')\n",
    "        \n",
    "else:\n",
    "    print('You have run out of attempts')"
   ]
  },
  {
   "cell_type": "code",
   "execution_count": null,
   "metadata": {},
   "outputs": [],
   "source": [
    "# Rock Paper Scissor\n",
    "# get input from user \n",
    "while p no in 'rps':\n",
    "    print('enter again')\n",
    "    input('Enter here ')"
   ]
  },
  {
   "cell_type": "code",
   "execution_count": null,
   "metadata": {},
   "outputs": [],
   "source": [
    "#computer chose randomly in  Rock paper scissor\n",
    "import random \n",
    "c=random.choice(['r','s','p'])\n",
    "c\n"
   ]
  },
  {
   "cell_type": "code",
   "execution_count": null,
   "metadata": {},
   "outputs": [],
   "source": [
    "import random \n",
    "c=random.choice(['r','s','p'])\n",
    "p=input()\n",
    "\n",
    "while(in range(3):\n",
    "    if p=='r' and c=='s':\n",
    "        print('Rock broke the scissor,WON!!')\n",
    "    elif p=='s' and c=='p':\n",
    "        print('Scissor cut Paper, Won!!')\n",
    "    elif p=='p' and c=='r':\n",
    "        print('Paper killed rock, Won!!')\n",
    "    else:\n",
    "        \n",
    "        print('try again')"
   ]
  },
  {
   "cell_type": "code",
   "execution_count": null,
   "metadata": {},
   "outputs": [],
   "source": [
    "import random, sys\n",
    "\n",
    "print('ROCK, PAPER, SCISSORS')\n",
    "\n",
    "# These variables keep track of the number of wins, losses, and ties.\n",
    "wins = 0\n",
    "losses = 0\n",
    "ties = 0\n",
    "\n",
    "while True: # The main game loop.\n",
    "    print('%s Wins, %s Losses, %s Ties' % (wins, losses, ties))\n",
    "    \n",
    "    while True: # The player input loop.\n",
    "        print('Enter your move: (r)ock (p)aper (s)cissors or (q)uit')\n",
    "        playerMove = input()\n",
    "        \n",
    "        if playerMove == 'q':\n",
    "            sys.exit() # Quit the program.\n",
    "        if playerMove == 'r' or playerMove == 'p' or playerMove == 's':\n",
    "            break # Break out of the player input loop.\n",
    "        print('Type one of r, p, s, or q.')\n",
    "\n",
    "    # Display what the player chose:\n",
    "    if playerMove == 'r':\n",
    "        print('ROCK versus...')\n",
    "    elif playerMove == 'p':\n",
    "        print('PAPER versus...')\n",
    "    elif playerMove == 's':\n",
    "        print('SCISSORS versus...')\n",
    "\n",
    "    # Display what the computer chose:\n",
    "    randomNumber = random.randint(1, 3)\n",
    "    \n",
    "    if randomNumber == 1:\n",
    "        computerMove = 'r'\n",
    "        print('ROCK')\n",
    "    elif randomNumber == 2:\n",
    "        computerMove = 'p'\n",
    "        print('PAPER')\n",
    "    elif randomNumber == 3:\n",
    "        computerMove = 's'\n",
    "        print('SCISSORS')\n",
    "\n",
    "    # Display and record the win/loss/tie:\n",
    "    if playerMove == computerMove:\n",
    "        print('It is a tie!')\n",
    "        ties = ties + 1\n",
    "    elif playerMove == 'r' and computerMove == 's':\n",
    "        print('You win!')\n",
    "        wins = wins + 1\n",
    "    elif playerMove == 'p' and computerMove == 'r':\n",
    "        print('You win!')\n",
    "        wins = wins + 1\n",
    "    elif playerMove == 's' and computerMove == 'p':\n",
    "        print('You win!')\n",
    "        wins = wins + 1\n",
    "    elif playerMove == 'r' and computerMove == 'p':\n",
    "        print('You lose!')\n",
    "        losses = losses + 1\n",
    "    elif playerMove == 'p' and computerMove == 's':\n",
    "        print('You lose!')\n",
    "        losses = losses + 1\n",
    "    elif playerMove == 's' and computerMove == 'r':\n",
    "        print('You lose!')\n",
    "        losses = losses + 1"
   ]
  },
  {
   "cell_type": "code",
   "execution_count": null,
   "metadata": {},
   "outputs": [],
   "source": [
    "# string formating\n",
    "\n",
    "name=\"anhad\"\n",
    "age=21\n",
    "course='btech'\n",
    "\n",
    "print(name,' is doing ',course,' and is ',age)\n",
    "#anhad  is doing  btech  and is 21\n",
    "print(\"%s is doing %s and is %s\"%(name,course,age))\n",
    "#anhad is doing btech and is 21\n",
    "print(\"{} is doing {} and is {}\".format(name,course,age))\n",
    "#anhad is doing btech and is 21\n",
    "print(name+\" is doing \"+course+\" and is \"+str(age))\n",
    "#anhad is doing btech and is 21"
   ]
  },
  {
   "cell_type": "code",
   "execution_count": 2,
   "metadata": {},
   "outputs": [],
   "source": [
    "import pyautogui"
   ]
  },
  {
   "cell_type": "code",
   "execution_count": null,
   "metadata": {},
   "outputs": [],
   "source": [
    "wh = pyautogui.size() # screen resolution\n"
   ]
  },
  {
   "cell_type": "code",
   "execution_count": null,
   "metadata": {},
   "outputs": [],
   "source": [
    "wh\n"
   ]
  },
  {
   "cell_type": "code",
   "execution_count": null,
   "metadata": {},
   "outputs": [],
   "source": [
    "#moving the mouse\n",
    "\n",
    "pyautogui.moveTo(100, 100)"
   ]
  },
  {
   "cell_type": "code",
   "execution_count": null,
   "metadata": {},
   "outputs": [],
   "source": [
    "pyautogui.moveTo(100, 100, duration = 4) # moves mouse to location (100,100) in 2 seconds\n"
   ]
  },
  {
   "cell_type": "code",
   "execution_count": null,
   "metadata": {},
   "outputs": [],
   "source": [
    "for i in range(10): # Move mouse in a square 10 times\n",
    "    print(i)\n",
    "    pyautogui.moveTo(100, 100, duration=0.25)\n",
    "    pyautogui.moveTo(200, 100, duration=0.25)\n",
    "    pyautogui.moveTo(200, 200, duration=0.25)\n",
    "    pyautogui.moveTo(100, 200, duration=0.25)\n"
   ]
  },
  {
   "cell_type": "code",
   "execution_count": null,
   "metadata": {},
   "outputs": [],
   "source": [
    "for i in range(10):\n",
    "    pyautogui.move(100, 0, duration=0.25)   # right\n",
    "    pyautogui.move(0, 100, duration=0.25)   # down\n",
    "    pyautogui.move(-100, 0, duration=0.25)  # left\n",
    "    pyautogui.move(0, -100, duration=0.25)  # up\n"
   ]
  },
  {
   "cell_type": "code",
   "execution_count": 8,
   "metadata": {},
   "outputs": [
    {
     "data": {
      "text/plain": [
       "Point(x=149, y=160)"
      ]
     },
     "execution_count": 8,
     "metadata": {},
     "output_type": "execute_result"
    }
   ],
   "source": [
    "pyautogui.position() # Get current mouse position.\n"
   ]
  },
  {
   "cell_type": "code",
   "execution_count": 10,
   "metadata": {},
   "outputs": [],
   "source": [
    "pyautogui.click(149, 160) #\n"
   ]
  },
  {
   "cell_type": "code",
   "execution_count": 16,
   "metadata": {},
   "outputs": [],
   "source": [
    "pyautogui.drag(100, 0, duration=0.2) \n"
   ]
  },
  {
   "cell_type": "code",
   "execution_count": 14,
   "metadata": {},
   "outputs": [],
   "source": [
    "# Code to draw a spiral\n",
    "import pyautogui, time\n",
    "time.sleep(5) # after 5 seconds delays\n",
    "pyautogui.click()    # Click to make the window active.\n",
    "distance = 300\n",
    "change = 20\n",
    "while distance > 0:\n",
    "    pyautogui.drag(distance, 0, duration=0.2)   # Move right.\n",
    "    distance = distance - change\n",
    "    pyautogui.drag(0, distance, duration=0.2)   # Move down.\n",
    "    pyautogui.drag(-distance, 0, duration=0.2)  # Move left.\n",
    "    distance = distance - change\n",
    "    pyautogui.drag(0, -distance, duration=0.2)  # Move up."
   ]
  },
  {
   "cell_type": "code",
   "execution_count": 19,
   "metadata": {},
   "outputs": [
    {
     "name": "stdout",
     "output_type": "stream",
     "text": [
      "Press ENTER to begin. Afterward, press ENTER to \"click\" the stopwatch. Press ENTER again to stop it!\n",
      "\n",
      "Started.\n",
      "\n",
      "Time taken: 0.32 \n",
      "\n",
      "Done.\n"
     ]
    }
   ],
   "source": [
    "# import time\n",
    "\n",
    "print('Press ENTER to begin. Afterward, press ENTER to \"click\" the stopwatch. Press ENTER again to stop it!')\n",
    "input()                    # press Enter to begin\n",
    "print('Started.')\n",
    "startTime = time.time()    # Set current time as the start time\n",
    "input()                    # Press Enter to stop\n",
    "totalTime = round(time.time() - startTime, 2) # On stopping the stopwatch, get the difference between the current time \n",
    "                                              # and start time rounded to 2 decimal places\n",
    "print('Time taken: %s ' % (totalTime), end='')\n",
    "print('\\n\\nDone.')\n",
    "\n",
    "#pseudocode /algorithm\n",
    "\n",
    "#time.time() is used to capture the current time."
   ]
  },
  {
   "cell_type": "code",
   "execution_count": 21,
   "metadata": {},
   "outputs": [
    {
     "name": "stdout",
     "output_type": "stream",
     "text": [
      "current balance available -  450\n"
     ]
    }
   ],
   "source": [
    "#Classes  , Objects, Inheritance...\n",
    "class customer:\n",
    "    \n",
    "    #constructor\n",
    "    \n",
    "    def __init__(self):\n",
    "        self.balance=0\n",
    "    \n",
    "    def deposit(self,amount):\n",
    "        self.balance+=amount\n",
    "        \n",
    "    def withdraw(self,amount):\n",
    "        self.balance-=amount\n",
    "        \n",
    "    def getbalance(self):\n",
    "        print('current balance available - ',self.balance)\n",
    "    \n",
    "sanjeev = customer()\n",
    "sanjeev.deposit(500)\n",
    "sanjeev.withdraw(50)\n",
    "\n",
    "sanjeev.getbalance()"
   ]
  },
  {
   "cell_type": "code",
   "execution_count": 23,
   "metadata": {},
   "outputs": [
    {
     "name": "stdout",
     "output_type": "stream",
     "text": [
      "i like salty\n"
     ]
    }
   ],
   "source": [
    "#inheritance\n",
    "class Father:\n",
    "    def foodhabit(self):\n",
    "        print('i like salty')\n",
    "        \n",
    "class Son(Father): # inheritance\n",
    "    pass\n",
    "\n",
    "s = Son()\n",
    "s.foodhabit()"
   ]
  },
  {
   "cell_type": "code",
   "execution_count": 24,
   "metadata": {},
   "outputs": [
    {
     "name": "stdout",
     "output_type": "stream",
     "text": [
      "8.5\n"
     ]
    }
   ],
   "source": [
    "class customer:\n",
    "    \n",
    "    def getInterestRate():\n",
    "        return 8.5\n",
    "    \n",
    "x = customer.getInterestRate()\n",
    "\n",
    "print(x)"
   ]
  }
 ],
 "metadata": {
  "kernelspec": {
   "display_name": "Python 3",
   "language": "python",
   "name": "python3"
  },
  "language_info": {
   "codemirror_mode": {
    "name": "ipython",
    "version": 3
   },
   "file_extension": ".py",
   "mimetype": "text/x-python",
   "name": "python",
   "nbconvert_exporter": "python",
   "pygments_lexer": "ipython3",
   "version": "3.8.3"
  }
 },
 "nbformat": 4,
 "nbformat_minor": 4
}
