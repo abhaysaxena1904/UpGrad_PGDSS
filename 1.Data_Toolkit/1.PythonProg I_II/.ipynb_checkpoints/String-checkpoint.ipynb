{
 "cells": [
  {
   "cell_type": "code",
   "execution_count": 3,
   "metadata": {},
   "outputs": [
    {
     "name": "stdout",
     "output_type": "stream",
     "text": [
      "Phillihp\n",
      "phillihp\n",
      "1\n"
     ]
    }
   ],
   "source": [
    "#Print palindrome String\n",
    "\n",
    "s = input()\n",
    "\n",
    "s=s.lower()\n",
    "r=''\n",
    "for i in s:\n",
    "    r=i+r\n",
    "    \n",
    "print(r)\n",
    "\n",
    "if r==s:\n",
    "    print(1)\n",
    "else:\n",
    "    print(0)"
   ]
  },
  {
   "cell_type": "code",
   "execution_count": 19,
   "metadata": {},
   "outputs": [
    {
     "name": "stdout",
     "output_type": "stream",
     "text": [
      "abhay\n",
      "yahba\n",
      "No\n"
     ]
    }
   ],
   "source": [
    "#Print palindrome String\n",
    "\n",
    "s = input()\n",
    "\n",
    "s=s.lower()\n",
    "\n",
    "print(s[::-1])\n",
    "\n",
    "if s == s[::-1]: \n",
    "    print(\"Yes\") \n",
    "else: \n",
    "    print(\"No\") "
   ]
  },
  {
   "cell_type": "code",
   "execution_count": 29,
   "metadata": {},
   "outputs": [
    {
     "name": "stdout",
     "output_type": "stream",
     "text": [
      "ABhay\n",
      "No\n"
     ]
    }
   ],
   "source": [
    "#Print palindrome String\n",
    "\n",
    "s = input()\n",
    "\n",
    "s=s.lower()\n",
    "\n",
    "for i in range(0, int(len(s)/2)):  \n",
    "        if s[i] != s[len(s)-i-1]: \n",
    "            f='No'\n",
    "        else:\n",
    "            f='Yes'\n",
    "\n",
    "print(f)"
   ]
  },
  {
   "cell_type": "code",
   "execution_count": 41,
   "metadata": {},
   "outputs": [
    {
     "name": "stdout",
     "output_type": "stream",
     "text": [
      "['python', 'in', 'coding', 'love', 'I']\n",
      "python in coding love I\n"
     ]
    }
   ],
   "source": [
    "#reverse Words of the sentence\n",
    "\n",
    "#sentence=input()\n",
    "sentence='I love coding in python'\n",
    "\n",
    "word= sentence.split(' ')\n",
    "\n",
    "#ans= word[::-1]\n",
    "#print(ans)\n",
    "#OR\n",
    "word.reverse()\n",
    "print(word)\n",
    "\n",
    "ans = ' '.join(word)\n",
    "print(ans)"
   ]
  },
  {
   "cell_type": "code",
   "execution_count": 50,
   "metadata": {},
   "outputs": [
    {
     "name": "stdout",
     "output_type": "stream",
     "text": [
      "['Data', 'Science']\n",
      "Data_Science\n"
     ]
    }
   ],
   "source": [
    "#No Space\n",
    "\n",
    "#s= input()\n",
    "s='data Science'\n",
    "\n",
    "s=s.lower()\n",
    "words= s.split()\n",
    "final_list= [w[0].upper()+w[1:] for w in words]\n",
    "\n",
    "ans= '_'.join(final_list)\n",
    "\n",
    "print(final_list)\n",
    "print(ans)\n"
   ]
  },
  {
   "cell_type": "code",
   "execution_count": 53,
   "metadata": {},
   "outputs": [
    {
     "name": "stdout",
     "output_type": "stream",
     "text": [
      "asadvv\n",
      "aasdvv\n"
     ]
    }
   ],
   "source": [
    "# move vowel\n",
    "s=input()\n",
    "\n",
    "vowel='aeiouAEIOU'\n",
    "\n",
    "v=''\n",
    "o=''\n",
    "for i in s:\n",
    "    if i in vowel:\n",
    "        v=v+i\n",
    "    else:\n",
    "        o=o+i\n",
    "        \n",
    "ans= v+o\n",
    "print(ans)"
   ]
  },
  {
   "cell_type": "code",
   "execution_count": 55,
   "metadata": {},
   "outputs": [
    {
     "name": "stdout",
     "output_type": "stream",
     "text": [
      "absh\n"
     ]
    }
   ],
   "source": [
    "#common prefix\n",
    "s1='abshdksajd'\n",
    "s2='abshiehand'\n",
    "s1=s1.lower()\n",
    "s2=s2.lower()\n",
    "\n",
    "l1=len(s1)\n",
    "l2= len(s2)\n",
    "min_l= min(l1,l2)\n",
    "\n",
    "for i in range(min_l):\n",
    "    if s1[i]!=s2[i]:\n",
    "        break\n",
    "if i==0:\n",
    "    print(-1)\n",
    "else:\n",
    "    print(s1[:i])\n"
   ]
  },
  {
   "cell_type": "code",
   "execution_count": 62,
   "metadata": {},
   "outputs": [
    {
     "name": "stdout",
     "output_type": "stream",
     "text": [
      "True\n"
     ]
    }
   ],
   "source": [
    "#Anagram: Two words are called anagrams if they have the exact same letters but in a different order. For example, 'night' and 'thing' are anagrams.\n",
    "s1='thing'\n",
    "s2='night'\n",
    "\n",
    "def anagrams(s1,s2):\n",
    "    if len(s1)!=len(s2):\n",
    "        return False\n",
    "    for i in range(len(s1)):\n",
    "        if s1.count(s1[i])!= s2.count(s1[i]):\n",
    "            return False\n",
    "    else:\n",
    "        return True\n",
    "    \n",
    "print(anagrams(s1,s2))\n",
    "   "
   ]
  },
  {
   "cell_type": "code",
   "execution_count": 12,
   "metadata": {},
   "outputs": [
    {
     "name": "stdout",
     "output_type": "stream",
     "text": [
      "A 1\n",
      "b 1\n",
      "h 1\n",
      "a 4\n",
      "y 1\n",
      "a 4\n",
      "a 4\n",
      "s 1\n",
      "a 4\n"
     ]
    }
   ],
   "source": [
    "s1='Abhayaasa'\n",
    "for i in range(len(s1)):\n",
    "    s=s1.count(s1[i])\n",
    "    print(s1[i],end=' ')\n",
    "    print(s)"
   ]
  },
  {
   "cell_type": "code",
   "execution_count": 23,
   "metadata": {},
   "outputs": [
    {
     "data": {
      "text/plain": [
       "2"
      ]
     },
     "execution_count": 23,
     "metadata": {},
     "output_type": "execute_result"
    }
   ],
   "source": [
    "string=\"Abhay\"\n",
    "\n",
    "string.lower().count('a')"
   ]
  },
  {
   "cell_type": "code",
   "execution_count": 28,
   "metadata": {},
   "outputs": [
    {
     "name": "stdout",
     "output_type": "stream",
     "text": [
      "abcde\n",
      "ACB\n",
      "de\n"
     ]
    }
   ],
   "source": [
    "#take input on your own\n",
    "string1=input()\n",
    "string2=input()\n",
    "\n",
    "\n",
    "#write code to find the extra character here\n",
    "ans=\"\"\n",
    "#we will iterate over longer string\n",
    "#first we find longer string\n",
    "if len(string2)>len(string1):\n",
    "    l=string2\n",
    "else:\n",
    "    l=string1\n",
    "#we then iterate over longer string checking count\n",
    "#of that character in both strings\n",
    "\n",
    "for i in l:\n",
    "    if string1.lower().count(i)!=string2.lower().count(i):\n",
    "        ans=ans+i\n",
    "        \n",
    "print(ans)"
   ]
  },
  {
   "cell_type": "code",
   "execution_count": 31,
   "metadata": {},
   "outputs": [
    {
     "name": "stdout",
     "output_type": "stream",
     "text": [
      "STR\n"
     ]
    }
   ],
   "source": [
    "in_str='21a'\n",
    "#inut has been taken for you\n",
    "#in_str=input()\n",
    "\n",
    "#find out if in_str is integer or not\n",
    "\n",
    "#first we strip all spaces in start and end of the string\n",
    "#in_str=in_str.strip()\n",
    "\n",
    "isstring=0 #we will make this variable as 1 if it fails to be an integer at any point \n",
    "nums='0123456789'\n",
    "#lets break it down in three possibilites: in_str is a positive integer\n",
    "#or a negative integer or a string\n",
    "\n",
    "#incase of positive or negative integer all characters other\n",
    "#than first character (0th index) must be in nums\n",
    "\n",
    "for i in in_str[1:]:\n",
    "    if i not in nums:\n",
    "        isstring=1\n",
    "\n",
    "#now we check first character (zeroth index)\n",
    "if in_str[0] not in nums+'-': \n",
    "    isstring=1 #it will be string if first element is not - or 0123456789\n",
    "\n",
    "if isstring:\n",
    "    print('STR')\n",
    "else:\n",
    "    print('INT')"
   ]
  },
  {
   "cell_type": "code",
   "execution_count": 47,
   "metadata": {},
   "outputs": [
    {
     "name": "stdout",
     "output_type": "stream",
     "text": [
      "56\n",
      "INT\n"
     ]
    }
   ],
   "source": [
    "inp=input()\n",
    "if inp.isnumeric()==True or inp.lstrip('-').isdigit()==True:\n",
    "    print('INT')\n",
    "else:\n",
    "    print('STR')"
   ]
  },
  {
   "cell_type": "code",
   "execution_count": 33,
   "metadata": {
    "scrolled": true
   },
   "outputs": [
    {
     "name": "stdout",
     "output_type": "stream",
     "text": [
      "  123,   12\n",
      "12312\n"
     ]
    }
   ],
   "source": [
    "value=input()\n",
    "l= list(value)\n",
    "num=''\n",
    "for i in range(len(l)):\n",
    "    if l[i].isdigit()==True:\n",
    "        num=num+l[i]\n",
    "print(num)"
   ]
  },
  {
   "cell_type": "code",
   "execution_count": 16,
   "metadata": {},
   "outputs": [
    {
     "name": "stdout",
     "output_type": "stream",
     "text": [
      "1\n",
      "2\n",
      "3\n",
      "4\n",
      ",\n",
      "5\n",
      "6\n",
      "7\n"
     ]
    }
   ],
   "source": [
    "v='1234,567'\n",
    "for i in range(len(v)):\n",
    "    print(v[i])"
   ]
  },
  {
   "cell_type": "code",
   "execution_count": 23,
   "metadata": {},
   "outputs": [
    {
     "name": "stdout",
     "output_type": "stream",
     "text": [
      "123\n"
     ]
    },
    {
     "data": {
      "text/plain": [
       "False"
      ]
     },
     "execution_count": 23,
     "metadata": {},
     "output_type": "execute_result"
    }
   ],
   "source": [
    "v=input()\n",
    "isinstance(v,int)"
   ]
  },
  {
   "cell_type": "code",
   "execution_count": 54,
   "metadata": {},
   "outputs": [
    {
     "name": "stdout",
     "output_type": "stream",
     "text": [
      "asdf2\n"
     ]
    },
    {
     "data": {
      "text/plain": [
       "False"
      ]
     },
     "execution_count": 54,
     "metadata": {},
     "output_type": "execute_result"
    }
   ],
   "source": [
    "v=input()\n",
    "v.isdigit()"
   ]
  },
  {
   "cell_type": "code",
   "execution_count": 62,
   "metadata": {},
   "outputs": [
    {
     "data": {
      "text/plain": [
       "97"
      ]
     },
     "execution_count": 62,
     "metadata": {},
     "output_type": "execute_result"
    }
   ],
   "source": [
    "ord('a')\n"
   ]
  },
  {
   "cell_type": "code",
   "execution_count": 68,
   "metadata": {},
   "outputs": [
    {
     "data": {
      "text/plain": [
       "'\\x19'"
      ]
     },
     "execution_count": 68,
     "metadata": {},
     "output_type": "execute_result"
    }
   ],
   "source": [
    "chr(25)"
   ]
  },
  {
   "cell_type": "code",
   "execution_count": 81,
   "metadata": {},
   "outputs": [
    {
     "name": "stdout",
     "output_type": "stream",
     "text": [
      "w\n"
     ]
    }
   ],
   "source": [
    "s='yAbha'\n",
    "step=4\n",
    "x=''\n",
    "c=s.index('y') #this will find the index of the character in the list\n",
    "c=(c-step)%26 #mod 26 will give us the value in 0-25\n",
    "x=x+lower[char_num]\n",
    "print(x)"
   ]
  },
  {
   "cell_type": "code",
   "execution_count": 67,
   "metadata": {},
   "outputs": [
    {
     "name": "stdout",
     "output_type": "stream",
     "text": [
      "['ytKveh', 4]\n",
      "upGrad\n"
     ]
    }
   ],
   "source": [
    "#take input on your own\n",
    "#we use ast.literal_eval to take input\n",
    "import ast\n",
    "inp=ast.literal_eval(input())\n",
    "#start writing your code from here\n",
    "\n",
    "#password is what is written in diary\n",
    "password=inp[0]\n",
    "step=inp[1]\n",
    "\n",
    "\n",
    "#we first make list of alphabets in same order \n",
    "#we will now use this to travel the number of steps\n",
    "lower=[chr(i) for i in range(ord('a'), ord('z')+1)]\n",
    "upper=[chr(i) for i in range(ord('A'), ord('Z')+1)]\n",
    "\n",
    "#we will take each character from password, take steps and find the real\n",
    "#character corresponding to it and append it in real_pass string\n",
    "real_pass=''\n",
    "\n",
    "for i in password:\n",
    "   #because it is given in question that the string password will be only of alphabets\n",
    "   #its either in lower or in upper \n",
    "    if i in lower:\n",
    "        char_num=lower.index(i) #this will find the index of the character in the list\n",
    "        char_num=(char_num-step)%26 #mod 26 will give us the value in 0-25\n",
    "        real_pass=real_pass+lower[char_num] #append it in real_pass\n",
    "    \n",
    "    #same if it is in upper \n",
    "    else: \n",
    "        char_num=upper.index(i)\n",
    "        char_num=(char_num-step+26)%26\n",
    "        real_pass=real_pass+upper[char_num]\n",
    "\n",
    "\n",
    "print(real_pass)"
   ]
  },
  {
   "cell_type": "code",
   "execution_count": null,
   "metadata": {},
   "outputs": [],
   "source": []
  },
  {
   "cell_type": "code",
   "execution_count": 90,
   "metadata": {},
   "outputs": [
    {
     "name": "stdout",
     "output_type": "stream",
     "text": [
      "3\n",
      "3\n",
      "3\n",
      "3\n",
      "3\n",
      "3\n",
      "3\n",
      "3\n",
      "3\n"
     ]
    }
   ],
   "source": [
    "#n=input()\n",
    "n=3\n",
    "i=0\n",
    "j=0\n",
    "\n",
    "for i in range(int(n)):\n",
    "    for j in range(int(n)):\n",
    "        print(n)"
   ]
  },
  {
   "cell_type": "code",
   "execution_count": 164,
   "metadata": {
    "scrolled": true
   },
   "outputs": [
    {
     "name": "stdout",
     "output_type": "stream",
     "text": [
      "12\n",
      "1212\n",
      "121212\n",
      "12121212\n",
      "1212121212\n",
      "121212121212\n",
      "12121212121212\n",
      "1212121212121212\n",
      "121212121212121212\n",
      "12121212121212121212\n",
      "1212121212121212121212\n",
      "121212121212121212121212\n"
     ]
    }
   ],
   "source": [
    "n=3\n",
    "out=0\n",
    "p=''\n",
    "for i in range(1,int(n)+1):\n",
    "    j=int(str(n)*i)\n",
    "    out=out+j\n",
    "print(out)"
   ]
  },
  {
   "cell_type": "code",
   "execution_count": 83,
   "metadata": {},
   "outputs": [
    {
     "data": {
      "text/plain": [
       "3"
      ]
     },
     "execution_count": 83,
     "metadata": {},
     "output_type": "execute_result"
    }
   ],
   "source": [
    "n='3'\n",
    "int(n)"
   ]
  },
  {
   "cell_type": "code",
   "execution_count": 51,
   "metadata": {},
   "outputs": [
    {
     "ename": "TypeError",
     "evalue": "'int' object is not iterable",
     "output_type": "error",
     "traceback": [
      "\u001b[1;31m---------------------------------------------------------------------------\u001b[0m",
      "\u001b[1;31mTypeError\u001b[0m                                 Traceback (most recent call last)",
      "\u001b[1;32m<ipython-input-51-5b5670eb19ec>\u001b[0m in \u001b[0;36m<module>\u001b[1;34m\u001b[0m\n\u001b[0;32m      3\u001b[0m \u001b[1;32mfor\u001b[0m \u001b[0mi\u001b[0m \u001b[1;32min\u001b[0m \u001b[0mrange\u001b[0m\u001b[1;33m(\u001b[0m\u001b[0mlen\u001b[0m\u001b[1;33m(\u001b[0m\u001b[0mv\u001b[0m\u001b[1;33m)\u001b[0m\u001b[1;33m)\u001b[0m\u001b[1;33m:\u001b[0m\u001b[1;33m\u001b[0m\u001b[1;33m\u001b[0m\u001b[0m\n\u001b[0;32m      4\u001b[0m     \u001b[0masciii\u001b[0m\u001b[1;33m=\u001b[0m\u001b[0mord\u001b[0m\u001b[1;33m(\u001b[0m\u001b[0mv\u001b[0m\u001b[1;33m[\u001b[0m\u001b[0mi\u001b[0m\u001b[1;33m]\u001b[0m\u001b[1;33m)\u001b[0m\u001b[1;33m\u001b[0m\u001b[1;33m\u001b[0m\u001b[0m\n\u001b[1;32m----> 5\u001b[1;33m     \u001b[0ml\u001b[0m\u001b[1;33m.\u001b[0m\u001b[0mextend\u001b[0m\u001b[1;33m(\u001b[0m\u001b[0masciii\u001b[0m\u001b[1;33m)\u001b[0m\u001b[1;33m\u001b[0m\u001b[1;33m\u001b[0m\u001b[0m\n\u001b[0m\u001b[0;32m      6\u001b[0m \u001b[0mprint\u001b[0m\u001b[1;33m(\u001b[0m\u001b[0ml\u001b[0m\u001b[1;33m)\u001b[0m\u001b[1;33m\u001b[0m\u001b[1;33m\u001b[0m\u001b[0m\n",
      "\u001b[1;31mTypeError\u001b[0m: 'int' object is not iterable"
     ]
    }
   ],
   "source": [
    "v=['A','Z','a','z']\n",
    "l=[]\n",
    "for i in range(len(v)):\n",
    "    asciii=ord(v[i])\n",
    "    l.extend(asciii)\n",
    "print(l)"
   ]
  },
  {
   "cell_type": "code",
   "execution_count": 82,
   "metadata": {},
   "outputs": [
    {
     "name": "stdout",
     "output_type": "stream",
     "text": [
      "['apple', 'banana', 'cherry', 'Ford']\n"
     ]
    }
   ],
   "source": [
    "a = [\"apple\", \"banana\", \"cherry\"]\n",
    "b = [\"Ford\"]\n",
    "a.extend(b)\n",
    "print(a)"
   ]
  }
 ],
 "metadata": {
  "kernelspec": {
   "display_name": "Python 3",
   "language": "python",
   "name": "python3"
  },
  "language_info": {
   "codemirror_mode": {
    "name": "ipython",
    "version": 3
   },
   "file_extension": ".py",
   "mimetype": "text/x-python",
   "name": "python",
   "nbconvert_exporter": "python",
   "pygments_lexer": "ipython3",
   "version": "3.8.3"
  }
 },
 "nbformat": 4,
 "nbformat_minor": 4
}
