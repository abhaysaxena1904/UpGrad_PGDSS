{
 "cells": [
  {
   "cell_type": "code",
   "execution_count": null,
   "metadata": {},
   "outputs": [],
   "source": []
  },
  {
   "cell_type": "markdown",
   "metadata": {},
   "source": [
    "# Prime Numbers\n",
    "\n",
    "Description\n",
    "Determine whether a positive integer n is a prime number or not. Assume n > 1.\n",
    "\n",
    "\n",
    "\n",
    "Display “number entered is prime” if n is prime, otherwise display “number entered is not prime”.\n",
    "\n",
    "\n",
    "\n",
    "Sample Input:\n",
    "\n",
    "7\n",
    "\n",
    "Sample Output:\n",
    "\n",
    "number entered is prime"
   ]
  },
  {
   "cell_type": "code",
   "execution_count": 24,
   "metadata": {},
   "outputs": [],
   "source": [
    "#solution Goes Here.\n"
   ]
  },
  {
   "cell_type": "markdown",
   "metadata": {},
   "source": [
    "# Type of Triangle\n",
    "\n",
    "Description\n",
    "You're given a tuple with 3 integers representing the three sides of a triangle. Based on the three sides you need to determine the type of triangle based on both angles and sides, i.e. Acute, Obtuse, or Right angled triangle along with Equilateral, Isosceles, or Scalene. See examples for more details.\n",
    "\n",
    "\n",
    "\n",
    "Format:\n",
    "\n",
    "Input: A single tuple containing three integer values.\n",
    "\n",
    "Output:  A string telling the type of triangle. First print the type of triangle based on the angles and then based on the sides. So if a triangle is, say, acute and scalene, you need to print 'Acute' on the first line and 'Scalene' on the second line. If the sides are such that a triangle cannot be formed, print 'Invalid'. You need to print the following strings for each of the cases:\n",
    "\n",
    "Acute angled triangle: 'Acute'\n",
    "\n",
    "Right angled triangle: 'Right'\n",
    "\n",
    "Obtuse angled triangle: 'Obtuse'\n",
    "\n",
    "\n",
    "\n",
    "Equilateral triangle: 'Equilateral'\n",
    "\n",
    "Isosceles Triangle: 'Isosceles'\n",
    "\n",
    "Scalene Triangle: 'Scalene'\n",
    "\n",
    "\n",
    "\n",
    "Examples:\n",
    "\n",
    "Input 1:\n",
    "\n",
    "(4, 9, 10)\n",
    "\n",
    "Output 1:\n",
    "\n",
    "Obtuse\n",
    "\n",
    "Scalene\n",
    "\n",
    "Input 2:\n",
    "\n",
    "(3, 8, 12)\n",
    "\n",
    "Output 2:\n",
    "\n",
    "Invalid\n",
    "\n",
    "\n",
    "\n",
    "Explanation: In the first example, the triangle is obtuse according to the angles and since the three sides are unequal, it is a scalene triangle.\n",
    "\n",
    "In the second example, the 3 values are not satisfying the condition a+b > c, where c is the largest side. Hence, a triangle cannot be formed using these three sides which means the given input is 'Invalid'.\n",
    "\n"
   ]
  },
  {
   "cell_type": "code",
   "execution_count": 25,
   "metadata": {},
   "outputs": [],
   "source": [
    "# Solution Goes Here..\n",
    "\n"
   ]
  },
  {
   "cell_type": "markdown",
   "metadata": {},
   "source": [
    "# Using the Built-in Sort Function\n",
    "\n",
    "Description\n",
    "Sort a list of strings according to their length, with the smallest string appearing first.\n",
    "Hint: Use the appropriate ‘key’ in the sorted() function. If two strings are of the same length then their order — as in the original string — should be preserved.\n",
    "\n",
    "Example:\n",
    "Input 1:\n",
    "['I', 'love', 'to', 'code', 'in', 'Python']\n",
    "\n",
    "Output 1:\n",
    "[‘I’, ‘to’, ‘in’, ‘love’, ‘code’, ‘Python’]\n"
   ]
  },
  {
   "cell_type": "code",
   "execution_count": 26,
   "metadata": {},
   "outputs": [],
   "source": [
    "#Solution Goes Here...\n",
    "\n"
   ]
  },
  {
   "cell_type": "markdown",
   "metadata": {},
   "source": [
    "# Sort a vector of 0s, 1s, and 2s\n",
    "\n",
    "Description\n",
    "Write a code to sort a listof 0s, 1s, and 2s. Note that the time complexity should be O(n). \n",
    "Note: Do not use the built-in sorted() function.\n",
    "\n",
    "Example:\n",
    "Input 1:\n",
    "[0, 2, 0, 0, 1, 1, 2, 0, 1]\n",
    "Output 1:\n",
    "[0, 0, 0, 0, 1, 1, 1, 2, 2]\n",
    "\n",
    "\n"
   ]
  },
  {
   "cell_type": "code",
   "execution_count": 27,
   "metadata": {},
   "outputs": [],
   "source": [
    "#Solution goes Here...\n",
    "\n"
   ]
  },
  {
   "cell_type": "markdown",
   "metadata": {},
   "source": [
    "# Lego Stack\n",
    "\n",
    "\n",
    "Description\n",
    "You are given a row of Lego Blocks consisting of n blocks. All the blocks given have a square base whose side length is known. You need to stack the blocks over each other and create a vertical tower. Block-1 can go over Block-2 only if sideLength(Block-2)=>sideLength(Block-1).\n",
    "From the row of Lego blocks, you on only pick up either the leftmost or rightmost block.\n",
    "Print \"Possible\" if it is possible to stack all n cubes this way or else print \"Impossible\".\n",
    "\n",
    "Input Format:\n",
    "The input will contain a list of n integers representing the side length of each block's base in the row starting from the leftmost.\n",
    "\n",
    "Sample Input:\n",
    "[5 ,4, 2, 1, 4 ,5]\n",
    "\n",
    "Sample Output:\n",
    "Possible"
   ]
  },
  {
   "cell_type": "code",
   "execution_count": 28,
   "metadata": {},
   "outputs": [],
   "source": [
    "#Solution Goes Here...\n",
    "\n"
   ]
  },
  {
   "cell_type": "markdown",
   "metadata": {},
   "source": [
    "# Search in Valley\n",
    "Description\n",
    "This is another searching problem. The list given will have a valley trend. The valley_list is created by the following steps. A sorted list is randomly divided in two parts, not necessarily equal. The left part is then reversed and put back in place.\n",
    "\n",
    "sorted_list: [1, 2, 3, 4, 6, 7, 8, 11, 13, 14, 15, 16, 17]\n",
    "\n",
    "valley_list will be obtained by dividing this list at 13 and reversing the left half making it [13, 11, 8, 7, 6, 4, 3, 2, 1, 14, 15, 16, 17]. Find the index of the given integer key in the given valley_list.\n",
    "\n",
    "\n",
    "\n",
    "\n",
    "\n",
    "Can you do better then Linear search? Hint: The correct answer does this search in O(log(n)) time where n is the size of the valley_list, just like rotated list question.\n",
    "\n",
    "\n",
    "\n",
    "----------------------------------------------------------------------\n",
    "\n",
    "Input:\n",
    "\n",
    "first-line will contain the valley_list and the second line will contain the element key whose index you have to find in the valley_list. No repetition of elements in the valley_list.\n",
    "\n",
    "\n",
    "\n",
    "Output:\n",
    "\n",
    "If key is present in the valley_list, print out its index.\n",
    "\n",
    "If key is not present in the valley_list print -1\n",
    "\n",
    "\n",
    "\n",
    "----------------------------------------------------------------------\n",
    "\n",
    "Sample input:\n",
    "\n",
    "[13, 11, 8, 7, 6, 4, 3, 2, 1, 14, 15, 16, 17]\n",
    "\n",
    "8\n",
    "\n",
    "\n",
    "\n",
    "Sample output:\n",
    "\n",
    "2\n",
    "\n",
    "\n",
    "\n",
    "----------------------------------------------------------------------\n",
    "\n",
    "Sample input:\n",
    "\n",
    "[13, 11, 8, 7, 6, 4, 3, 2, 1, 14, 15, 16, 17]\n",
    "\n",
    "32\n",
    "\n",
    "\n",
    "\n",
    "Sample output:\n",
    "\n",
    "-1"
   ]
  },
  {
   "cell_type": "code",
   "execution_count": 29,
   "metadata": {},
   "outputs": [],
   "source": [
    "#Solution Goes Here..\n"
   ]
  },
  {
   "cell_type": "code",
   "execution_count": null,
   "metadata": {},
   "outputs": [],
   "source": []
  }
 ],
 "metadata": {
  "kernelspec": {
   "display_name": "Python 3",
   "language": "python",
   "name": "python3"
  },
  "language_info": {
   "codemirror_mode": {
    "name": "ipython",
    "version": 3
   },
   "file_extension": ".py",
   "mimetype": "text/x-python",
   "name": "python",
   "nbconvert_exporter": "python",
   "pygments_lexer": "ipython3",
   "version": "3.8.3"
  }
 },
 "nbformat": 4,
 "nbformat_minor": 2
}
