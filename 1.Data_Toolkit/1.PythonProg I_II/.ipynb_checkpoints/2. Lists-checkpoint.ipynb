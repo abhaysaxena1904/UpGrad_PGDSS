{
 "cells": [
  {
   "cell_type": "code",
   "execution_count": null,
   "metadata": {},
   "outputs": [],
   "source": []
  },
  {
   "cell_type": "code",
   "execution_count": null,
   "metadata": {},
   "outputs": [],
   "source": [
    "#Print Min in a list\n",
    "import ast\n",
    "input_str = input()\n",
    "input_list = ast.literal_eval(input_str)\n",
    "\n",
    "if len(input_list) ==0:\n",
    "    print('No element found')\n",
    "\n",
    "else:\n",
    "    m=input_list[0]\n",
    "    for i in range(len(input_list)):\n",
    "        if input_list[i]<m:\n",
    "            m=input_list[i]\n",
    "    \n",
    "print(m)    "
   ]
  },
  {
   "cell_type": "code",
   "execution_count": null,
   "metadata": {},
   "outputs": [],
   "source": [
    "l=[2,4,6,8,-10]\n",
    "check=4\n",
    "sum=0\n",
    "for i in range(len(l)):\n",
    "    sum=sum+l[i]\n",
    "avg= sum/len(l)\n",
    "\n",
    "if check > avg:\n",
    "    e=True\n",
    "else:\n",
    "    e=False"
   ]
  },
  {
   "cell_type": "code",
   "execution_count": null,
   "metadata": {},
   "outputs": [],
   "source": [
    "import ast\n",
    "team = list(ast.literal_eval(input()))\n",
    "a_l = list(ast.literal_eval(input()))\n",
    "\n",
    "def eleg(l,check):\n",
    "    sum=0\n",
    "    for i in range(len(l)):\n",
    "        sum=sum+l[i]\n",
    "    avg = sum/len(l)\n",
    "\n",
    "    if check > avg:\n",
    "        return 1\n",
    "    else:\n",
    "        return 0\n",
    "    \n",
    "for a in a_l:\n",
    "    e = eleg(team,a)\n",
    "    if e==1:\n",
    "        team.append(a)\n",
    "        \n",
    "print(team)\n",
    "    \n"
   ]
  },
  {
   "cell_type": "code",
   "execution_count": null,
   "metadata": {},
   "outputs": [],
   "source": [
    "l = ast.literal_eval(input())\n",
    "l"
   ]
  },
  {
   "cell_type": "code",
   "execution_count": null,
   "metadata": {},
   "outputs": [],
   "source": [
    "#mport ast\n",
    "#nput_str1 = input()\n",
    "#nput_list1 = ast.literal_eval(input_str1)\n",
    "#events = input_list1\n",
    "events =[[3,4],[5,10],[7,11]]\n",
    "\n",
    "#wedding = int(input())\n",
    "wedding = 8\n",
    "count=0\n",
    "\n",
    "for eve in events:\n",
    "    if wedding in range(eve[0],eve[-1]):\n",
    "        for i in range(eve[0],eve[-1]):\n",
    "            if i==wedding:\n",
    "                count = count+1#\n",
    "#for eve in events:\n",
    " #   if wedding in range(eve[0],eve[-1]+1):\n",
    "  #      count = count+1\n",
    "    \n",
    "print(count)\n"
   ]
  },
  {
   "cell_type": "code",
   "execution_count": null,
   "metadata": {},
   "outputs": [],
   "source": [
    "for i in range(eve[0],eve[-1]):\n",
    "        if i==wedding:\n",
    "            print(i)"
   ]
  },
  {
   "cell_type": "code",
   "execution_count": null,
   "metadata": {},
   "outputs": [],
   "source": [
    "import ast\n",
    "a=ast.literal_eval(input())\n",
    "m=a[0]\n",
    "n=a[1]\n",
    "\n",
    "f=[0]*n\n",
    "f= [list(f) for i in range(m)]\n",
    "\n",
    "for i in range(m):\n",
    "    for j in range(n):\n",
    "        if i==0 or i==(m-1) or j==0 or j==(n-1):\n",
    "            f[i][j]=1\n",
    "\n",
    "for i in f:\n",
    "    print(i)"
   ]
  },
  {
   "cell_type": "code",
   "execution_count": null,
   "metadata": {},
   "outputs": [],
   "source": [
    "# import ast\n",
    "# mylist=ast.literal_eval(input())\n",
    "mylist= [2,3,4,5,2,3,4,1,2]\n",
    "count=[]\n",
    "newlist=list(set(mylist))\n",
    "mylist.sort() \n",
    "\n",
    "\n",
    "    "
   ]
  },
  {
   "cell_type": "code",
   "execution_count": null,
   "metadata": {},
   "outputs": [],
   "source": [
    "# Example on list comprehension\n",
    "l1 = [\"automobiles\", \"Honda\", \"Benz\", \"Suzuki\", \"Morris Garages\" ]\n",
    "# Create a list consisting of length of each element from the above list\n",
    "l2 = [len(i) for i in l1]\n",
    "print(l2)\n",
    "for i,j in zip(l1,l2):\n",
    "    print(i, \" - \", j)"
   ]
  },
  {
   "cell_type": "code",
   "execution_count": 2,
   "metadata": {},
   "outputs": [
    {
     "name": "stdout",
     "output_type": "stream",
     "text": [
      "Possible\n"
     ]
    }
   ],
   "source": [
    "# Practice Question I\n",
    "sides = [5 ,4, 2, 1, 4 ,5]\n",
    "\n",
    "if sides[0]>=sides[-1] or sides[0]>=sides[1]:\n",
    "    print('Possible')\n",
    "else:\n",
    "    print('Impossible')"
   ]
  },
  {
   "cell_type": "code",
   "execution_count": 11,
   "metadata": {},
   "outputs": [
    {
     "name": "stdout",
     "output_type": "stream",
     "text": [
      "[5, 5, 5, 5, 5, 5]\n",
      "Possible\n"
     ]
    }
   ],
   "source": [
    "sides = [5 ,4, 2, 1, 4 ,5]\n",
    "\n",
    "#we will make a tower by taking the larger lego(brick) from one of the ends of the list and then remove that element\n",
    "tower=[]\n",
    "\n",
    "while sides: #while sides is not empty\n",
    "    if sides[0]>=sides[-1]:\n",
    "        tower.append(int(sides[0]))\n",
    "        sides.pop()\n",
    "    else:\n",
    "        tower.append(int(sides[-1]))\n",
    "        sides.pop(-1)\n",
    "print(tower)\n",
    "#now we check if all the elements are in descending order in tower\n",
    "flag=1\n",
    "for i in range(len(tower)-2):\n",
    "    if tower[i]<tower[i+1]:\n",
    "        flag=0\n",
    "        break\n",
    "if(flag==1):\n",
    "    print('Possible')\n",
    "else:\n",
    "    print('Impossible')\n"
   ]
  },
  {
   "cell_type": "code",
   "execution_count": 2,
   "metadata": {},
   "outputs": [
    {
     "name": "stdout",
     "output_type": "stream",
     "text": [
      "Possible\n"
     ]
    }
   ],
   "source": [
    "sides = [5, 4, 2, 1, 4, 5]\n",
    "\n",
    "l=len(sides)\n",
    "i = 0 \n",
    "diff=[(sides[i]-sides[i+1]) for i in range(l-1)]\n",
    "\n",
    "while(i<l-1 and diff[i]>=0):\n",
    "    i+=1 \n",
    "while(i<l-1 and diff[i]<=0):\n",
    "    i+=1\n",
    "if(i==l-1): \n",
    "    print(\"Possible\") \n",
    "else:\n",
    "    print(\"Impossible\")"
   ]
  },
  {
   "cell_type": "code",
   "execution_count": 1,
   "metadata": {},
   "outputs": [
    {
     "name": "stdout",
     "output_type": "stream",
     "text": [
      "5\n",
      "14641\n"
     ]
    }
   ],
   "source": [
    "# PASCELS triangle\n",
    "n = int(input())\n",
    "\n",
    "l= 11**(n-1)\n",
    "print(l)"
   ]
  },
  {
   "cell_type": "code",
   "execution_count": 5,
   "metadata": {},
   "outputs": [
    {
     "name": "stdout",
     "output_type": "stream",
     "text": [
      "6\n",
      "[1, 5, 10, 10, 5, 1]\n"
     ]
    }
   ],
   "source": [
    "n=int(input())\n",
    "def pascal(n):\n",
    "    n=n-1\n",
    "    line=[1]    \n",
    "    for k in range(max(n,0)):\n",
    "        line.append(int(line[k]*(n-k)/(k+1)))\n",
    "    return line\n",
    "print(pascal(n))"
   ]
  },
  {
   "cell_type": "code",
   "execution_count": 8,
   "metadata": {},
   "outputs": [
    {
     "name": "stdout",
     "output_type": "stream",
     "text": [
      "[1,2,3,4,5,6,7,8,9]\n"
     ]
    },
    {
     "ename": "TypeError",
     "evalue": "object of type 'int' has no len()",
     "output_type": "error",
     "traceback": [
      "\u001b[1;31m---------------------------------------------------------------------------\u001b[0m",
      "\u001b[1;31mTypeError\u001b[0m                                 Traceback (most recent call last)",
      "\u001b[1;32m<ipython-input-8-bca02d9d3162>\u001b[0m in \u001b[0;36m<module>\u001b[1;34m\u001b[0m\n\u001b[0;32m      6\u001b[0m \u001b[0mk\u001b[0m\u001b[1;33m=\u001b[0m\u001b[0minput_list\u001b[0m\u001b[1;33m[\u001b[0m\u001b[1;36m1\u001b[0m\u001b[1;33m]\u001b[0m\u001b[1;33m\u001b[0m\u001b[1;33m\u001b[0m\u001b[0m\n\u001b[0;32m      7\u001b[0m \u001b[1;33m\u001b[0m\u001b[0m\n\u001b[1;32m----> 8\u001b[1;33m \u001b[0mchunk\u001b[0m\u001b[1;33m=\u001b[0m\u001b[1;33m[\u001b[0m\u001b[0mlis\u001b[0m\u001b[1;33m[\u001b[0m\u001b[0mi\u001b[0m\u001b[1;33m:\u001b[0m\u001b[0mi\u001b[0m\u001b[1;33m+\u001b[0m\u001b[0mk\u001b[0m\u001b[1;33m]\u001b[0m \u001b[1;32mfor\u001b[0m \u001b[0mi\u001b[0m \u001b[1;32min\u001b[0m \u001b[0mrange\u001b[0m\u001b[1;33m(\u001b[0m\u001b[1;36m0\u001b[0m\u001b[1;33m,\u001b[0m\u001b[0mlen\u001b[0m\u001b[1;33m(\u001b[0m\u001b[0mlis\u001b[0m\u001b[1;33m)\u001b[0m\u001b[1;33m,\u001b[0m\u001b[0mk\u001b[0m\u001b[1;33m)\u001b[0m\u001b[1;33m]\u001b[0m\u001b[1;33m\u001b[0m\u001b[1;33m\u001b[0m\u001b[0m\n\u001b[0m\u001b[0;32m      9\u001b[0m \u001b[0mprint\u001b[0m\u001b[1;33m(\u001b[0m\u001b[1;34m'\\n'\u001b[0m\u001b[1;33m.\u001b[0m\u001b[0mjoin\u001b[0m\u001b[1;33m(\u001b[0m\u001b[0mmap\u001b[0m\u001b[1;33m(\u001b[0m\u001b[0mstr\u001b[0m\u001b[1;33m,\u001b[0m\u001b[0mchunk\u001b[0m\u001b[1;33m)\u001b[0m\u001b[1;33m)\u001b[0m\u001b[1;33m)\u001b[0m\u001b[1;33m\u001b[0m\u001b[1;33m\u001b[0m\u001b[0m\n\u001b[0;32m     10\u001b[0m \u001b[1;33m\u001b[0m\u001b[0m\n",
      "\u001b[1;31mTypeError\u001b[0m: object of type 'int' has no len()"
     ]
    }
   ],
   "source": [
    "#Break the list\n",
    "import ast\n",
    "input_str = input()\n",
    "input_list = ast.literal_eval(input_str)\n",
    "lis=input_list[0]\n",
    "k=input_list[1]\n",
    "\n",
    "chunk=[lis[i:i+k] for i in range(0,len(lis),k)]\n",
    "print('\\n'.join(map(str,chunk)))\n",
    "\n",
    "\n"
   ]
  },
  {
   "cell_type": "code",
   "execution_count": 10,
   "metadata": {},
   "outputs": [
    {
     "name": "stdout",
     "output_type": "stream",
     "text": [
      "Pattern Printing\n"
     ]
    },
    {
     "ename": "SyntaxError",
     "evalue": "unexpected EOF while parsing (<unknown>, line 1)",
     "output_type": "error",
     "traceback": [
      "Traceback \u001b[1;36m(most recent call last)\u001b[0m:\n",
      "  File \u001b[0;32m\"C:\\Users\\91975\\anaconda3\\lib\\site-packages\\IPython\\core\\interactiveshell.py\"\u001b[0m, line \u001b[0;32m3343\u001b[0m, in \u001b[0;35mrun_code\u001b[0m\n    exec(code_obj, self.user_global_ns, self.user_ns)\n",
      "  File \u001b[0;32m\"<ipython-input-10-c93483496aa8>\"\u001b[0m, line \u001b[0;32m4\u001b[0m, in \u001b[0;35m<module>\u001b[0m\n    input_list = ast.literal_eval(input_str)\n",
      "  File \u001b[0;32m\"C:\\Users\\91975\\anaconda3\\lib\\ast.py\"\u001b[0m, line \u001b[0;32m59\u001b[0m, in \u001b[0;35mliteral_eval\u001b[0m\n    node_or_string = parse(node_or_string, mode='eval')\n",
      "\u001b[1;36m  File \u001b[1;32m\"C:\\Users\\91975\\anaconda3\\lib\\ast.py\"\u001b[1;36m, line \u001b[1;32m47\u001b[1;36m, in \u001b[1;35mparse\u001b[1;36m\u001b[0m\n\u001b[1;33m    return compile(source, filename, mode, flags,\u001b[0m\n",
      "\u001b[1;36m  File \u001b[1;32m\"<unknown>\"\u001b[1;36m, line \u001b[1;32m1\u001b[0m\n\u001b[1;33m    Pattern Printing\u001b[0m\n\u001b[1;37m            ^\u001b[0m\n\u001b[1;31mSyntaxError\u001b[0m\u001b[1;31m:\u001b[0m unexpected EOF while parsing\n"
     ]
    }
   ],
   "source": [
    "#Second Maximum Number in a List\n",
    "import ast\n",
    "input_str = input()\n",
    "input_list = ast.literal_eval(input_str)\n",
    "\n",
    "second_largest=set(input_list)\n",
    "if len(second_largest)>1:\n",
    "    second_largest.remove(max(second_largest))\n",
    "    print(max(second_largest))\n",
    "else:\n",
    "    print('not present')\n"
   ]
  },
  {
   "cell_type": "code",
   "execution_count": 12,
   "metadata": {},
   "outputs": [
    {
     "name": "stdout",
     "output_type": "stream",
     "text": [
      "5\n",
      "555555555\n",
      "544444445\n",
      "543333345\n",
      "543222345\n",
      "543212345\n",
      "543222345\n",
      "543333345\n",
      "544444445\n",
      "555555555\n"
     ]
    }
   ],
   "source": [
    "#Pattern Printing\n",
    "#input n taken here\n",
    "n=int(input())\n",
    "\n",
    "#we will make a list of lists with just [1] in it. We will run a for loop from i= 2 to n and in each iteration\n",
    "#we will add [i]*(2i-3) in top of the list and and in bottom\n",
    "#then add i on both sides of all sub_lists \n",
    "\n",
    "answer=[[1]]\n",
    "for i in range(2, n+1):\n",
    "    t=[i]*((2*i)-1)\n",
    "    answer.insert(0, t)\n",
    "    answer.append(t)\n",
    "    for a in answer:\n",
    "            if(a[0]<i):\n",
    "                a.insert(0,i)\n",
    "            if(a[-1]<i):         \n",
    "                a.append(i)\n",
    "\n",
    "answerfinal=[]\n",
    "#we join the elements of the string without space\n",
    "for a in answer:\n",
    "    answerfinal.append(\"\".join(str(j) for j in a))\n",
    "#print \n",
    "for a in answerfinal:\n",
    "    print(a)\n"
   ]
  },
  {
   "cell_type": "code",
   "execution_count": null,
   "metadata": {},
   "outputs": [],
   "source": []
  }
 ],
 "metadata": {
  "kernelspec": {
   "display_name": "Python 3",
   "language": "python",
   "name": "python3"
  },
  "language_info": {
   "codemirror_mode": {
    "name": "ipython",
    "version": 3
   },
   "file_extension": ".py",
   "mimetype": "text/x-python",
   "name": "python",
   "nbconvert_exporter": "python",
   "pygments_lexer": "ipython3",
   "version": "3.8.3"
  }
 },
 "nbformat": 4,
 "nbformat_minor": 4
}
