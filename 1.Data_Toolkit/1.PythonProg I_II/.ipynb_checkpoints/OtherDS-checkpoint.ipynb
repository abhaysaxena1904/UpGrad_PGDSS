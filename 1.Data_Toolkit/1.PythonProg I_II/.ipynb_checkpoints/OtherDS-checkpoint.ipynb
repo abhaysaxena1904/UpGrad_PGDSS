{
 "cells": [
  {
   "cell_type": "code",
   "execution_count": 8,
   "metadata": {},
   "outputs": [],
   "source": [
    "A={1,2,3}\n",
    "B={2,3,4}\n",
    "C={3,4,5}\n",
    "\n",
    "#set.intersection(A, B, C)\n",
    "#A.intersection(B, C)\n",
    "#A.intersection([B, C])\n",
    "#set.intersection([A, B, C])"
   ]
  },
  {
   "cell_type": "code",
   "execution_count": 15,
   "metadata": {},
   "outputs": [
    {
     "name": "stdout",
     "output_type": "stream",
     "text": [
      "[1,2,3,3,4,5,5,1,2]\n",
      "[1, 2, 3, 4, 5]\n"
     ]
    }
   ],
   "source": [
    "import ast\n",
    "\n",
    "mylist=ast.literal_eval(input())\n",
    "\n",
    "d={}\n",
    "a\n",
    "for i in mylist:\n",
    "    if i not in d:\n",
    "        d[i]=1\n",
    "    else:\n",
    "        d[i]=d[i]+1    #to get count\n",
    "        \n",
    "print(list(d.keys()))"
   ]
  },
  {
   "cell_type": "code",
   "execution_count": 10,
   "metadata": {},
   "outputs": [
    {
     "name": "stdout",
     "output_type": "stream",
     "text": [
      "['Mobile_Redmi', 'Mobile_Samsung', 'Mobile_Realme', 'Laptop_Dell', 'Laptop_HP', 'TV_Videocon', 'TV_Sony']\n"
     ]
    }
   ],
   "source": [
    "inp={'Mobile': ['Redmi', 'Samsung', 'Realme'], \n",
    "'Laptop': ['Dell', 'HP'],\n",
    "'TV': ['Videocon', 'Sony'] }\n",
    "\n",
    "\n",
    "\n",
    "#for i in range(len(inp)):\n",
    "    #inp.keys[i]\n",
    "out = []\n",
    "for key in inp.keys():\n",
    "    for word in inp[key]:\n",
    "        out.append(key+\"_\"+word)\n",
    "        \n",
    "\n",
    "print(out)"
   ]
  },
  {
   "cell_type": "code",
   "execution_count": 12,
   "metadata": {},
   "outputs": [
    {
     "name": "stdout",
     "output_type": "stream",
     "text": [
      "#take input inp=input() stack = []  for i in inp:     if(len(stack) == 0):         stack.append(i)     else:         if i==')' and stack[-1]=='(':             stack.pop()         elif i=='}' and stack[-1]=='{':             stack.pop()         elif i==']' and stack[-1]=='[':             stack.pop()         else:             stack.append(i)              if(len(stack) == 0):     print('Yes') else:     print('No')\n",
      "False\n"
     ]
    }
   ],
   "source": [
    "#input has been taken for you\n",
    "s=input()\n",
    "\n",
    "#start writing your code to check if s is upgrad string or no\n",
    "d={}\n",
    "for i in s:\n",
    "    if i not in d:\n",
    "        d[i] = 1\n",
    "    else:\n",
    "        d[i] = d[i] + 1\n",
    "\n",
    "vals = d.values()\n",
    "n = len(d)\n",
    "\n",
    "def upgrad_string(vals):\n",
    "    for i in range(1, n+1):\n",
    "        if i not in vals:\n",
    "            return False\n",
    "    return True        \n",
    "print(upgrad_string(vals))"
   ]
  },
  {
   "cell_type": "code",
   "execution_count": 14,
   "metadata": {},
   "outputs": [
    {
     "name": "stdout",
     "output_type": "stream",
     "text": [
      "[](){[]()(){}}\n",
      "Yes\n"
     ]
    }
   ],
   "source": [
    "#take input\n",
    "inp=input()\n",
    "stack = []\n",
    "\n",
    "for i in inp:\n",
    "    if(len(stack) == 0):\n",
    "        stack.append(i)\n",
    "    else:\n",
    "        if i==')' and stack[-1]=='(':\n",
    "            stack.pop()\n",
    "        elif i=='}' and stack[-1]=='{':\n",
    "            stack.pop()\n",
    "        elif i==']' and stack[-1]=='[':\n",
    "            stack.pop()\n",
    "        else:\n",
    "            stack.append(i)\n",
    "            \n",
    "if(len(stack) == 0):\n",
    "    print('Yes')\n",
    "else:\n",
    "    print('No')"
   ]
  },
  {
   "cell_type": "code",
   "execution_count": 43,
   "metadata": {},
   "outputs": [
    {
     "name": "stdout",
     "output_type": "stream",
     "text": [
      "mobile4: 9000\n"
     ]
    }
   ],
   "source": [
    "inp={'mobile1':10000, 'mobile2':11000, 'mobile3':13000, 'mobile4':9000, 'mobile5':15000, 'mobile6':16000, 'mobile7':17000, 'mobile8':18000, 'mobile9':19000}\n",
    "\n",
    "#import ast\n",
    "#inp=ast.literal_eval(input())\n",
    "\n",
    "x=list(inp.values())\n",
    "a=int(x[0])\n",
    "\n",
    "for i in inp.keys():\n",
    "    if inp.get(i)<a:\n",
    "        lk=i\n",
    "        a=inp.get(i)\n",
    "\n",
    "        \n",
    "print(lk+':',a)\n",
    "\n"
   ]
  },
  {
   "cell_type": "code",
   "execution_count": null,
   "metadata": {},
   "outputs": [],
   "source": []
  }
 ],
 "metadata": {
  "kernelspec": {
   "display_name": "Python 3",
   "language": "python",
   "name": "python3"
  },
  "language_info": {
   "codemirror_mode": {
    "name": "ipython",
    "version": 3
   },
   "file_extension": ".py",
   "mimetype": "text/x-python",
   "name": "python",
   "nbconvert_exporter": "python",
   "pygments_lexer": "ipython3",
   "version": "3.8.3"
  }
 },
 "nbformat": 4,
 "nbformat_minor": 4
}
