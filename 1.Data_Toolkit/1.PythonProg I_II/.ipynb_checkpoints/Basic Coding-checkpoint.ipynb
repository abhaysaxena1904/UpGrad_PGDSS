{
 "cells": [
  {
   "cell_type": "code",
   "execution_count": null,
   "metadata": {},
   "outputs": [],
   "source": [
    "# code twice, once with 5 test cases and second for generic universal data "
   ]
  },
  {
   "cell_type": "code",
   "execution_count": null,
   "metadata": {},
   "outputs": [],
   "source": [
    "#back Buton Functionality"
   ]
  },
  {
   "cell_type": "code",
   "execution_count": null,
   "metadata": {},
   "outputs": [],
   "source": [
    "i=0\n",
    "urls=['url1','url2','url3','url4','url5']\n",
    "\n",
    "for i in range(len(urls)):\n",
    "    back=input(\"Press Back Y/N:\")\n",
    "    i+=1\n",
    "    if back ==\"y\":\n",
    "        urls.pop()\n",
    "    elif back ==\"n\":\n",
    "        urls\n",
    "        break\n",
    "    print(urls[-1])"
   ]
  },
  {
   "cell_type": "code",
   "execution_count": null,
   "metadata": {},
   "outputs": [],
   "source": [
    "i=0\n",
    "urls=['url1','url2','url3','url4','url5']\n",
    "back=input(\"Press Back Y/N:\")\n",
    "\n",
    "if back ==\"y\":\n",
    "    urls.pop()\n",
    "elif back ==\"n\":\n",
    "     urls\n",
    "urls[-1]"
   ]
  },
  {
   "cell_type": "code",
   "execution_count": null,
   "metadata": {},
   "outputs": [],
   "source": [
    "# Amazon Product recommendation system"
   ]
  },
  {
   "cell_type": "code",
   "execution_count": null,
   "metadata": {},
   "outputs": [],
   "source": [
    "clothes=[]\n",
    "elec_devices=[]\n",
    "prod_list= ['jeans', 'shirt', 'saree','suits','clothes','elec_devices','elec_tools','mobile', 'earphones','TV']\n",
    "x= input('search here:' )\n",
    "if x in prod_list:\n",
    "    print(x)    \n",
    "else:\n",
    "    print(x,'Not Available')"
   ]
  },
  {
   "cell_type": "markdown",
   "metadata": {},
   "source": [
    "### How to search word by word"
   ]
  },
  {
   "cell_type": "code",
   "execution_count": null,
   "metadata": {},
   "outputs": [],
   "source": [
    "# Youtube viewer counter"
   ]
  },
  {
   "cell_type": "code",
   "execution_count": null,
   "metadata": {},
   "outputs": [],
   "source": [
    "vids=['vid1','vid2']\n",
    "users=['u1','u2','u3']\n",
    "vid1=['u1','u3']\n",
    "vid2=['u2','u3']\n",
    "count1=0\n",
    "count2=0\n",
    "v=input('which vid: vid1 or vid2 ---' )\n",
    "u= input('user id:' )\n",
    "if v == 'vid1' :\n",
    "    if u not in vid1:\n",
    "        print(\"new user\")\n",
    "if v == 'vid2' :\n",
    "    if u not in vid2:\n",
    "        print(\"new user\")"
   ]
  },
  {
   "cell_type": "code",
   "execution_count": null,
   "metadata": {},
   "outputs": [],
   "source": [
    "#Food delivery nearby resturant search\n",
    "# Based on your GPS location find resturants serving near you\n",
    "# considering delivery range of each resturant.\n"
   ]
  },
  {
   "cell_type": "code",
   "execution_count": null,
   "metadata": {},
   "outputs": [],
   "source": []
  },
  {
   "cell_type": "code",
   "execution_count": null,
   "metadata": {},
   "outputs": [],
   "source": [
    "Dating algoritm"
   ]
  },
  {
   "cell_type": "code",
   "execution_count": null,
   "metadata": {},
   "outputs": [],
   "source": []
  },
  {
   "cell_type": "code",
   "execution_count": null,
   "metadata": {},
   "outputs": [],
   "source": [
    "\n",
    "#In this, you have to implement the ATM machine. The basic function of an ATM machine is, you insert your card and pin, if the pin matches, it lets you withdraw money from your account and deducts the same from your account. Don't forget to handle cases like insufficient balance and no cash available. The more realistic ATM model you build the better.\n",
    "\n"
   ]
  },
  {
   "cell_type": "code",
   "execution_count": null,
   "metadata": {},
   "outputs": [],
   "source": [
    "pin = '8226'\n",
    "Acc_Bal = 50000\n",
    "Cash_Bal = 10000\n",
    "\n",
    "user_pin = input('Enter pin: ')\n",
    "if(user_pin == pin):\n",
    "    amt = int(input('Please enter the amount(in denominations of 100) to be retrieved from your account: '))\n",
    "    if(amt<=Acc_Bal):\n",
    "        if(amt<=Cash_Bal):\n",
    "            if(amt>=100 and amt%100 == 0):\n",
    "                Acc_Bal -= amt\n",
    "                Cash = amt\n",
    "                print('Please take the cash ',Cash)\n",
    "                print('Available balance in your acoount is ',Acc_Bal)\n",
    "            else:\n",
    "                print('The requested denominations are unavailable')\n",
    "        else:\n",
    "            print(\"Insufficient Cash available\")\n",
    "    else:\n",
    "        print('You have insufficient balance in your account')\n",
    "else:\n",
    "    print('Incorrect Pin')"
   ]
  },
  {
   "cell_type": "code",
   "execution_count": null,
   "metadata": {},
   "outputs": [],
   "source": [
    "Implement a simple calculator. \n",
    "\n",
    " \n",
    "\n",
    "This will take only numbers and operations as input(addition, subtraction, multiplication, division). You may choose to take more operations (Let's see who can design a calculator with most functionalities) \n",
    "\n"
   ]
  },
  {
   "cell_type": "code",
   "execution_count": null,
   "metadata": {},
   "outputs": [],
   "source": [
    "#Swapping 2 nos"
   ]
  },
  {
   "cell_type": "code",
   "execution_count": null,
   "metadata": {},
   "outputs": [],
   "source": [
    "#Take input using input()\n",
    "\n",
    "#input() takes input in form of the string\n",
    "in_string=input()\n",
    "\n",
    "#here extract the two numbers from the string\n",
    "list= in_string.split(\",\")\n",
    "x= int(list[0])\n",
    "y = int(list[1])\n",
    "#print x and y before swapping\n",
    "print(\"x before swapping: \",x)\n",
    "print(\"y before swapping: \",y)\n",
    "#Writing your swapping code here\n",
    "z=x\n",
    "x=y\n",
    "y=z\n",
    "#print x and y after swapping\n",
    "print()\n",
    "print(\"x after swapping: \",x)\n",
    "print(\"y after swapping: \",y)\n",
    "\n",
    "\n"
   ]
  },
  {
   "cell_type": "code",
   "execution_count": null,
   "metadata": {},
   "outputs": [],
   "source": [
    "x=10\n",
    "y=23\n",
    "x = x + y\n",
    "y = x-y\n",
    "x = x-y\n",
    "print(\"x:\",x)\n",
    "print(\"y:\",y)\n"
   ]
  },
  {
   "cell_type": "code",
   "execution_count": null,
   "metadata": {},
   "outputs": [],
   "source": [
    "x=10\n",
    "y=23\n",
    "x,y=y,x\n",
    "print(x,y)"
   ]
  },
  {
   "cell_type": "code",
   "execution_count": null,
   "metadata": {},
   "outputs": [],
   "source": [
    "x=10\n",
    "y=23\n",
    "x = x^y\n",
    "y = x^y\n",
    "x = x^y\n",
    "print(x,y)"
   ]
  },
  {
   "cell_type": "code",
   "execution_count": null,
   "metadata": {},
   "outputs": [],
   "source": [
    "X=10\n",
    "Y=23\n",
    "X=X*Y\n",
    "Y=X//Y\n",
    "X=X//Y\n",
    "print(X,Y)"
   ]
  },
  {
   "cell_type": "code",
   "execution_count": null,
   "metadata": {},
   "outputs": [],
   "source": [
    "23^10"
   ]
  },
  {
   "cell_type": "code",
   "execution_count": null,
   "metadata": {},
   "outputs": [],
   "source": [
    "# Odd Even"
   ]
  },
  {
   "cell_type": "code",
   "execution_count": null,
   "metadata": {},
   "outputs": [],
   "source": [
    "n=68\n",
    "\n",
    "if n%2==0:\n",
    "    print(n,\"is even\")\n",
    "else:\n",
    "    print(n,\"is odd\")"
   ]
  },
  {
   "cell_type": "code",
   "execution_count": null,
   "metadata": {},
   "outputs": [],
   "source": [
    "k=21\n",
    "\n",
    "if k%3-1==0:\n",
    "    print(\"beautiful\")\n",
    "\n",
    "    \n",
    "    \n",
    "elif k%3-2==0:\n",
    "    print(\"pretty\")\n",
    "    \n",
    "elif k%3==0:\n",
    "    print(\"sexy\")  \n",
    "    "
   ]
  },
  {
   "cell_type": "code",
   "execution_count": null,
   "metadata": {},
   "outputs": [],
   "source": [
    "# prime no."
   ]
  },
  {
   "cell_type": "code",
   "execution_count": null,
   "metadata": {},
   "outputs": [],
   "source": [
    "num=23\n",
    "\n",
    "\n",
    "if num > 1:  \n",
    "   for i in range(2,num):  \n",
    "       if (num % i) == 0:  \n",
    "           print(num,\"is not a prime number\")  \n",
    "           print(i,\"times\",num//i,\"is\",num)  \n",
    "           break  \n",
    "   else:  \n",
    "       print(num,\"is a prime number\")  \n",
    "         \n",
    "else:  \n",
    "   print(num,\"is not a prime number\")  \n"
   ]
  },
  {
   "cell_type": "code",
   "execution_count": null,
   "metadata": {},
   "outputs": [],
   "source": [
    "# find factors of a no.\n"
   ]
  },
  {
   "cell_type": "code",
   "execution_count": null,
   "metadata": {},
   "outputs": [],
   "source": [
    "def print_factors(x):\n",
    "   print(\"The factors of\",x,\"are:\")\n",
    "   for i in range(1, x + 1):\n",
    "       if x % i == 0:\n",
    "           print(i)\n",
    "\n",
    "num = 60\n",
    "\n",
    "print_factors(num)\n"
   ]
  },
  {
   "cell_type": "code",
   "execution_count": null,
   "metadata": {},
   "outputs": [],
   "source": [
    "#prime factors"
   ]
  },
  {
   "cell_type": "code",
   "execution_count": null,
   "metadata": {},
   "outputs": [],
   "source": []
  },
  {
   "cell_type": "code",
   "execution_count": null,
   "metadata": {},
   "outputs": [],
   "source": [
    "#Alarm"
   ]
  },
  {
   "cell_type": "code",
   "execution_count": null,
   "metadata": {},
   "outputs": [],
   "source": [
    "#Take input here\n",
    "#we will take input using ast sys\n",
    "import ast\n",
    "input_str = input()\n",
    "\n",
    "#ast.literal_eval() will evaluate the string and make a data structure for the same\n",
    "#here the input is a list since input is in '[...]', so ast.literal_eval() will\n",
    "#make a list with the same data as passed\n",
    "input_list = ast.literal_eval(input_str)\n",
    "\n",
    "#the data or the two values in list is now changed to separate variables\n",
    "day_of_the_week = input_list[0] #first element is an integer denoting the day of the week\n",
    "is_on_vacation = input_list[1] #this is a boolean denoting if its vacation or not\n",
    "\n",
    "# write your code here\n",
    "weekend=[6,7]\n",
    "if is_on_vacation:\n",
    "    if day_of_the_week in weekend:\n",
    "        print('off')\n",
    "    else:\n",
    "        print('10:00')\n",
    "else:\n",
    "    if day_of_the_week in weekend:\n",
    "        print('10:00')\n",
    "    else:\n",
    "        print('7:00')"
   ]
  },
  {
   "cell_type": "code",
   "execution_count": null,
   "metadata": {},
   "outputs": [],
   "source": [
    "#Factorial"
   ]
  },
  {
   "cell_type": "code",
   "execution_count": null,
   "metadata": {},
   "outputs": [],
   "source": [
    "###### take the input here\n",
    "number= int(input())\n",
    "f=1\n",
    "#the function definition starts here\n",
    "def factorial(n):\n",
    "    #write the funtion here that finds and RETURNS factorial of next\n",
    "    if n<0:\n",
    "        return -1\n",
    "    elif n==0:\n",
    "        return 1\n",
    "    else:\n",
    "        f=1\n",
    "        for i in range(1,n+1):\n",
    "            f=f*i\n",
    "            i=i+1\n",
    "        return f\n",
    "#function definition ends here\n",
    "\n",
    "#do not alter the code typed below\n",
    "k=factorial(number)\n",
    "print(k)"
   ]
  },
  {
   "cell_type": "code",
   "execution_count": null,
   "metadata": {},
   "outputs": [],
   "source": [
    "# reverse the no"
   ]
  },
  {
   "cell_type": "code",
   "execution_count": null,
   "metadata": {},
   "outputs": [],
   "source": [
    "n=int(input())\n",
    "N=str(n)\n",
    "r=0\n",
    "rv=''\n",
    "for i in range(len(N)):\n",
    "    r=(N[i])\n",
    "    rv= r+rv\n",
    "print(int(rv))"
   ]
  },
  {
   "cell_type": "code",
   "execution_count": null,
   "metadata": {},
   "outputs": [],
   "source": [
    "n=int(input())\n",
    "r=0\n",
    "i=1\n",
    "while(i<n):\n",
    "    x=n%(10**i)\n",
    "    n=n-x\n",
    "    r=r+x%(10**i)\n",
    "    i=i+1\n",
    "    print(x)"
   ]
  },
  {
   "cell_type": "code",
   "execution_count": null,
   "metadata": {},
   "outputs": [],
   "source": [
    "n=int(input())\n",
    "r=0\n",
    "while(n>0):\n",
    "    r= r*10+n%10\n",
    "    n=n//10\n",
    "print(r)"
   ]
  },
  {
   "cell_type": "code",
   "execution_count": null,
   "metadata": {},
   "outputs": [],
   "source": [
    "m=int(input('Enter money you have: '))\n",
    "c=int(input('Enter cost of choc '))\n",
    "\n",
    "\n",
    "w=m//c\n",
    "choc=m//c    \n",
    "while(w//3!=0):\n",
    "    choc= choc+w//3\n",
    "    w=w//3+w%3   \n",
    "print(int(choc))"
   ]
  },
  {
   "cell_type": "code",
   "execution_count": null,
   "metadata": {},
   "outputs": [],
   "source": [
    "# w=w//3+w%3 ----correct\n",
    "# w=w/3+w%3 ----partially correct"
   ]
  },
  {
   "cell_type": "code",
   "execution_count": null,
   "metadata": {},
   "outputs": [],
   "source": [
    "i=input()\n",
    "a=i.split(',')\n",
    "m=int(a[0])\n",
    "c=int(a[1])\n",
    "\n",
    "w=m//c\n",
    "choc=m//c    \n",
    "while(w//3!=0):\n",
    "    choc= choc+w//3\n",
    "    w=w//3+w%3   \n",
    "print(int(choc))"
   ]
  },
  {
   "cell_type": "code",
   "execution_count": null,
   "metadata": {},
   "outputs": [],
   "source": [
    "#Pattern\n",
    "#print()----by default goes to next line\n",
    "#print(o/p,end='')---- keeps next o/p in same line"
   ]
  },
  {
   "cell_type": "code",
   "execution_count": null,
   "metadata": {},
   "outputs": [],
   "source": [
    "#one line of input containing 0 < N < 27, the size of the rangoli\n",
    "#size 5\n",
    "#--------e--------\n",
    "#------e-d-e------\n",
    "#----e-d-c-d-e----\n",
    "#--e-d-c-b-c-d-e--\n",
    "#e-d-c-b-a-b-c-d-e\n",
    "#--e-d-c-b-c-d-e--\n",
    "#----e-d-c-d-e----\n",
    "#------e-d-e------\n",
    "#--------e--------\n",
    "\n",
    "def print_rangoli(size):\n",
    "    width  = size*4-3\n",
    "    string = ''\n",
    "\n",
    "    for i in range(1,size+1):\n",
    "        for j in range(0,i):\n",
    "            string += chr(96+size-j)\n",
    "            if len(string) < width :\n",
    "                string += '-'\n",
    "        for k in range(i-1,0,-1):    \n",
    "            string += chr(97+size-k)\n",
    "            if len(string) < width :\n",
    "                string += '-'\n",
    "        print(string.center(width,'-'))\n",
    "        string = ''\n",
    "\n",
    "    for i in range(size-1,0,-1):\n",
    "        string = ''\n",
    "        for j in range(0,i):\n",
    "            string += chr(96+size-j)\n",
    "            if len(string) < width :\n",
    "                string += '-'\n",
    "        for k in range(i-1,0,-1):\n",
    "            string += chr(97+size-k)\n",
    "            if len(string) < width :\n",
    "                string += '-'\n",
    "        print(string.center(width,'-'))\n",
    "\n",
    "if __name__ == '__main__':\n",
    "    n = int(input())\n",
    "    print_rangoli(n)"
   ]
  },
  {
   "cell_type": "code",
   "execution_count": null,
   "metadata": {},
   "outputs": [],
   "source": [
    "def print_rangoli(size):\n",
    "    width  = size*4-3\n",
    "    string = ''\n",
    "\n",
    "    for i in range(1,size+1):\n",
    "        for j in range(0,i):\n",
    "            string += chr(96+size-j)\n",
    "            if len(string) < width :\n",
    "                string += '-'\n",
    "        for k in range(i-1,0,-1):    \n",
    "            string += chr(97+size-k)\n",
    "            if len(string) < width :\n",
    "                string += '-'\n",
    "        print(string.center(width,'-'))\n",
    "        string = ''\n",
    "\n",
    "    \n",
    "\n",
    "if __name__ == '__main__':\n",
    "    n = int(input())\n",
    "    print_rangoli(n)"
   ]
  },
  {
   "cell_type": "code",
   "execution_count": null,
   "metadata": {},
   "outputs": [],
   "source": [
    "def print_rangoli(size):\n",
    "    width  = size*4-3\n",
    "    string = ''\n",
    "\n",
    "\n",
    "    for i in range(size-1,0,-1):\n",
    "        string = ''\n",
    "        for j in range(0,i):\n",
    "            string += chr(96+size-j)\n",
    "            if len(string) < width :\n",
    "                string += '-'\n",
    "        for k in range(i-1,0,-1):\n",
    "            string += chr(97+size-k)\n",
    "            if len(string) < width :\n",
    "                string += '-'\n",
    "        print(string.center(width,'-'))\n",
    "\n",
    "if __name__ == '__main__':\n",
    "    n = int(input())\n",
    "    print_rangoli(n)"
   ]
  },
  {
   "cell_type": "code",
   "execution_count": null,
   "metadata": {},
   "outputs": [],
   "source": [
    "def print_rangoli(n):\n",
    "    alpha = \"abcdefghijklmnopqrstuvwxyz\"\n",
    "    data = [alpha[i] for i in range(n)]\n",
    "    items = list(range(n))\n",
    "    items = items[:-1]+items[::-1]\n",
    "    for i in items:\n",
    "        temp = data[-(i+1):]\n",
    "        row = temp[::-1]+temp[1:]\n",
    "        print(\"-\".join(row).center(n*4-3, \"-\"))\n",
    "\n",
    "\n",
    "n = int(input())\n",
    "print_rangoli(n)"
   ]
  },
  {
   "cell_type": "code",
   "execution_count": null,
   "metadata": {},
   "outputs": [],
   "source": [
    "n= int(input())\n",
    "\n",
    "l1=list(map(chr,range(97,123)))\n",
    "x = l1[n-1::-1]+l1[1:n]\n",
    "m = len('-'.join(x))\n",
    "for i in range(1,n):\n",
    "    print('-'.join(l1[n-1:n-i:-1]+l1[n-i:n]).center(m,'-'))\n",
    "for i in range(n,0,-1):\n",
    "    print('-'.join(l1[n-1:n-i:-1]+l1[n-i:n]).center(m,'-')) "
   ]
  },
  {
   "cell_type": "code",
   "execution_count": null,
   "metadata": {},
   "outputs": [],
   "source": [
    "width  = int(input('size '))*4-3\n",
    "width"
   ]
  },
  {
   "cell_type": "code",
   "execution_count": null,
   "metadata": {},
   "outputs": [],
   "source": [
    "alpha = \"abcdefghijklmnopqrstuvwxyz\"\n",
    "data = [alpha[i] for i in range(5)]\n",
    "data"
   ]
  },
  {
   "cell_type": "code",
   "execution_count": null,
   "metadata": {},
   "outputs": [],
   "source": [
    "items = list(range(n))\n",
    "items = items[:-1]+items[::-1]\n",
    "items"
   ]
  },
  {
   "cell_type": "code",
   "execution_count": null,
   "metadata": {},
   "outputs": [],
   "source": [
    "# from functools import reduce\n",
    "n=int(input())\n",
    "m=str(n)\n",
    "l1=[]\n",
    "for i in range(len(m)):\n",
    "    l1= l1+list(m[i])\n",
    "\n",
    "l2= list(map(int,l1))\n",
    "x=sum([e**3 for e in l2])\n",
    "if x==n:\n",
    "    print('True')\n",
    "else:\n",
    "    print('False')\n",
    "\n"
   ]
  },
  {
   "cell_type": "code",
   "execution_count": null,
   "metadata": {},
   "outputs": [],
   "source": [
    "n=int(input())\n",
    "m=str(n)\n",
    "n"
   ]
  },
  {
   "cell_type": "code",
   "execution_count": null,
   "metadata": {},
   "outputs": [],
   "source": [
    "n= int(input())\n",
    "f=1\n",
    "i=0\n",
    "l=[0,1]\n",
    "for i in range(n-2):\n",
    "    f=l[-1]+l[-2]\n",
    "    l=l+[f]\n",
    "print(*l, sep = \"\\n\") "
   ]
  },
  {
   "cell_type": "code",
   "execution_count": null,
   "metadata": {
    "scrolled": true
   },
   "outputs": [],
   "source": [
    "n= int(input())\n",
    "f=0\n",
    "m=1\n",
    "for i in range(n):\n",
    "    print(f)\n",
    "    x=f+m\n",
    "    f=m\n",
    "    m=x\n",
    "    "
   ]
  },
  {
   "cell_type": "code",
   "execution_count": null,
   "metadata": {},
   "outputs": [],
   "source": [
    "# Python program to print list \n",
    "# without using loop \n",
    "  \n",
    "a = [1, 2, 3, 4, 5] \n",
    "  \n",
    "# printing the list using * operator separated  \n",
    "# by space  \n",
    "print(*a) \n",
    "  \n",
    "# printing the list using * and sep operator \n",
    "print(\"printing lists separated by commas\") \n",
    "  \n",
    "print(*a, sep = \", \")  \n",
    "  \n",
    "# print in new line \n",
    "print(\"printing lists in new line\") \n",
    "  \n",
    "print(*a, sep = \"\\n\") "
   ]
  },
  {
   "cell_type": "code",
   "execution_count": null,
   "metadata": {},
   "outputs": [],
   "source": [
    "n= int(input())\n",
    "l=[]\n",
    "for j in range(2,n):\n",
    "    for i in range(2,n):\n",
    "        if (j % i) == 0:\n",
    "            print(n,\"is not a prime number\")\n",
    "            break\n",
    "        else:\n",
    "            l=l+[j]\n",
    "            print(l,\"is list of prime numbers till \",n)"
   ]
  },
  {
   "cell_type": "code",
   "execution_count": null,
   "metadata": {},
   "outputs": [],
   "source": [
    "n= int(input())\n",
    "l=[2,3]\n",
    "\n",
    "for i in range(1,n+1):\n",
    "    for j in range(2,i):\n",
    "        if (i%j)!=0:\n",
    "            if i%2==0:\n",
    "                break\n",
    "            if i%3==0:\n",
    "                break\n",
    "            else:\n",
    "                l=l+[i]\n",
    "        else:\n",
    "            break\n",
    "    i=i+1\n",
    "\n",
    "print(sum(set(l)))"
   ]
  },
  {
   "cell_type": "code",
   "execution_count": null,
   "metadata": {},
   "outputs": [],
   "source": [
    "l={2,3,5,7}\n",
    "sum(l)"
   ]
  },
  {
   "cell_type": "code",
   "execution_count": null,
   "metadata": {},
   "outputs": [],
   "source": [
    "str='q1w2e3r4t5y6789'\n",
    "a= str[::2]\n",
    "b= str[1::2]\n",
    "print(a+','+b)"
   ]
  },
  {
   "cell_type": "code",
   "execution_count": 23,
   "metadata": {
    "scrolled": true
   },
   "outputs": [
    {
     "name": "stdout",
     "output_type": "stream",
     "text": [
      "15,2,3,2\n",
      "17\n"
     ]
    }
   ],
   "source": [
    "#i=input()\n",
    "#a=i.split(' ')\n",
    "import ast\n",
    "a = ast.literal_eval(input())\n",
    "\n",
    "m=int(a[0])\n",
    "c=int(a[1])\n",
    "w=int(a[2])      #shopkeeper will give away 2 chocolates for 3 wrappers\n",
    "k=int(a[3])\n",
    "\n",
    "wraps=m//c\n",
    "choc=m//c\n",
    "while(wraps>=w):\n",
    "    choc= choc + (wraps//w)*k\n",
    "    wraps = (wraps//w)*k + wraps%w\n",
    "\n",
    "print(int(choc))"
   ]
  },
  {
   "cell_type": "code",
   "execution_count": 29,
   "metadata": {},
   "outputs": [
    {
     "ename": "SyntaxError",
     "evalue": "invalid syntax (<ipython-input-29-2a7db7e3efda>, line 1)",
     "output_type": "error",
     "traceback": [
      "\u001b[1;36m  File \u001b[1;32m\"<ipython-input-29-2a7db7e3efda>\"\u001b[1;36m, line \u001b[1;32m1\u001b[0m\n\u001b[1;33m    L = [for i in range(1, 5): i]\u001b[0m\n\u001b[1;37m         ^\u001b[0m\n\u001b[1;31mSyntaxError\u001b[0m\u001b[1;31m:\u001b[0m invalid syntax\n"
     ]
    }
   ],
   "source": [
    "L = [for i in range(1, 5): i]\n",
    "L"
   ]
  },
  {
   "cell_type": "code",
   "execution_count": 40,
   "metadata": {},
   "outputs": [
    {
     "name": "stdout",
     "output_type": "stream",
     "text": [
      "4\n",
      "0\n"
     ]
    }
   ],
   "source": [
    "L=[2, 3, 4, 2, 1, 2, 3]\n",
    "print(L.index(1))   # gives index value of '1' in L  i.e 4 here\n",
    "print(L.index(2))   #gives index value of '2' (first occurance) in L  i.e 0 here"
   ]
  },
  {
   "cell_type": "code",
   "execution_count": 47,
   "metadata": {},
   "outputs": [],
   "source": [
    "L=[10,20,30,40,50,60,70,80,90,100]  # how will you get a list [20, 40, 60, 80]\n",
    "\n",
    "\n",
    "#L[[1, 3, 5, 7]]\n",
    "#L[1, 3, 5, 7]\n",
    "#L[1::2]\n",
    "#L[1:-1:2]\n",
    "#L[2:-1:2]\n",
    "#[L[i] for i in range(1,9,2)]"
   ]
  },
  {
   "cell_type": "code",
   "execution_count": 67,
   "metadata": {},
   "outputs": [
    {
     "data": {
      "text/plain": [
       "[45, 35, 25]"
      ]
     },
     "execution_count": 67,
     "metadata": {},
     "output_type": "execute_result"
    }
   ],
   "source": [
    "A = [10, 20, 30]\n",
    "B = [45, 35, 25]    # output [45, 35, 25, 10, 20, 30]\n",
    "\n",
    "#B.append(A)\n",
    "#B.extend(A)\n",
    "\n",
    "B"
   ]
  },
  {
   "cell_type": "code",
   "execution_count": null,
   "metadata": {},
   "outputs": [],
   "source": []
  }
 ],
 "metadata": {
  "kernelspec": {
   "display_name": "Python 3",
   "language": "python",
   "name": "python3"
  },
  "language_info": {
   "codemirror_mode": {
    "name": "ipython",
    "version": 3
   },
   "file_extension": ".py",
   "mimetype": "text/x-python",
   "name": "python",
   "nbconvert_exporter": "python",
   "pygments_lexer": "ipython3",
   "version": "3.8.3"
  }
 },
 "nbformat": 4,
 "nbformat_minor": 4
}
