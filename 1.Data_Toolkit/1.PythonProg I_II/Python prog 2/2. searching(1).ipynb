{
 "cells": [
  {
   "cell_type": "markdown",
   "metadata": {},
   "source": [
    "# Linear Search"
   ]
  },
  {
   "cell_type": "code",
   "execution_count": 79,
   "metadata": {},
   "outputs": [],
   "source": [
    "from time import process_time"
   ]
  },
  {
   "cell_type": "code",
   "execution_count": 83,
   "metadata": {},
   "outputs": [
    {
     "name": "stdout",
     "output_type": "stream",
     "text": [
      "(5, 0.0)\n"
     ]
    }
   ],
   "source": [
    "data_list= [2,6,8,2,5,7]\n",
    "key= 7\n",
    "#import ast\n",
    "#data_list= ast.literal_eval(input())\n",
    "#key= ast.literal_eval(input())\n",
    "   \n",
    "def linear_search(data_list,key):\n",
    "    index= -1\n",
    "    start = process_time()\n",
    "    for i in range(0,len(data_list)):\n",
    "        if data_list[i] == key:\n",
    "            index = i\n",
    "            break\n",
    "    end = process_time()\n",
    "    return index,end-start\n",
    "     \n",
    "\n",
    "print(linear_search(data_list,key))\n"
   ]
  },
  {
   "cell_type": "markdown",
   "metadata": {},
   "source": [
    "# Binary Search "
   ]
  },
  {
   "cell_type": "code",
   "execution_count": 62,
   "metadata": {},
   "outputs": [
    {
     "name": "stdout",
     "output_type": "stream",
     "text": [
      "(4, 0.0)\n"
     ]
    }
   ],
   "source": [
    "#import ast\n",
    "sorted_list=[1,2,3,4,5] #ast.literal_eval(input())\n",
    "key=5 #int(input())\n",
    "\n",
    "def binary_search(sorted_list, key):\n",
    "    \n",
    "    l = 0\n",
    "    r = len(sorted_list)-1\n",
    "    start = time.process_time()\n",
    "    while (l<=r):\n",
    "        mid = (r+l)//2\n",
    "        if sorted_list[mid] == key:\n",
    "            end=time.process_time()\n",
    "            return mid,end-start\n",
    "        elif sorted_list[mid] < key:\n",
    "            l = mid + 1\n",
    "        else:\n",
    "            r = mid - 1 \n",
    "\n",
    "print(binary_search(sorted_list, key))    "
   ]
  },
  {
   "cell_type": "markdown",
   "metadata": {},
   "source": [
    "# Ternary Search\n"
   ]
  },
  {
   "cell_type": "code",
   "execution_count": 64,
   "metadata": {},
   "outputs": [
    {
     "name": "stdout",
     "output_type": "stream",
     "text": [
      "(7, 0.0)\n"
     ]
    }
   ],
   "source": [
    "#import ast\n",
    "sorted_list=[0,1,2,3,4,5,6,7,8] #ast.literal_eval(input())\n",
    "key=7 #int(input())\n",
    "\n",
    "def ternary_search(sorted_list, key): \n",
    "    l = 0\n",
    "    r = len(sorted_list)-1 \n",
    "    start = time.process_time()\n",
    "    while (l<=r):\n",
    "        mid1 = l+(r-l)//3\n",
    "        mid2 = r-(r-l)//3\n",
    "        if sorted_list[mid1] == key:\n",
    "            end=time.process_time()\n",
    "            return mid1,end-start\n",
    "        elif sorted_list[mid2] == key:\n",
    "            end=time.process_time()\n",
    "            return mid2,end-start\n",
    "        \n",
    "        elif sorted_list[mid1] < key < sorted_list[mid2]:\n",
    "            l = mid1 + 1\n",
    "            r = mid2 - 1        \n",
    "        elif sorted_list[mid1] > key:\n",
    "            r = mid1 - 1\n",
    "        elif sorted_list[mid2] < key:\n",
    "            l = mid2 + 1\n",
    "        \n",
    "\n",
    "print(ternary_search(sorted_list, key))    "
   ]
  },
  {
   "cell_type": "code",
   "execution_count": 84,
   "metadata": {
    "scrolled": true
   },
   "outputs": [
    {
     "name": "stdout",
     "output_type": "stream",
     "text": [
      "Linear Search (22, 0.0)\n",
      "Binary Search (22, 0.0)\n",
      "Ternary Search (22, 0.0)\n"
     ]
    }
   ],
   "source": [
    "sorted_list =[0,1,2,3,4,5,6,7,8,9,10,11,12,13,14,15,16,17,18,19,20,21,22,23,24,25,26,27,28,29,30] \n",
    "key = 22\n",
    "print(\"Linear Search\",linear_search(sorted_list,key))\n",
    "print(\"Binary Search\",binary_search(sorted_list, key))\n",
    "print(\"Ternary Search\",ternary_search(sorted_list, key))"
   ]
  },
  {
   "cell_type": "code",
   "execution_count": 90,
   "metadata": {},
   "outputs": [
    {
     "name": "stdout",
     "output_type": "stream",
     "text": [
      "4\n",
      "0\n"
     ]
    }
   ],
   "source": [
    "start=time.process_time_ns()\n",
    "print((6+8)//3)\n",
    "print(time.process_time_ns()-start)"
   ]
  },
  {
   "cell_type": "markdown",
   "metadata": {},
   "source": [
    "\n",
    "# Rotated List"
   ]
  },
  {
   "cell_type": "code",
   "execution_count": 128,
   "metadata": {},
   "outputs": [
    {
     "name": "stdout",
     "output_type": "stream",
     "text": [
      "1\n"
     ]
    }
   ],
   "source": [
    "import ast\n",
    "a = [6,7,8,9,3,4,5]#ast.literal_eval(input())\n",
    "k = 7 #ast.literal_eval(input())\n",
    "\n",
    "#find key in rotated list\n",
    "l =0\n",
    "r = len(a)-1\n",
    "while (l<=r):\n",
    "    mid = (l+r)//2\n",
    "    if a[mid] == k:\n",
    "        print(mid)\n",
    "        break\n",
    "    elif a[l]<=a[mid]:\n",
    "        if (a[l]<=k & k< a[mid]):\n",
    "            r = mid-1\n",
    "        else:\n",
    "            l = mid+1\n",
    "                \n",
    "    elif a[l]>a[mid]:\n",
    "        if(a[mid]<k & k< a[r]):\n",
    "            l = mid+1\n",
    "        else:\n",
    "            r = mid-1\n",
    "else:\n",
    "    print(-1)"
   ]
  },
  {
   "cell_type": "code",
   "execution_count": null,
   "metadata": {},
   "outputs": [],
   "source": [
    "n=int(input())\n",
    "\n",
    "#find square root of n here\n",
    "#print(\"%.4f\" % n**0.5)\n",
    "def square(n):\n",
    "    l = 0\n",
    "    r = n\n",
    "    while abs(l-r)>10**-5:\n",
    "        mid = (l+r)/2\n",
    "        if mid**2 > n:\n",
    "            r = mid\n",
    "        else:\n",
    "            l = mid \n",
    "            \n",
    "    return round (mid,4)\n",
    "\n",
    "print(\"%0.4f\" % square(n))"
   ]
  },
  {
   "cell_type": "code",
   "execution_count": null,
   "metadata": {},
   "outputs": [],
   "source": [
    "import ast\n",
    "sorted_list=ast.literal_eval(input())\n",
    "key=int(input())\n",
    "\n",
    "def binary_search(sorted_list, key):\n",
    "    \n",
    "    l = 0\n",
    "    r = len(sorted_list)-1\n",
    "    \n",
    "    while (l<=r):\n",
    "        a = (r+l)//3\n",
    "        b=(2*(r+l))//3\n",
    "        \n",
    "        if sorted_list[a] == key:\n",
    "            return (a)\n",
    "        elif sorted_list[b] ==key:\n",
    "            return (b)\n",
    "        elif sorted_list[b] < key:\n",
    "            l = b + 1\n",
    "        elif sorted_list[a] > key:\n",
    "            r = a - 1\n",
    "        elif (sorted_list[a] < key) and (sorted_list[b] > key) :\n",
    "            r=a+1\n",
    "            l=b-1\n",
    "            \n",
    "    return -1\n",
    "    \n",
    "print(binary_search(sorted_list, key))"
   ]
  },
  {
   "cell_type": "code",
   "execution_count": null,
   "metadata": {},
   "outputs": [],
   "source": [
    "#take input here\n",
    "import ast \n",
    "sorted_list=ast.literal_eval(input())\n",
    "key=int(input())\n",
    "\n",
    "#start writing your code from here\n",
    "\n",
    "def ternary_search(sorted_list, key):\n",
    "    l=0\n",
    "    r=len(sorted_list)-1\n",
    "    while(l<=r):\n",
    "        #sorted_list will be divided into three parts\n",
    "        #check the two middle values (l*0.33 + r*0.66) and (l*0.66 + r*0.33)  \n",
    "        a = int(round(((l/3) + (r*2/3)), 0)) #make them int by rounding and then typecast\n",
    "        b = int(round(((r/3) + (l*2/3)), 0)) \n",
    "\n",
    "        if sorted_list[a]==key:\n",
    "            return a\n",
    "        elif sorted_list[b]==key:\n",
    "            return b\n",
    "        elif key<a: #this means key is in the first third\n",
    "            r=a-1\n",
    "        elif key<b: #here no need to check for key>lmid, as it will obviously be >lmid because\n",
    "            #it would have entered the previous condition\n",
    "            l=a+1\n",
    "            r=b-1\n",
    "        else:\n",
    "            l=b+1\n",
    "\n",
    "    return -1 #if key not found then return -1 \n",
    "\n",
    "\n",
    "print(ternary_search(sorted_list, key))"
   ]
  },
  {
   "cell_type": "code",
   "execution_count": 96,
   "metadata": {},
   "outputs": [
    {
     "name": "stdout",
     "output_type": "stream",
     "text": [
      "8.000000\n"
     ]
    }
   ],
   "source": [
    "n=64 #int(input())\n",
    "\n",
    "#find square root of n here\n",
    "#print(\"%.4f\" % n**0.5)\n",
    "def solve(n):\n",
    "    l = 0\n",
    "    r = n\n",
    "    while abs(l-r)>10**-5:\n",
    "        mid = (l+r)/2\n",
    "        if mid**2 > n:\n",
    "            r = mid\n",
    "        else:\n",
    "            l = mid \n",
    "            \n",
    "    return round (mid,4)\n",
    "\n",
    "print(\"%0.6f\" % solve(n))"
   ]
  },
  {
   "cell_type": "code",
   "execution_count": 99,
   "metadata": {},
   "outputs": [
    {
     "data": {
      "text/plain": [
       "2.2361"
      ]
     },
     "execution_count": 99,
     "metadata": {},
     "output_type": "execute_result"
    }
   ],
   "source": [
    "import math\n",
    "round(math.sqrt(5),4)"
   ]
  },
  {
   "cell_type": "code",
   "execution_count": null,
   "metadata": {},
   "outputs": [],
   "source": [
    "n=int(input())\n",
    "def squareroot(n):\n",
    "    l = 0\n",
    "    r = n \n",
    "    while abs(l-r)>10**-7:\n",
    "        mid = (l+r)/2\n",
    "        if mid**2>n :\n",
    "            r = mid\n",
    "        else:\n",
    "            l = mid\n",
    "    return round(mid,6)\n",
    "print(\"%.6f\" % squareroot(n))"
   ]
  },
  {
   "cell_type": "code",
   "execution_count": 111,
   "metadata": {},
   "outputs": [
    {
     "name": "stdout",
     "output_type": "stream",
     "text": [
      "2\n"
     ]
    }
   ],
   "source": [
    "#This is another searching problem. The list given will have a valley trend. The valley_list is created by the following steps. A sorted list is randomly divided in two parts, not necessarily equal. The left part is then reversed and put back in place.\n",
    "#\n",
    "#sorted_list: [1, 2, 3, 4, 6, 7, 8, 11, 13, 14, 15, 16, 17]\n",
    "#\n",
    "#valley_list will be obtained by dividing this list at 13 and reversing the left half making it [13, 11, 8, 7, 6, 4, 3, 2, 1, 14, 15, 16, 17]. Find the index of the given integer key in the given valley_list.\n",
    "\n",
    "\n",
    "\n",
    "\n",
    "mylist= [1,2,3,4,5]#ast.literal_eval(input())\n",
    "key=3 #int(input())\n",
    "\n",
    "\n",
    "def valley_search(mylist,key):\n",
    "    L = 0\n",
    "    R = len(mylist)-1\n",
    "\n",
    "    while L<=R:\n",
    "        mid = (L+R)//2\n",
    "\n",
    "        if key == mylist[mid]:\n",
    "            return mid\n",
    "        elif mylist[L] >= mylist[mid]:\n",
    "            if mylist[L] >= key and key > mylist[mid]:\n",
    "                R = mid - 1\n",
    "            else :\n",
    "                L = mid + 1\n",
    "        else : \n",
    "            if mylist[mid] < key and key <= mylist[R]: # Modified Condition\n",
    "                L = mid + 1\n",
    "            else :\n",
    "                R = mid - 1\n",
    "    return -1\n",
    "\n",
    "print(valley_search(mylist,key))\n"
   ]
  },
  {
   "cell_type": "code",
   "execution_count": 114,
   "metadata": {},
   "outputs": [
    {
     "name": "stdout",
     "output_type": "stream",
     "text": [
      "True\n"
     ]
    }
   ],
   "source": [
    "'''In mathematics, an arithmetic progression (AP) or arithmetic sequence is a sequence of numbers such that the difference between the consecutive terms is constant. The difference here means the second minus the first. For instance, sequence 5, 7, 9, 11, 13, 15, . . . is an arithmetic progression with common difference of 2.\n",
    "Given any three terms of some random Arithematic progression and an integer key, you have to determine if the key will be present in the Arithematic sequence or no. check out sample input/output for more clarification.\n",
    "'''\n",
    "#import ast\n",
    "series= [1,3,5] #ast.literal_eval(input())\n",
    "key= 7 #int(input())\n",
    "\n",
    "def ap_Series(series,key):\n",
    "    d=series[1]-series[0]\n",
    "    a=series[0]\n",
    "    n=(abs(key-a))%d\n",
    "    if n==0:\n",
    "        return True\n",
    "    else:\n",
    "        return False\n",
    "print(ap_Series(series,key))"
   ]
  },
  {
   "cell_type": "code",
   "execution_count": 127,
   "metadata": {},
   "outputs": [
    {
     "name": "stdout",
     "output_type": "stream",
     "text": [
      "-0.368573\n"
     ]
    }
   ],
   "source": [
    "# input has been taken for you\n",
    "n=15\n",
    "#int(input())\n",
    "\n",
    "#start writing your code from here\n",
    "\n",
    "#we define function f(n, x)\n",
    "#this will take in n and x and find n^x+x\n",
    "def f(n,x):\n",
    "    a=n**x\n",
    "    b=a+x\n",
    "    return b\n",
    "\n",
    "#initial search space is from -n to n\n",
    "l=-n\n",
    "r=n\n",
    "# depending on value of f(n,x) we will change our search space\n",
    "mid=(l+r)/2\n",
    "\n",
    "while (abs(l-r)>10**-8) and (f(n,mid)!=0):\n",
    "    mid=(l+r)/2\n",
    "    if f(n,mid)>0: #if f(n,x) > 0 means root lies in the left half\n",
    "        r=mid\n",
    "    elif f(n,mid)<0: #if f(n,x) < 0 means root lies in the right half\n",
    "        l=mid\n",
    "    \n",
    "print('%0.6f' %round(mid, 6))"
   ]
  }
 ],
 "metadata": {
  "kernelspec": {
   "display_name": "Python 3",
   "language": "python",
   "name": "python3"
  }
 },
 "nbformat": 4,
 "nbformat_minor": 4
}
