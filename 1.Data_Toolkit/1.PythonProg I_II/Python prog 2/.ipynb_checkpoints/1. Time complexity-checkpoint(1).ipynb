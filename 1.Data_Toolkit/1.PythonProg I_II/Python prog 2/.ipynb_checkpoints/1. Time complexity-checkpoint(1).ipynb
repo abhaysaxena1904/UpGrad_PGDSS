{
 "cells": [
  {
   "cell_type": "code",
   "execution_count": 4,
   "metadata": {},
   "outputs": [
    {
     "name": "stdout",
     "output_type": "stream",
     "text": [
      "24\n",
      "0.0\n"
     ]
    }
   ],
   "source": [
    "import time \n",
    "mylist=[1,4,5,8,4,6,4,5,7,2,5,7,8,4,2,2,4,6,7,2,4,2,2,4,3,2,5] #fill up the list with some integer values, as many as you want\n",
    "k= 3 #fill in this line too\n",
    "start = time.process_time() \n",
    "for i in range(len(mylist)):\n",
    "               if mylist[i]==k:\n",
    "                   print(i)\n",
    "print(time.process_time() - start)\n"
   ]
  },
  {
   "cell_type": "code",
   "execution_count": 8,
   "metadata": {},
   "outputs": [
    {
     "name": "stdout",
     "output_type": "stream",
     "text": [
      "1\n",
      "2\n",
      "3\n",
      "4\n",
      "5\n",
      "6\n",
      "7\n",
      "8\n",
      "9\n",
      "10\n"
     ]
    }
   ],
   "source": [
    "def my_function(p):\n",
    "    a = 0\n",
    "    for i in range(2,p):\n",
    "        a = a + 1\n",
    "        print(a)\n",
    "my_function(12)"
   ]
  },
  {
   "cell_type": "code",
   "execution_count": null,
   "metadata": {},
   "outputs": [],
   "source": []
  }
 ],
 "metadata": {
  "kernelspec": {
   "display_name": "Python 3",
   "language": "python",
   "name": "python3"
  },
  "language_info": {
   "codemirror_mode": {
    "name": "ipython",
    "version": 3
   },
   "file_extension": ".py",
   "mimetype": "text/x-python",
   "name": "python",
   "nbconvert_exporter": "python",
   "pygments_lexer": "ipython3",
   "version": "3.8.3"
  }
 },
 "nbformat": 4,
 "nbformat_minor": 4
}
