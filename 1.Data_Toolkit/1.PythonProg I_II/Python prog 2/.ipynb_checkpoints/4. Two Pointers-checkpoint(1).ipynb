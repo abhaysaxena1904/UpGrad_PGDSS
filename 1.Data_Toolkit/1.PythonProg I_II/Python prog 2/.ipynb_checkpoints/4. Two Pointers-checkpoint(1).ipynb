{
 "cells": [
  {
   "cell_type": "markdown",
   "metadata": {},
   "source": [
    "# Merge Sort"
   ]
  },
  {
   "cell_type": "code",
   "execution_count": 1,
   "metadata": {},
   "outputs": [
    {
     "name": "stdout",
     "output_type": "stream",
     "text": [
      "[1, 2, 3, 3, 4, 5, 5, 6, 7, 8, 9, 10, 11, 12, 13]\n"
     ]
    }
   ],
   "source": [
    "list1=[1, 3, 5, 7, 9, 10]\n",
    "list2=[2, 3, 4, 5, 6, 8, 11, 12, 13]\n",
    "l1=len(list1)\n",
    "l2=len(list2)\n",
    "out=[]\n",
    "i=0\n",
    "j=0\n",
    "\n",
    "while i<l1 and j<l2:\n",
    "    if list1[i]<=list2[j]:\n",
    "        out.append(list1[i])\n",
    "        i=i+1\n",
    "        \n",
    "    else:\n",
    "        out.append(list2[j])\n",
    "        j=j+1\n",
    "\n",
    "        \n",
    "out = out +list1[i:]+list2[j:]\n",
    "print(out)\n",
    "\n"
   ]
  },
  {
   "cell_type": "markdown",
   "metadata": {},
   "source": [
    "# Specific Sum"
   ]
  },
  {
   "cell_type": "code",
   "execution_count": 20,
   "metadata": {},
   "outputs": [
    {
     "name": "stdout",
     "output_type": "stream",
     "text": [
      "5 19\n"
     ]
    }
   ],
   "source": [
    "a= [5, 6, 7, 10, 16, 17, 19]\n",
    "k= 24\n",
    "\n",
    "def sp_sum(a,k):\n",
    "    l=0\n",
    "    r=len(a)-1\n",
    "    while l<r:\n",
    "        if a[l]+a[r] == k:\n",
    "            return a[l],a[r]\n",
    "        elif a[l]+a[r]<k:\n",
    "            l=l+1\n",
    "        elif a[l]+a[r]>k:\n",
    "            r=r-1\n",
    "            \n",
    "print(*sp_sum(a,k))"
   ]
  },
  {
   "cell_type": "markdown",
   "metadata": {},
   "source": [
    "# Sorting 0's and 1's"
   ]
  },
  {
   "cell_type": "code",
   "execution_count": 22,
   "metadata": {},
   "outputs": [
    {
     "name": "stdout",
     "output_type": "stream",
     "text": [
      "[0, 0, 0, 0, 0, 0, 0, 1, 1, 1, 1, 1, 1, 1]\n"
     ]
    }
   ],
   "source": [
    "# Program to sort a list of 0s and 1s in one traversal of the list\n",
    "\n",
    "# Given list of 0s and 1s\n",
    "v = [0, 0, 1, 1, 1, 1, 0, 1, 0, 0, 0, 1, 1, 0]\n",
    "n = len(v)\n",
    "# Initialise two variables 'i' and 'j' to 1, indicating that they are currently pointing at the \n",
    "# first element in the list.\n",
    "i = 0\n",
    "j = 0\n",
    "\n",
    "# Run a loop from 1 to the length of the list, with the variable 'i'\n",
    "for i in range(n):\n",
    "# If you encounter a zero, swap the values between v[i] & v[j] and increment 'j' as well. 'i'\n",
    "# anyway gets incremented with every iteration of the loop. Think about it. This way, 'j' will\n",
    "# always point at the first '1' that hasn't been sorted. Swapping the value of v[i]\n",
    "# and v[j] will help replace the 1s with 0s that come after it. If v[j] is pointing at zero,\n",
    "# swapping won't matter anyway.\n",
    "    if(v[i] == 0):\n",
    "        temp = v[j]\n",
    "        v[j] = v[i]\n",
    "        v[i] = temp\n",
    "        j = j + 1\n",
    "\n",
    "# Print the sorted list\n",
    "print(v)"
   ]
  },
  {
   "cell_type": "markdown",
   "metadata": {},
   "source": [
    "# Practice Question I"
   ]
  },
  {
   "cell_type": "code",
   "execution_count": 49,
   "metadata": {},
   "outputs": [
    {
     "name": "stdout",
     "output_type": "stream",
     "text": [
      "[0, 0, 0, 0, 0, 1, 1, 1, 1, 2, 2, 2, 2]\n"
     ]
    }
   ],
   "source": [
    "# Program to sort a list of 0s and 1s in one traversal of the list\n",
    "v = [0, 2, 0,2, 0, 1, 1, 2, 0,2,1,0, 1]\n",
    "\n",
    "n = len(v)\n",
    "i = 0\n",
    "j = 0\n",
    "\n",
    "for i in range(n):\n",
    "    if v[i] == 0:\n",
    "        temp = v[j]\n",
    "        v[j] = v[i]\n",
    "        v[i] = temp\n",
    "        j = j + 1  \n",
    "for i in range(n):\n",
    "    if v[i] == 1:\n",
    "        temp = v[j]\n",
    "        v[j] = v[i]\n",
    "        v[i] = temp\n",
    "        j = j + 1  \n",
    "# Print the sorted list\n",
    "print(v)"
   ]
  },
  {
   "cell_type": "markdown",
   "metadata": {},
   "source": [
    "# Practice Question II"
   ]
  },
  {
   "cell_type": "code",
   "execution_count": 67,
   "metadata": {},
   "outputs": [
    {
     "name": "stdout",
     "output_type": "stream",
     "text": [
      "No\n"
     ]
    }
   ],
   "source": [
    "# Given a list 'L' of sorted integers and another non-negative integer k, find if there exist 2 indices i and j such that L[i] - L[j] = k, i != j.\n",
    "a=[1, 3, 5, 6, 10]\n",
    "k=8\n",
    "\n",
    "\n",
    "def sp_dif(a,k):\n",
    "    l=0\n",
    "    r=len(a)-1\n",
    "    while l<r:\n",
    "        if a[r]-a[l] == k:\n",
    "            return \"Yes\"\n",
    "        elif  a[r]-a[l] > k:\n",
    "            l=l+1\n",
    "        elif  a[r]-a[l] < k:\n",
    "            r=r-1\n",
    "    return \"No\"\n",
    "            \n",
    "print(sp_dif(a,k))\n"
   ]
  },
  {
   "cell_type": "code",
   "execution_count": 169,
   "metadata": {},
   "outputs": [
    {
     "name": "stdout",
     "output_type": "stream",
     "text": [
      "[1, 2, 8, 8, 8]\n"
     ]
    }
   ],
   "source": [
    "# Find the intersection of two sorted lists, i.e., find the elements that occur in both.\n",
    "\n",
    "l1=[1, 1, 2, 4, 8, 8, 8, 9]\n",
    "l2=[1, 2, 6, 7, 8, 8, 8]\n",
    "\n",
    "i=j=0\n",
    "c=[]\n",
    "\n",
    "for i in  range(min(len(l1),len(l2))):\n",
    "    for j in  range(max(len(l1),len(l2))):\n",
    "        if l1[j] == l2[i]:\n",
    "            c.append(l1[j])\n",
    "            break\n",
    "        j+=1\n",
    "    i+=1             \n",
    "            \n",
    "            \n",
    "\n",
    "print(c)"
   ]
  },
  {
   "cell_type": "code",
   "execution_count": null,
   "metadata": {},
   "outputs": [],
   "source": []
  },
  {
   "cell_type": "code",
   "execution_count": null,
   "metadata": {},
   "outputs": [],
   "source": []
  },
  {
   "cell_type": "code",
   "execution_count": null,
   "metadata": {},
   "outputs": [],
   "source": []
  }
 ],
 "metadata": {
  "kernelspec": {
   "display_name": "Python 3",
   "language": "python",
   "name": "python3"
  },
  "language_info": {
   "codemirror_mode": {
    "name": "ipython",
    "version": 3
   },
   "file_extension": ".py",
   "mimetype": "text/x-python",
   "name": "python",
   "nbconvert_exporter": "python",
   "pygments_lexer": "ipython3",
   "version": "3.8.3"
  }
 },
 "nbformat": 4,
 "nbformat_minor": 4
}
