{
 "cells": [
  {
   "cell_type": "code",
   "execution_count": null,
   "metadata": {},
   "outputs": [],
   "source": []
  },
  {
   "cell_type": "code",
   "execution_count": 3,
   "metadata": {},
   "outputs": [
    {
     "data": {
      "text/plain": [
       "120"
      ]
     },
     "execution_count": 3,
     "metadata": {},
     "output_type": "execute_result"
    }
   ],
   "source": [
    "#Factorial\n",
    "\n",
    "def factorial(n):\n",
    "    if n==0:\n",
    "        return 1\n",
    "    return n*factorial(n-1)\n",
    "\n",
    "factorial(5)"
   ]
  },
  {
   "cell_type": "code",
   "execution_count": 3,
   "metadata": {},
   "outputs": [
    {
     "name": "stdout",
     "output_type": "stream",
     "text": [
      "-3\n",
      "-2\n",
      "-1\n",
      "0\n",
      "1\n",
      "2\n",
      "3\n"
     ]
    }
   ],
   "source": [
    "# You’re given a positive number ‘n’ as an input. Write a recursive program to print all the numbers from -n to +n (including 0)\n",
    "\n",
    "def prnt(n):\n",
    "    if n==0:\n",
    "        print(0)     \n",
    "    else:\n",
    "        print(-n)\n",
    "        prnt(n-1)\n",
    "        print(n)    \n",
    "prnt(3)"
   ]
  },
  {
   "cell_type": "code",
   "execution_count": 15,
   "metadata": {},
   "outputs": [
    {
     "data": {
      "text/plain": [
       "21"
      ]
     },
     "execution_count": 15,
     "metadata": {},
     "output_type": "execute_result"
    }
   ],
   "source": [
    "# Fibonacci Series\n",
    "def fib(n):\n",
    "    \n",
    "    if n==1 or n==2:\n",
    "        return 1\n",
    "    p1=fib(n-1)\n",
    "    p2=fib(n-2)\n",
    "    n=p1+p2\n",
    "    return n\n",
    "\n",
    "fib(8)\n"
   ]
  },
  {
   "cell_type": "code",
   "execution_count": 23,
   "metadata": {},
   "outputs": [
    {
     "data": {
      "text/plain": [
       "30"
      ]
     },
     "execution_count": 23,
     "metadata": {},
     "output_type": "execute_result"
    }
   ],
   "source": [
    "# sum of the squares upto n\n",
    "\n",
    "def Unknown_func(number):\n",
    "    if number == 0:\n",
    "        return 0\n",
    "    else:\n",
    "        return number*number + Unknown_func(number-1)\n",
    "\n",
    "Unknown_func(4)"
   ]
  },
  {
   "cell_type": "code",
   "execution_count": 22,
   "metadata": {},
   "outputs": [
    {
     "data": {
      "text/plain": [
       "5"
      ]
     },
     "execution_count": 22,
     "metadata": {},
     "output_type": "execute_result"
    }
   ],
   "source": [
    "# floor(log2(n))\n",
    "def Unknown_func(number):\n",
    "    if(number == 1):\n",
    "        return (0)\n",
    "    else:\n",
    "        return (1 + Unknown_func(number//2))\n",
    "    \n",
    "Unknown_func(63)"
   ]
  },
  {
   "cell_type": "code",
   "execution_count": 21,
   "metadata": {},
   "outputs": [
    {
     "data": {
      "text/plain": [
       "8"
      ]
     },
     "execution_count": 21,
     "metadata": {},
     "output_type": "execute_result"
    }
   ],
   "source": [
    "#Fibonacci\n",
    "\n",
    "\n",
    "def Unknown_func(n):\n",
    "    if n <= 1:\n",
    "        return(n)\n",
    "    else:\n",
    "        return (Unknown_func(n-1) + Unknown_func(n-2))\n",
    "\n",
    "Unknown_func(6)"
   ]
  },
  {
   "cell_type": "code",
   "execution_count": 32,
   "metadata": {},
   "outputs": [
    {
     "data": {
      "text/plain": [
       "2"
      ]
     },
     "execution_count": 32,
     "metadata": {},
     "output_type": "execute_result"
    }
   ],
   "source": [
    "# Practice Ques\n",
    "\n",
    "a=1\n",
    "b=1\n",
    "c=1\n",
    "\n",
    "def f(n):\n",
    "    if n>b:\n",
    "        return n-c\n",
    "    else:\n",
    "        return f(a+f(a+f(a+f(a+n))))\n",
    "        \n",
    "    \n",
    "def S(a,b,c):\n",
    "    if b==0:\n",
    "        return f(a+f(a+f(a+f(a))))\n",
    "    return f(b)+S(a,b-1,c)\n",
    "\n",
    "\n",
    "S(a,b,c)"
   ]
  },
  {
   "cell_type": "code",
   "execution_count": 42,
   "metadata": {},
   "outputs": [
    {
     "name": "stdout",
     "output_type": "stream",
     "text": [
      "12, 7, 2, -3, 2, 7, 12\n"
     ]
    }
   ],
   "source": [
    "n=12\n",
    "# Declaring another variable m equal to n\n",
    "m = n\n",
    "k=5\n",
    "\n",
    "def pattern(n, m, k):\n",
    "    \n",
    "    # Base case. If m <= 0, print m and return from the function\n",
    "    if m <= 0:\n",
    "        print(m, end = \", \")\n",
    "        return\n",
    "    \n",
    "    # Print m, call the recursive function with (n, m-k, k), and then print m again\n",
    "    print(m, end = \", \")\n",
    "    pattern(n, m-k, k)\n",
    "    # This conditional statement has been used so that you do not print a comma\n",
    "    # after the last element.\n",
    "    if(n != m):\n",
    "        print(m, end = \", \")\n",
    "    else:\n",
    "        print(m)\n",
    "\n",
    "\n",
    "'''Calling the function with 3 arguments - n, m, and k. The extra m will be used\n",
    "for recursive calls. The n will be preserved because if you check the output\n",
    "format, you will see that after the last element, you shouldn't print a comma.\n",
    "The value of 'n' in the function will be used primarily for that.\n",
    "'''\n",
    "pattern(n, m, k)"
   ]
  },
  {
   "cell_type": "code",
   "execution_count": null,
   "metadata": {},
   "outputs": [],
   "source": []
  },
  {
   "cell_type": "code",
   "execution_count": null,
   "metadata": {},
   "outputs": [],
   "source": []
  }
 ],
 "metadata": {
  "kernelspec": {
   "display_name": "Python 3",
   "language": "python",
   "name": "python3"
  },
  "language_info": {
   "codemirror_mode": {
    "name": "ipython",
    "version": 3
   },
   "file_extension": ".py",
   "mimetype": "text/x-python",
   "name": "python",
   "nbconvert_exporter": "python",
   "pygments_lexer": "ipython3",
   "version": "3.8.3"
  }
 },
 "nbformat": 4,
 "nbformat_minor": 4
}
