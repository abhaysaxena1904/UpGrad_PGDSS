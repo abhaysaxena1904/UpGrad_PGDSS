{
 "cells": [
  {
   "cell_type": "code",
   "execution_count": 2,
   "metadata": {},
   "outputs": [],
   "source": [
    "#Lists"
   ]
  },
  {
   "cell_type": "code",
   "execution_count": 10,
   "metadata": {},
   "outputs": [
    {
     "name": "stdout",
     "output_type": "stream",
     "text": [
      "1\n"
     ]
    }
   ],
   "source": [
    "#Print Min in a list\n",
    "\n",
    "\n",
    "#import ast\n",
    "#input_str = input()\n",
    "#input_list = ast.literal_eval(input_str)\n",
    "input_list = [1,5,2,5]\n",
    "if len(input_list) ==0:\n",
    "    print('No element found')\n",
    "\n",
    "else:\n",
    "    m=input_list[0]\n",
    "    for i in range(len(input_list)):\n",
    "        if input_list[i]<m:\n",
    "            m=input_list[i]\n",
    "    \n",
    "print(m)    "
   ]
  },
  {
   "cell_type": "code",
   "execution_count": 15,
   "metadata": {},
   "outputs": [
    {
     "name": "stdout",
     "output_type": "stream",
     "text": [
      "Min is: 1\n",
      "Max is: 8\n",
      "Second Min is: 2\n",
      "Second Max is: 7\n"
     ]
    }
   ],
   "source": [
    "l=[5,3,7,1,6,8,2]\n",
    "l.sort()\n",
    "print(\"Min is:\",l[0])\n",
    "print(\"Max is:\",l[-1])\n",
    "print(\"Second Min is:\",l[1])\n",
    "print(\"Second Max is:\",l[-2])"
   ]
  },
  {
   "cell_type": "code",
   "execution_count": 60,
   "metadata": {},
   "outputs": [
    {
     "data": {
      "text/plain": [
       "True"
      ]
     },
     "execution_count": 60,
     "metadata": {},
     "output_type": "execute_result"
    }
   ],
   "source": [
    "# Above Average\n",
    " \n",
    "l=[2,4,6,8,-10]\n",
    "check=5\n",
    "sum=0\n",
    "for i in range(len(l)):\n",
    "    sum=sum+l[i]\n",
    "avg= sum/len(l)\n",
    "\n",
    "if check > avg:\n",
    "    e=True\n",
    "else:\n",
    "    e=False\n",
    "    \n",
    "e"
   ]
  },
  {
   "cell_type": "code",
   "execution_count": 67,
   "metadata": {},
   "outputs": [
    {
     "data": {
      "text/plain": [
       "2.0"
      ]
     },
     "execution_count": 67,
     "metadata": {},
     "output_type": "execute_result"
    }
   ],
   "source": [
    "#from statistics import mean\n",
    "#mean(l)\n",
    "\n",
    "sum/len(l)"
   ]
  },
  {
   "cell_type": "code",
   "execution_count": 55,
   "metadata": {},
   "outputs": [
    {
     "name": "stdout",
     "output_type": "stream",
     "text": [
      "8,7,6,2,9\n",
      "8,9,4,6,1\n",
      "[8, 7, 6, 2, 9, 8, 9]\n"
     ]
    }
   ],
   "source": [
    "#Recruit New Members\n",
    "\n",
    "\n",
    "import ast\n",
    "team = list(ast.literal_eval(input()))\n",
    "a_l = list(ast.literal_eval(input()))\n",
    "\n",
    "def eleg(l,check):\n",
    "    sum=0\n",
    "    for i in range(len(l)):\n",
    "        sum=sum+l[i]\n",
    "    avg = sum/len(l)\n",
    "\n",
    "    if check > avg:\n",
    "        return 1\n",
    "    else:\n",
    "        return 0\n",
    "    \n",
    "for a in a_l:\n",
    "    e = eleg(team,a)\n",
    "    if e==1:\n",
    "        team.append(a)\n",
    "        \n",
    "print(team)\n",
    "    \n"
   ]
  },
  {
   "cell_type": "code",
   "execution_count": 68,
   "metadata": {},
   "outputs": [
    {
     "name": "stdout",
     "output_type": "stream",
     "text": [
      "2\n"
     ]
    }
   ],
   "source": [
    "# Event Clash in events and weding input by user\n",
    "\n",
    "#mport ast\n",
    "#nput_str1 = input()\n",
    "#nput_list1 = ast.literal_eval(input_str1)\n",
    "#events = input_list1\n",
    "events =[[3,4],[5,10],[7,11]]\n",
    "\n",
    "#wedding = int(input())\n",
    "wedding = 8\n",
    "count=0\n",
    "\n",
    "for eve in events:\n",
    "    if wedding in range(eve[0],eve[-1]):\n",
    "        for i in range(eve[0],eve[-1]):\n",
    "            if i==wedding:\n",
    "                count = count+1\n",
    "#for eve in events:\n",
    " #   if wedding in range(eve[0],eve[-1]+1):\n",
    "  #      count = count+1\n",
    "    \n",
    "print(count)\n"
   ]
  },
  {
   "cell_type": "code",
   "execution_count": 73,
   "metadata": {},
   "outputs": [
    {
     "name": "stdout",
     "output_type": "stream",
     "text": [
      "4,6\n",
      "[1, 1, 1, 1, 1, 1]\n",
      "[1, 0, 0, 0, 0, 1]\n",
      "[1, 0, 0, 0, 0, 1]\n",
      "[1, 1, 1, 1, 1, 1]\n"
     ]
    }
   ],
   "source": [
    "import ast\n",
    "a=ast.literal_eval(input())\n",
    "m=a[0]\n",
    "n=a[1]\n",
    "\n",
    "f=[0]*n\n",
    "f= [list(f) for i in range(m)]\n",
    "\n",
    "for i in range(m):\n",
    "    for j in range(n):\n",
    "        if i==0 or i==(m-1) or j==0 or j==(n-1):\n",
    "            f[i][j]=1\n",
    "\n",
    "for i in f:\n",
    "    print(i)"
   ]
  },
  {
   "cell_type": "code",
   "execution_count": 90,
   "metadata": {},
   "outputs": [
    {
     "name": "stdout",
     "output_type": "stream",
     "text": [
      "[1, 0, 0]\n",
      "[0, 0, 0]\n",
      "[0, 0, 0]\n"
     ]
    }
   ],
   "source": [
    "original_list=[0, 0, 0]\n",
    "copy1=original_list\n",
    "copy2=list(original_list)\n",
    "copy3=list.copy(original_list)\n",
    "original_list[0]=1\n",
    "print(copy1)\n",
    "print(copy2)\n",
    "print(copy3)\n"
   ]
  },
  {
   "cell_type": "code",
   "execution_count": null,
   "metadata": {},
   "outputs": [],
   "source": [
    "#Practice Questions"
   ]
  },
  {
   "cell_type": "code",
   "execution_count": 93,
   "metadata": {},
   "outputs": [
    {
     "name": "stdout",
     "output_type": "stream",
     "text": [
      "[1, 2, 2, 2, 3, 3, 4, 4, 5]\n",
      "[1, 2, 3, 4, 5]\n"
     ]
    }
   ],
   "source": [
    "# import ast\n",
    "# mylist=ast.literal_eval(input())\n",
    "mylist= [2,3,4,5,2,3,4,1,2]\n",
    "count=[]\n",
    "newlist=list(set(mylist))\n",
    "mylist.sort() \n",
    "print(mylist)\n",
    "print(newlist)\n",
    "\n",
    "    "
   ]
  },
  {
   "cell_type": "code",
   "execution_count": 94,
   "metadata": {},
   "outputs": [
    {
     "name": "stdout",
     "output_type": "stream",
     "text": [
      "[11, 5, 4, 6, 14]\n",
      "automobiles  -  11\n",
      "Honda  -  5\n",
      "Benz  -  4\n",
      "Suzuki  -  6\n",
      "Morris Garages  -  14\n"
     ]
    }
   ],
   "source": [
    "# Example on list comprehension\n",
    "l1 = [\"automobiles\", \"Honda\", \"Benz\", \"Suzuki\", \"Morris Garages\" ]\n",
    "# Create a list consisting of length of each element from the above list\n",
    "l2 = [len(i) for i in l1]\n",
    "print(l2)\n",
    "for i,j in zip(l1,l2):\n",
    "    print(i, \" - \", j)"
   ]
  },
  {
   "cell_type": "code",
   "execution_count": 97,
   "metadata": {},
   "outputs": [
    {
     "name": "stdout",
     "output_type": "stream",
     "text": [
      "Possible\n"
     ]
    }
   ],
   "source": [
    "# Practice Question I : Lego block\n",
    "sides = [5 ,4, 2, 1, 4 ,5]\n",
    "\n",
    "if sides[0]>=sides[-1] or sides[0]>=sides[1]:\n",
    "    print('Possible')\n",
    "else:\n",
    "    print('Impossible')"
   ]
  },
  {
   "cell_type": "code",
   "execution_count": 98,
   "metadata": {},
   "outputs": [
    {
     "name": "stdout",
     "output_type": "stream",
     "text": [
      "[5, 5, 5, 5, 5, 5]\n",
      "Possible\n"
     ]
    }
   ],
   "source": [
    "sides = [5 ,4, 2, 1, 4 ,5]\n",
    "\n",
    "#we will make a tower by taking the larger lego(brick) from one of the ends of the list and then remove that element\n",
    "tower=[]\n",
    "\n",
    "while sides: #while sides is not empty\n",
    "    if sides[0]>=sides[-1]:\n",
    "        tower.append(int(sides[0]))\n",
    "        sides.pop()\n",
    "    else:\n",
    "        tower.append(int(sides[-1]))\n",
    "        sides.pop(-1)\n",
    "print(tower)\n",
    "#now we check if all the elements are in descending order in tower\n",
    "flag=1\n",
    "for i in range(len(tower)-2):\n",
    "    if tower[i]<tower[i+1]:\n",
    "        flag=0\n",
    "        break\n",
    "if(flag==1):\n",
    "    print('Possible')\n",
    "else:\n",
    "    print('Impossible')\n"
   ]
  },
  {
   "cell_type": "code",
   "execution_count": 99,
   "metadata": {},
   "outputs": [
    {
     "name": "stdout",
     "output_type": "stream",
     "text": [
      "Possible\n"
     ]
    }
   ],
   "source": [
    "sides = [5, 4, 2, 1, 4, 5]\n",
    "\n",
    "l=len(sides)\n",
    "i = 0 \n",
    "diff=[(sides[i]-sides[i+1]) for i in range(l-1)]\n",
    "\n",
    "while(i<l-1 and diff[i]>=0):\n",
    "    i+=1 \n",
    "while(i<l-1 and diff[i]<=0):\n",
    "    i+=1\n",
    "if(i==l-1): \n",
    "    print(\"Possible\") \n",
    "else:\n",
    "    print(\"Impossible\")"
   ]
  },
  {
   "cell_type": "code",
   "execution_count": 103,
   "metadata": {},
   "outputs": [
    {
     "name": "stdout",
     "output_type": "stream",
     "text": [
      "2\n",
      "11\n"
     ]
    }
   ],
   "source": [
    "# PASCELS triangle\n",
    "n = int(input())\n",
    "\n",
    "l= 11**(n-1)\n",
    "print(l)"
   ]
  },
  {
   "cell_type": "code",
   "execution_count": 107,
   "metadata": {},
   "outputs": [],
   "source": [
    "#n=int(input())\n",
    "def pascal(n):\n",
    "    n=n-1\n",
    "    line=[1]    \n",
    "    for k in range(max(n,0)):\n",
    "        line.append(int(line[k]*(n-k)/(k+1)))\n",
    "    return line\n",
    "#print(pascal(n))"
   ]
  },
  {
   "cell_type": "code",
   "execution_count": 152,
   "metadata": {},
   "outputs": [
    {
     "name": "stdout",
     "output_type": "stream",
     "text": [
      "      1\n",
      "     1 1\n",
      "    1 2 1\n",
      "   1 3 3 1\n",
      "  1 4 6 4 1\n",
      " 1 5 10 10 5 1\n",
      "1 6 15 20 15 6 1\n"
     ]
    }
   ],
   "source": [
    "# pascal triangle\n",
    "\n",
    "n=8\n",
    "l=[]\n",
    "for i in range(1,n):\n",
    "    for j in range(i,n):\n",
    "        if i<j:\n",
    "            print(end=\" \")\n",
    "        l=pascal(i)\n",
    "    print(*l)"
   ]
  },
  {
   "cell_type": "code",
   "execution_count": 156,
   "metadata": {},
   "outputs": [
    {
     "name": "stdout",
     "output_type": "stream",
     "text": [
      "[1,2,3,4],1\n",
      "[1]\n",
      "[2]\n",
      "[3]\n",
      "[4]\n"
     ]
    }
   ],
   "source": [
    "#Break the list\n",
    "import ast\n",
    "input_str = input()\n",
    "input_list = ast.literal_eval(input_str)\n",
    "lis=input_list[0]\n",
    "k=input_list[1]\n",
    "\n",
    "chunk=[lis[i:i+k] for i in range(0,len(lis),k)]\n",
    "print('\\n'.join(map(str,chunk)))\n",
    "\n",
    "\n"
   ]
  },
  {
   "cell_type": "code",
   "execution_count": 226,
   "metadata": {},
   "outputs": [
    {
     "name": "stdout",
     "output_type": "stream",
     "text": [
      "[1, 2, 3, 4, 5, 6]\n",
      "[7, 8, 9]\n"
     ]
    }
   ],
   "source": [
    "l=[1,2,3,4,5,6,7,8,9]\n",
    "k=6\n",
    "\n",
    "o=[]\n",
    "for i in range(int(len(l)/k)+1):\n",
    "    print(l[:k])\n",
    "    l=l[k:]\n",
    "        "
   ]
  },
  {
   "cell_type": "code",
   "execution_count": 227,
   "metadata": {},
   "outputs": [
    {
     "name": "stdout",
     "output_type": "stream",
     "text": [
      "1,2,3,4\n",
      "3\n"
     ]
    }
   ],
   "source": [
    "#Second Maximum Number in a List\n",
    "import ast\n",
    "input_str = input()\n",
    "input_list = ast.literal_eval(input_str)\n",
    "\n",
    "second_largest=set(input_list)\n",
    "if len(second_largest)>1:\n",
    "    second_largest.remove(max(second_largest))\n",
    "    print(max(second_largest))\n",
    "else:\n",
    "    print('not present')\n"
   ]
  },
  {
   "cell_type": "code",
   "execution_count": 240,
   "metadata": {},
   "outputs": [
    {
     "name": "stdout",
     "output_type": "stream",
     "text": [
      "555555555\n",
      "544444445\n",
      "543333345\n",
      "543222345\n",
      "543212345\n",
      "543222345\n",
      "543333345\n",
      "544444445\n",
      "555555555\n"
     ]
    }
   ],
   "source": [
    "#Pattern Printing\n",
    "#input n taken here\n",
    "#n=int(input())\n",
    "n=5\n",
    "#we will make a list of lists with just [1] in it. We will run a for loop from i= 2 to n and in each iteration\n",
    "#we will add [i]*(2i-3) in top of the list and and in bottom\n",
    "#then add i on both sides of all sub_lists \n",
    "\n",
    "answer=[[1]]\n",
    "for i in range(2, n+1):\n",
    "    t=[i]*((2*i)-1)\n",
    "    answer.insert(0, t)\n",
    "    answer.append(t)\n",
    "    for a in answer:\n",
    "            if(a[0]<i):\n",
    "                a.insert(0,i)\n",
    "            if(a[-1]<i):         \n",
    "                a.append(i)\n",
    "\n",
    "answerfinal=[]\n",
    "#we join the elements of the string without space\n",
    "for a in answer:\n",
    "    answerfinal.append(\"\".join(str(j) for j in a))\n",
    "#print \n",
    "for a in answerfinal:\n",
    "    print(a)\n"
   ]
  },
  {
   "cell_type": "code",
   "execution_count": 275,
   "metadata": {},
   "outputs": [
    {
     "data": {
      "text/plain": [
       "'555555555'"
      ]
     },
     "execution_count": 275,
     "metadata": {},
     "output_type": "execute_result"
    }
   ],
   "source": [
    "\n"
   ]
  },
  {
   "cell_type": "code",
   "execution_count": null,
   "metadata": {},
   "outputs": [],
   "source": []
  }
 ],
 "metadata": {
  "kernelspec": {
   "display_name": "Python 3",
   "language": "python",
   "name": "python3"
  }
 },
 "nbformat": 4,
 "nbformat_minor": 4
}
