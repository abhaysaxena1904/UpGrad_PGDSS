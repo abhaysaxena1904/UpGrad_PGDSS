{
 "cells": [
  {
   "cell_type": "code",
   "execution_count": 2,
   "metadata": {},
   "outputs": [
    {
     "data": {
      "text/plain": [
       "1"
      ]
     },
     "execution_count": 2,
     "metadata": {},
     "output_type": "execute_result"
    }
   ],
   "source": [
    "# Output\n",
    "\n",
    "((500//7) % 5) ** 3"
   ]
  },
  {
   "cell_type": "code",
   "execution_count": 3,
   "metadata": {},
   "outputs": [
    {
     "data": {
      "text/plain": [
       "81"
      ]
     },
     "execution_count": 3,
     "metadata": {},
     "output_type": "execute_result"
    }
   ],
   "source": [
    " 3 * 3 ** 3"
   ]
  },
  {
   "cell_type": "code",
   "execution_count": 4,
   "metadata": {},
   "outputs": [
    {
     "data": {
      "text/plain": [
       "5"
      ]
     },
     "execution_count": 4,
     "metadata": {},
     "output_type": "execute_result"
    }
   ],
   "source": [
    "7^2"
   ]
  },
  {
   "cell_type": "code",
   "execution_count": 6,
   "metadata": {},
   "outputs": [
    {
     "data": {
      "text/plain": [
       "-2"
      ]
     },
     "execution_count": 6,
     "metadata": {},
     "output_type": "execute_result"
    }
   ],
   "source": [
    "~1"
   ]
  },
  {
   "cell_type": "code",
   "execution_count": 7,
   "metadata": {},
   "outputs": [
    {
     "name": "stdout",
     "output_type": "stream",
     "text": [
      "[]\n"
     ]
    }
   ],
   "source": [
    "print(list(range(10, 1)))"
   ]
  },
  {
   "cell_type": "code",
   "execution_count": 8,
   "metadata": {},
   "outputs": [
    {
     "data": {
      "text/plain": [
       "4"
      ]
     },
     "execution_count": 8,
     "metadata": {},
     "output_type": "execute_result"
    }
   ],
   "source": [
    "round(3.789)"
   ]
  },
  {
   "cell_type": "code",
   "execution_count": 13,
   "metadata": {},
   "outputs": [
    {
     "data": {
      "text/plain": [
       "1"
      ]
     },
     "execution_count": 13,
     "metadata": {},
     "output_type": "execute_result"
    }
   ],
   "source": [
    "# pow(a, b, c)  = (a ** b) % c\n",
    "pow(2,4,3)\n"
   ]
  },
  {
   "cell_type": "code",
   "execution_count": 27,
   "metadata": {},
   "outputs": [
    {
     "data": {
      "text/plain": [
       "True"
      ]
     },
     "execution_count": 27,
     "metadata": {},
     "output_type": "execute_result"
    }
   ],
   "source": [
    "#if list contains 0, print False else True\n",
    "#all([4, 6, 1])\n",
    "#all([4, 6, 0, 1])\n",
    "#all((4, 6, 0, 1))\n",
    "all({4, 6, -6, 1})"
   ]
  },
  {
   "cell_type": "code",
   "execution_count": 31,
   "metadata": {},
   "outputs": [
    {
     "data": {
      "text/plain": [
       "[3, 6, 7, 10, 1, 3]"
      ]
     },
     "execution_count": 31,
     "metadata": {},
     "output_type": "execute_result"
    }
   ],
   "source": [
    "L = [3, 6, 7, 3, 10, 1, 3]\n",
    "L.pop(3)\n",
    "L"
   ]
  },
  {
   "cell_type": "code",
   "execution_count": 33,
   "metadata": {},
   "outputs": [
    {
     "data": {
      "text/plain": [
       "65"
      ]
     },
     "execution_count": 33,
     "metadata": {},
     "output_type": "execute_result"
    }
   ],
   "source": [
    "ord('A')"
   ]
  },
  {
   "cell_type": "code",
   "execution_count": 34,
   "metadata": {},
   "outputs": [
    {
     "data": {
      "text/plain": [
       "(7, 1)"
      ]
     },
     "execution_count": 34,
     "metadata": {},
     "output_type": "execute_result"
    }
   ],
   "source": [
    "divmod(50, 7)"
   ]
  },
  {
   "cell_type": "code",
   "execution_count": 35,
   "metadata": {},
   "outputs": [
    {
     "data": {
      "text/plain": [
       "'0b10110'"
      ]
     },
     "execution_count": 35,
     "metadata": {},
     "output_type": "execute_result"
    }
   ],
   "source": [
    "bin(22)"
   ]
  },
  {
   "cell_type": "code",
   "execution_count": 38,
   "metadata": {},
   "outputs": [
    {
     "name": "stdout",
     "output_type": "stream",
     "text": [
      "[(-1, 'Rachel'), (0, 'Monica'), (1, 'Phoebe')]\n"
     ]
    }
   ],
   "source": [
    "names = ['Rachel', 'Monica', 'Phoebe']\n",
    "print(list(enumerate(names, start = -1)))\n"
   ]
  },
  {
   "cell_type": "code",
   "execution_count": 39,
   "metadata": {},
   "outputs": [
    {
     "name": "stdout",
     "output_type": "stream",
     "text": [
      "dlroW olleH\n"
     ]
    }
   ],
   "source": [
    "print(\"Hello World\"[::-1])"
   ]
  },
  {
   "cell_type": "code",
   "execution_count": 40,
   "metadata": {},
   "outputs": [
    {
     "data": {
      "text/plain": [
       "'y'"
      ]
     },
     "execution_count": 40,
     "metadata": {},
     "output_type": "execute_result"
    }
   ],
   "source": [
    "max(\"You should code in Python\")\n"
   ]
  },
  {
   "cell_type": "code",
   "execution_count": 41,
   "metadata": {},
   "outputs": [
    {
     "data": {
      "text/plain": [
       "6"
      ]
     },
     "execution_count": 41,
     "metadata": {},
     "output_type": "execute_result"
    }
   ],
   "source": [
    "\"Mississippi\".rfind('s')"
   ]
  },
  {
   "cell_type": "code",
   "execution_count": 42,
   "metadata": {},
   "outputs": [
    {
     "data": {
      "text/plain": [
       "1"
      ]
     },
     "execution_count": 42,
     "metadata": {},
     "output_type": "execute_result"
    }
   ],
   "source": [
    "\"Mississipi\".count(\"issi\")"
   ]
  },
  {
   "cell_type": "code",
   "execution_count": 43,
   "metadata": {},
   "outputs": [
    {
     "data": {
      "text/plain": [
       "'Heeeo'"
      ]
     },
     "execution_count": 43,
     "metadata": {},
     "output_type": "execute_result"
    }
   ],
   "source": [
    "\"Hello\".replace('l', 'e')"
   ]
  },
  {
   "cell_type": "code",
   "execution_count": 44,
   "metadata": {},
   "outputs": [
    {
     "name": "stdout",
     "output_type": "stream",
     "text": [
      "a is 7\n",
      "a is now 4\n",
      "a is finally 7\n"
     ]
    }
   ],
   "source": [
    "a = 7\n",
    "\n",
    "def func(a):\n",
    "    print('a is', a)\n",
    "    a = 4\n",
    "    print('a is now', a)\n",
    "    \n",
    "func(a)\n",
    "print('a is finally', a)"
   ]
  },
  {
   "cell_type": "code",
   "execution_count": 45,
   "metadata": {},
   "outputs": [
    {
     "name": "stdout",
     "output_type": "stream",
     "text": [
      "10\n",
      "11\n"
     ]
    }
   ],
   "source": [
    "def addn(*args):\n",
    "      return(sum(args))\n",
    "print(addn(1,2,3,4))\n",
    "print(addn(5,6))\n"
   ]
  },
  {
   "cell_type": "code",
   "execution_count": 46,
   "metadata": {},
   "outputs": [
    {
     "name": "stdout",
     "output_type": "stream",
     "text": [
      "[1, 8, 27, 64]\n"
     ]
    }
   ],
   "source": [
    "L = [1, 2, 3, 4]\n",
    "def cube_func(n):\n",
    "    return n**3\n",
    "print(list(map(cube_func, L)))\n"
   ]
  },
  {
   "cell_type": "code",
   "execution_count": 48,
   "metadata": {},
   "outputs": [
    {
     "name": "stdout",
     "output_type": "stream",
     "text": [
      "b\n"
     ]
    }
   ],
   "source": [
    "func = (lambda x, y, z: x if x > y & x > z else y if y > z else z)\n",
    "print(chr(func(ord('b'), ord('a'), ord('C'))))"
   ]
  },
  {
   "cell_type": "code",
   "execution_count": 49,
   "metadata": {},
   "outputs": [
    {
     "name": "stdout",
     "output_type": "stream",
     "text": [
      "10\n",
      "15\n",
      "20\n"
     ]
    }
   ],
   "source": [
    "L = [lambda x: x*2, lambda x: x*3, lambda x: x*4]\n",
    "\n",
    "for i in L:\n",
    "     print(i(5))"
   ]
  },
  {
   "cell_type": "code",
   "execution_count": 50,
   "metadata": {},
   "outputs": [
    {
     "name": "stdout",
     "output_type": "stream",
     "text": [
      "[1, 2, 3, 4, 1, 2, 3, 4]\n"
     ]
    }
   ],
   "source": [
    "L = [1, 2, 3, 4]\n",
    "print(L * 2)"
   ]
  },
  {
   "cell_type": "code",
   "execution_count": 51,
   "metadata": {},
   "outputs": [
    {
     "name": "stdout",
     "output_type": "stream",
     "text": [
      "{1: 2, 3: 4}\n"
     ]
    }
   ],
   "source": [
    "d = {1:2, 2:3, 3:4}\n",
    "d.pop(2)\n",
    "print(d)"
   ]
  },
  {
   "cell_type": "code",
   "execution_count": 53,
   "metadata": {},
   "outputs": [
    {
     "name": "stdout",
     "output_type": "stream",
     "text": [
      "{1, 2, 5, 6}\n"
     ]
    }
   ],
   "source": [
    "a = {1, 2, 3, 4}\n",
    "b = {3, 4, 5, 6}\n",
    "print(a ^ b)"
   ]
  },
  {
   "cell_type": "code",
   "execution_count": 58,
   "metadata": {},
   "outputs": [
    {
     "name": "stdout",
     "output_type": "stream",
     "text": [
      "[39, 9, 2, 24, 12]\n"
     ]
    }
   ],
   "source": [
    "L = [2, 24, 39, 12, 9]\n",
    "\n",
    "from random import shuffle\n",
    "shuffle(L)\n",
    "\n",
    "print(L)\n"
   ]
  },
  {
   "cell_type": "code",
   "execution_count": 59,
   "metadata": {},
   "outputs": [
    {
     "name": "stdout",
     "output_type": "stream",
     "text": [
      "[19, 10, 28, 82]\n"
     ]
    }
   ],
   "source": [
    "L = [13, 16, 2, 19, 22, 24, 10, 49, 28, 82, 18]\n",
    "final = []\n",
    "\n",
    "for i in range(len(L)):\n",
    "    if L[i]%9 == 1:\n",
    "        final.append(L[i])\n",
    "\n",
    "print(final)\n"
   ]
  },
  {
   "cell_type": "code",
   "execution_count": 60,
   "metadata": {},
   "outputs": [
    {
     "name": "stdout",
     "output_type": "stream",
     "text": [
      "Palindrome\n"
     ]
    }
   ],
   "source": [
    "s = 'hannah'\n",
    "flag = 1\n",
    "\n",
    "for i in range(len(s)):\n",
    "     if s[i] != s[-i-1]:\n",
    "          flag = 0\n",
    "          break\n",
    "\n",
    "if(flag ==1):\n",
    "     print('Palindrome')\n",
    "else:\n",
    "     print('Not a Palindrome')"
   ]
  },
  {
   "cell_type": "code",
   "execution_count": 61,
   "metadata": {},
   "outputs": [
    {
     "name": "stdout",
     "output_type": "stream",
     "text": [
      "[0, 4, 6]\n"
     ]
    }
   ],
   "source": [
    "l = [0, 8, 16, 10, 36, 44, 93]\n",
    "\n",
    "final = [int(x**0.5) for x in l if x**0.5 - int(x**0.5) == 0]\n",
    "        \n",
    "print(final)"
   ]
  },
  {
   "cell_type": "code",
   "execution_count": 62,
   "metadata": {},
   "outputs": [
    {
     "name": "stdout",
     "output_type": "stream",
     "text": [
      "Python love I\n"
     ]
    }
   ],
   "source": [
    "s = 'I love Python'\n",
    "s = s.split(\" \")\n",
    "s = s[-1::-1]\n",
    "s = \" \".join(s)\n",
    "        \n",
    "print(s)"
   ]
  },
  {
   "cell_type": "code",
   "execution_count": 82,
   "metadata": {},
   "outputs": [
    {
     "name": "stdout",
     "output_type": "stream",
     "text": [
      "[60, 76, 84, 88]\n"
     ]
    }
   ],
   "source": [
    "l=[39, 51, 40, 88, 76, 84, 28, 44, 60]\n",
    "o=[]\n",
    "for i in range(len(l)):\n",
    "    if l[i]>sum(l)/len(l):\n",
    "        o.append(l[i])\n",
    "\n",
    "o.sort()\n",
    "print(o)"
   ]
  },
  {
   "cell_type": "code",
   "execution_count": 122,
   "metadata": {},
   "outputs": [
    {
     "name": "stdout",
     "output_type": "stream",
     "text": [
      "[2, 5, 9, 13]\n",
      "[16]\n",
      "[12, 15, 16, 20]\n",
      "[3, 8, 14]\n"
     ]
    }
   ],
   "source": [
    "C=[2, 5, 9, 12, 13, 15, 16, 17, 18, 19]\n",
    "F=[2, 4, 5, 6, 7, 9, 13, 16, 20]\n",
    "H=[1, 2, 5, 9, 10, 11, 12, 13, 15, 20]\n",
    "\n",
    "# Students who play all the three sports\n",
    "a= list(set(C).intersection(set(F),set(H)))\n",
    "# Students who play both cricket and football but don’t play hockey\n",
    "cf= list(set(C).intersection(set(F))-set(a))\n",
    "# Students who play exactly two of the sports\n",
    "ts= list(set(C).intersection(set(F)).union(set(H).intersection(set(F)).union(set(C).intersection(set(H))))-(set(a*3)))\n",
    "# Students who don’t play any of the three sports\n",
    "ns= list(set(list(range(1,21)))-(set(C)|set(F)|set(H)))\n",
    "\n",
    "\n",
    "a.sort()\n",
    "cf.sort()\n",
    "ts.sort()\n",
    "ns.sort()\n",
    "print(a)\n",
    "print(cf)\n",
    "print(ts)\n",
    "print(ns)"
   ]
  },
  {
   "cell_type": "code",
   "execution_count": 165,
   "metadata": {},
   "outputs": [
    {
     "data": {
      "text/plain": [
       "['Debaditya Basu', 'Shivam Gupta']"
      ]
     },
     "execution_count": 165,
     "metadata": {},
     "output_type": "execute_result"
    }
   ],
   "source": [
    "\n",
    "d={\"Yash Pandya\": 68,  \"Shivam Gupta\": 81, \"Varun Goyal\": 77, \"Debaditya Basu\": 89,\"Niranjan Gyancha\": 64}\n",
    "l=[]\n",
    "m=list(d.values())\n",
    "for i in range(len(m)):\n",
    "    if m[i] >= 80:\n",
    "        l.append(list(d)[i])\n",
    "\n",
    "l.sort()\n",
    "l"
   ]
  },
  {
   "cell_type": "code",
   "execution_count": 217,
   "metadata": {},
   "outputs": [
    {
     "data": {
      "text/plain": [
       "1"
      ]
     },
     "execution_count": 217,
     "metadata": {},
     "output_type": "execute_result"
    }
   ],
   "source": [
    "def pal(s):\n",
    "    c=0\n",
    "    s=s.lower()\n",
    "    for i in range(len(s)//2):\n",
    "        if s[i] == s[-i-1]:\n",
    "            c+=1\n",
    "        else:\n",
    "            break\n",
    "    if len(s)//2==c:\n",
    "        return 1\n",
    "    else:       \n",
    "        return 0\n",
    "        \n",
    "\n",
    "pal(\"Hannah\")"
   ]
  },
  {
   "cell_type": "code",
   "execution_count": 185,
   "metadata": {},
   "outputs": [
    {
     "data": {
      "text/plain": [
       "3"
      ]
     },
     "execution_count": 185,
     "metadata": {},
     "output_type": "execute_result"
    }
   ],
   "source": [
    "len(\"hannah\")//2"
   ]
  },
  {
   "cell_type": "code",
   "execution_count": 195,
   "metadata": {},
   "outputs": [
    {
     "data": {
      "text/plain": [
       "6"
      ]
     },
     "execution_count": 195,
     "metadata": {},
     "output_type": "execute_result"
    }
   ],
   "source": [
    "len(s)"
   ]
  },
  {
   "cell_type": "code",
   "execution_count": 247,
   "metadata": {},
   "outputs": [
    {
     "name": "stdout",
     "output_type": "stream",
     "text": [
      "3\n"
     ]
    }
   ],
   "source": [
    "s=\"City of stars, are you shining just for me? City of stars, you never shined so brightly!\"\n",
    "l=s.split(\" \")\n",
    "c=0\n",
    "for i in range(len(l)):\n",
    "    if l[i][0] in ['a','e','i','o','u','A','E','I','O','U']:\n",
    "        c+=1\n",
    "    \n",
    "print(c)\n",
    "    \n"
   ]
  },
  {
   "cell_type": "code",
   "execution_count": 253,
   "metadata": {},
   "outputs": [
    {
     "name": "stdout",
     "output_type": "stream",
     "text": [
      "Python Love I\n"
     ]
    }
   ],
   "source": [
    "s=\"I Love Python\"\n",
    "l=s.split(\" \")\n",
    "l.reverse()\n",
    "print(*l)"
   ]
  },
  {
   "cell_type": "code",
   "execution_count": 266,
   "metadata": {},
   "outputs": [
    {
     "data": {
      "text/plain": [
       "1"
      ]
     },
     "execution_count": 266,
     "metadata": {},
     "output_type": "execute_result"
    }
   ],
   "source": [
    "n=6 #28\n",
    "#perfect no.6 1*2*3=1+2+3\n",
    "\n",
    "def per_no(n):\n",
    "    l=[]\n",
    "    for i in range(1,n):\n",
    "        if n%i==0:\n",
    "            l.append(i)\n",
    "    if sum(l)==n:\n",
    "        return 1\n",
    "    else:\n",
    "        return 0\n",
    "            \n",
    "per_no(n)"
   ]
  },
  {
   "cell_type": "code",
   "execution_count": 272,
   "metadata": {},
   "outputs": [
    {
     "data": {
      "text/plain": [
       "7"
      ]
     },
     "execution_count": 272,
     "metadata": {},
     "output_type": "execute_result"
    }
   ],
   "source": [
    "n=21\n",
    "m=14\n",
    "k=min(m,n)\n",
    "def gcd(n,m):\n",
    "    k=min(m,n)\n",
    "    while k>0:\n",
    "        if max(m,n)%k==0 and min(m,n)%k==0:\n",
    "            return k\n",
    "        else:\n",
    "            k-=1\n",
    "            \n",
    "gcd(n,m)"
   ]
  },
  {
   "cell_type": "code",
   "execution_count": 281,
   "metadata": {},
   "outputs": [
    {
     "name": "stdout",
     "output_type": "stream",
     "text": [
      "[35, 10, 1, 21, 12, 13, 9]\n"
     ]
    }
   ],
   "source": [
    "l=[1, 9, 35, 12, 13, 21, 10]\n",
    "\n",
    "def func(x):\n",
    "    return x%5\n",
    "            \n",
    "print(sorted(l,key =func))"
   ]
  },
  {
   "cell_type": "code",
   "execution_count": 280,
   "metadata": {},
   "outputs": [
    {
     "name": "stdout",
     "output_type": "stream",
     "text": [
      "[1, 9, 35, 12, 13, 21, 10]\n"
     ]
    }
   ],
   "source": []
  }
 ],
 "metadata": {
  "kernelspec": {
   "display_name": "Python 3",
   "language": "python",
   "name": "python3"
  },
  "language_info": {
   "codemirror_mode": {
    "name": "ipython",
    "version": 3
   },
   "file_extension": ".py",
   "mimetype": "text/x-python",
   "name": "python",
   "nbconvert_exporter": "python",
   "pygments_lexer": "ipython3",
   "version": "3.8.3"
  }
 },
 "nbformat": 4,
 "nbformat_minor": 4
}
