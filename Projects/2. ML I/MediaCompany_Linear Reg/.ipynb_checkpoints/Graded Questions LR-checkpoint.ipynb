{
 "cells": [
  {
   "cell_type": "code",
   "execution_count": 9,
   "metadata": {},
   "outputs": [
    {
     "name": "stdout",
     "output_type": "stream",
     "text": [
      "No\n"
     ]
    }
   ],
   "source": [
    "input_list=[1,1,4,300,400,900]\n",
    "flag = 0\n",
    "i = 1\n",
    "while i < len(input_list): \n",
    "    if(input_list[i] <= input_list[i - 1]): \n",
    "        flag = 1\n",
    "    i += 1\n",
    "      \n",
    "# printing result \n",
    "if (not flag) : \n",
    "    print (\"Yes\") \n",
    "else : \n",
    "    print (\"No\") "
   ]
  }
 ],
 "metadata": {
  "kernelspec": {
   "display_name": "Python 3",
   "language": "python",
   "name": "python3"
  },
  "language_info": {
   "codemirror_mode": {
    "name": "ipython",
    "version": 3
   },
   "file_extension": ".py",
   "mimetype": "text/x-python",
   "name": "python",
   "nbconvert_exporter": "python",
   "pygments_lexer": "ipython3",
   "version": "3.8.3"
  }
 },
 "nbformat": 4,
 "nbformat_minor": 4
}
