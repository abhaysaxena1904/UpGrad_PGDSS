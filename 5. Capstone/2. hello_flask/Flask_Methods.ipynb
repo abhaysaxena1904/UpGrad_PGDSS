{
 "cells": [
  {
   "cell_type": "markdown",
   "metadata": {},
   "source": [
    "## Flask Methods"
   ]
  },
  {
   "cell_type": "markdown",
   "metadata": {},
   "source": [
    "### GET"
   ]
  },
  {
   "cell_type": "code",
   "execution_count": 57,
   "metadata": {},
   "outputs": [
    {
     "data": {
      "text/plain": [
       "{'message': 'Hello, World!'}"
      ]
     },
     "execution_count": 57,
     "metadata": {},
     "output_type": "execute_result"
    }
   ],
   "source": [
    "import requests\n",
    "response = requests.get(\"http://127.0.0.1:5000\")\n",
    "response.json()"
   ]
  },
  {
   "cell_type": "code",
   "execution_count": 58,
   "metadata": {},
   "outputs": [
    {
     "data": {
      "text/plain": [
       "{'marks': [{'maths': '88', 'name': 'Rahul'},\n",
       "  {'maths': '80', 'name': 'Sachin'},\n",
       "  {'maths': '96', 'name': 'Virat'},\n",
       "  {'maths': '89', 'name': 'Rohit'},\n",
       "  {'maths': '70', 'name': 'Shikhar'}]}"
      ]
     },
     "execution_count": 58,
     "metadata": {},
     "output_type": "execute_result"
    }
   ],
   "source": [
    "response = requests.get(\"http://127.0.0.1:5000/marks\")\n",
    "response.json()"
   ]
  },
  {
   "cell_type": "code",
   "execution_count": 59,
   "metadata": {},
   "outputs": [
    {
     "data": {
      "text/plain": [
       "{'marks': {'maths': '89', 'name': 'Rohit'}}"
      ]
     },
     "execution_count": 59,
     "metadata": {},
     "output_type": "execute_result"
    }
   ],
   "source": [
    "response = requests.get(\"http://127.0.0.1:5000/marks/Rohit\")\n",
    "response.json()"
   ]
  },
  {
   "cell_type": "markdown",
   "metadata": {},
   "source": [
    "### POST"
   ]
  },
  {
   "cell_type": "code",
   "execution_count": 55,
   "metadata": {},
   "outputs": [
    {
     "data": {
      "text/plain": [
       "{'marks': [{'maths': '88', 'name': 'Rahul'},\n",
       "  {'maths': '80', 'name': 'Sachin'},\n",
       "  {'maths': '96', 'name': 'Virat'},\n",
       "  {'maths': '89', 'name': 'Rohit'},\n",
       "  {'maths': '90', 'name': 'Shikhar'},\n",
       "  {'maths': '70', 'name': 'Shikhar'}]}"
      ]
     },
     "execution_count": 55,
     "metadata": {},
     "output_type": "execute_result"
    }
   ],
   "source": [
    "response = requests.post(\"http://127.0.0.1:5000/marks\", json={\"name\":\"Shikhar\",\"maths\":\"70\"})\n",
    "response.json()"
   ]
  },
  {
   "cell_type": "markdown",
   "metadata": {},
   "source": [
    "### PUT"
   ]
  },
  {
   "cell_type": "code",
   "execution_count": 54,
   "metadata": {},
   "outputs": [
    {
     "data": {
      "text/plain": [
       "{'marks': [{'maths': '88', 'name': 'Rahul'},\n",
       "  {'maths': '80', 'name': 'Sachin'},\n",
       "  {'maths': '96', 'name': 'Virat'},\n",
       "  {'maths': '89', 'name': 'Rohit'},\n",
       "  {'maths': '90', 'name': 'Shikhar'}]}"
      ]
     },
     "execution_count": 54,
     "metadata": {},
     "output_type": "execute_result"
    }
   ],
   "source": [
    "response = requests.put(\"http://127.0.0.1:5000/marks/Shikhar\", json={\"name\":\"Shikhar\",\"maths\":\"90\"})\n",
    "response.json()"
   ]
  },
  {
   "cell_type": "markdown",
   "metadata": {},
   "source": [
    "### DELETE"
   ]
  },
  {
   "cell_type": "code",
   "execution_count": 56,
   "metadata": {},
   "outputs": [
    {
     "data": {
      "text/plain": [
       "{'marks': [{'maths': '88', 'name': 'Rahul'},\n",
       "  {'maths': '80', 'name': 'Sachin'},\n",
       "  {'maths': '96', 'name': 'Virat'},\n",
       "  {'maths': '89', 'name': 'Rohit'},\n",
       "  {'maths': '70', 'name': 'Shikhar'}]}"
      ]
     },
     "execution_count": 56,
     "metadata": {},
     "output_type": "execute_result"
    }
   ],
   "source": [
    "response = requests.delete(\"http://127.0.0.1:5000/marks/Shikhar\")\n",
    "response.json()"
   ]
  }
 ],
 "metadata": {
  "kernelspec": {
   "display_name": "Python 3",
   "language": "python",
   "name": "python3"
  },
  "language_info": {
   "codemirror_mode": {
    "name": "ipython",
    "version": 3
   },
   "file_extension": ".py",
   "mimetype": "text/x-python",
   "name": "python",
   "nbconvert_exporter": "python",
   "pygments_lexer": "ipython3",
   "version": "3.8.3"
  }
 },
 "nbformat": 4,
 "nbformat_minor": 2
}
