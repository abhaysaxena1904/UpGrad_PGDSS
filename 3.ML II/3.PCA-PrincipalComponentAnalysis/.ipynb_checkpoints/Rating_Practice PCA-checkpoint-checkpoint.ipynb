{
 "cells": [
  {
   "cell_type": "markdown",
   "metadata": {
    "collapsed": true
   },
   "source": [
    "## Telecom Churn: Logistic Regression with PCA\n",
    "\n",
    "With 21 predictor variables, we need to predict whether a particular customer will switch to another telecom provider or not. In telecom terminology, customer attrition is referred to as 'churn'."
   ]
  },
  {
   "cell_type": "markdown",
   "metadata": {},
   "source": [
    "### Importing and Merging Data"
   ]
  },
  {
   "cell_type": "code",
   "execution_count": 1,
   "metadata": {},
   "outputs": [],
   "source": [
    "# Importing Pandas and NumPy\n",
    "import pandas as pd\n",
    "import numpy as np\n",
    "import matplotlib.pyplot as plt\n",
    "import seaborn as sns"
   ]
  },
  {
   "cell_type": "code",
   "execution_count": 3,
   "metadata": {},
   "outputs": [],
   "source": [
    "# Importing all datasets\n",
    "data = pd.read_csv(\"Ratings.csv\")\n"
   ]
  },
  {
   "cell_type": "code",
   "execution_count": 4,
   "metadata": {},
   "outputs": [
    {
     "data": {
      "text/html": [
       "<div>\n",
       "<style scoped>\n",
       "    .dataframe tbody tr th:only-of-type {\n",
       "        vertical-align: middle;\n",
       "    }\n",
       "\n",
       "    .dataframe tbody tr th {\n",
       "        vertical-align: top;\n",
       "    }\n",
       "\n",
       "    .dataframe thead th {\n",
       "        text-align: right;\n",
       "    }\n",
       "</style>\n",
       "<table border=\"1\" class=\"dataframe\">\n",
       "  <thead>\n",
       "    <tr style=\"text-align: right;\">\n",
       "      <th></th>\n",
       "      <th>B1</th>\n",
       "      <th>B2</th>\n",
       "      <th>B3</th>\n",
       "      <th>B4</th>\n",
       "      <th>B5</th>\n",
       "    </tr>\n",
       "  </thead>\n",
       "  <tbody>\n",
       "    <tr>\n",
       "      <th>0</th>\n",
       "      <td>1</td>\n",
       "      <td>0</td>\n",
       "      <td>4</td>\n",
       "      <td>0</td>\n",
       "      <td>3</td>\n",
       "    </tr>\n",
       "    <tr>\n",
       "      <th>1</th>\n",
       "      <td>2</td>\n",
       "      <td>3</td>\n",
       "      <td>4</td>\n",
       "      <td>3</td>\n",
       "      <td>2</td>\n",
       "    </tr>\n",
       "    <tr>\n",
       "      <th>2</th>\n",
       "      <td>3</td>\n",
       "      <td>3</td>\n",
       "      <td>2</td>\n",
       "      <td>4</td>\n",
       "      <td>2</td>\n",
       "    </tr>\n",
       "    <tr>\n",
       "      <th>3</th>\n",
       "      <td>4</td>\n",
       "      <td>4</td>\n",
       "      <td>3</td>\n",
       "      <td>5</td>\n",
       "      <td>4</td>\n",
       "    </tr>\n",
       "    <tr>\n",
       "      <th>4</th>\n",
       "      <td>5</td>\n",
       "      <td>1</td>\n",
       "      <td>4</td>\n",
       "      <td>2</td>\n",
       "      <td>2</td>\n",
       "    </tr>\n",
       "    <tr>\n",
       "      <th>5</th>\n",
       "      <td>4</td>\n",
       "      <td>2</td>\n",
       "      <td>4</td>\n",
       "      <td>3</td>\n",
       "      <td>4</td>\n",
       "    </tr>\n",
       "    <tr>\n",
       "      <th>6</th>\n",
       "      <td>4</td>\n",
       "      <td>3</td>\n",
       "      <td>1</td>\n",
       "      <td>5</td>\n",
       "      <td>5</td>\n",
       "    </tr>\n",
       "  </tbody>\n",
       "</table>\n",
       "</div>"
      ],
      "text/plain": [
       "   B1  B2  B3  B4  B5\n",
       "0   1   0   4   0   3\n",
       "1   2   3   4   3   2\n",
       "2   3   3   2   4   2\n",
       "3   4   4   3   5   4\n",
       "4   5   1   4   2   2\n",
       "5   4   2   4   3   4\n",
       "6   4   3   1   5   5"
      ]
     },
     "execution_count": 4,
     "metadata": {},
     "output_type": "execute_result"
    }
   ],
   "source": [
    "data"
   ]
  },
  {
   "cell_type": "markdown",
   "metadata": {},
   "source": [
    "### PCA on the data"
   ]
  },
  {
   "cell_type": "markdown",
   "metadata": {},
   "source": [
    "#### Note - \n",
    "- While computng the principal components, we must not include the entire dataset. Model building is all about doing well on the data we haven't seen yet!\n",
    "- So we'll calculate the PCs using the train data, and apply them later on the test data"
   ]
  },
  {
   "cell_type": "code",
   "execution_count": 5,
   "metadata": {},
   "outputs": [],
   "source": [
    "from sklearn.decomposition import PCA"
   ]
  },
  {
   "cell_type": "code",
   "execution_count": 6,
   "metadata": {},
   "outputs": [],
   "source": [
    "pca = PCA(random_state=42)"
   ]
  },
  {
   "cell_type": "code",
   "execution_count": 7,
   "metadata": {},
   "outputs": [
    {
     "data": {
      "text/plain": [
       "PCA(random_state=42)"
      ]
     },
     "execution_count": 7,
     "metadata": {},
     "output_type": "execute_result"
    }
   ],
   "source": [
    "pca.fit(data)"
   ]
  },
  {
   "cell_type": "markdown",
   "metadata": {},
   "source": [
    "#### Components from the PCA"
   ]
  },
  {
   "cell_type": "code",
   "execution_count": 55,
   "metadata": {},
   "outputs": [
    {
     "data": {
      "text/plain": [
       "array([[ 1.76113503e-02,  6.73236050e-02,  3.33558780e-02,\n",
       "         9.81025382e-02,  1.45144894e-02,  2.99711219e-02,\n",
       "         8.03474721e-02,  4.45137169e-02,  1.03838839e-02,\n",
       "        -9.64778216e-02,  5.46455027e-04, -1.44992416e-01,\n",
       "         1.62603767e-01,  1.38408762e-01, -1.23559445e-01,\n",
       "         1.07552300e-02,  1.12804215e-01, -2.93144081e-02,\n",
       "         1.52873853e-01, -3.66586107e-02,  1.60218056e-01,\n",
       "         2.26069096e-03,  1.21298754e-01, -5.19779044e-02,\n",
       "         1.75537350e-01, -5.32208106e-02,  1.76780256e-01,\n",
       "         4.50041974e-01,  4.64768058e-01,  5.64467383e-01],\n",
       "       [-1.58225213e-02, -1.51382114e-01, -7.60391859e-02,\n",
       "         1.10808074e-01,  1.15262476e-01,  5.70934546e-02,\n",
       "         1.99196237e-01,  6.98211144e-02, -1.94953309e-01,\n",
       "         7.22696236e-02,  6.84716202e-03,  3.64391587e-02,\n",
       "        -5.22616800e-02, -2.53405153e-01,  2.28888352e-01,\n",
       "        -2.80064773e-01,  5.11764215e-02, -2.29155531e-01,\n",
       "         2.67178910e-04, -2.30417558e-01,  1.52920583e-03,\n",
       "        -2.74825798e-01,  4.59374458e-02, -1.48754387e-01,\n",
       "        -8.01339654e-02, -1.50215959e-01, -7.86723933e-02,\n",
       "         4.33270268e-01, -4.56258849e-01,  1.27410027e-01],\n",
       "       [-9.12291058e-02, -2.84369927e-02, -1.24001243e-02,\n",
       "         5.63239688e-02,  4.78714602e-02, -7.62225596e-04,\n",
       "         2.57781910e-02,  5.81002273e-02, -7.61267399e-02,\n",
       "        -2.15070492e-02, -8.51174807e-03, -8.76630128e-02,\n",
       "        -3.56609297e-03, -9.44615765e-02, -1.92982686e-01,\n",
       "        -2.70477190e-02,  2.20030405e-01,  7.09799469e-02,\n",
       "         1.22002739e-01,  2.79335424e-01, -8.63527377e-02,\n",
       "         1.14699466e-01,  7.82832203e-02,  4.96232463e-01,\n",
       "        -3.03249777e-01,  4.89684449e-01, -2.96701763e-01,\n",
       "         2.43036444e-01, -1.22710705e-01,  8.38171907e-02],\n",
       "       [-1.52582548e-02, -8.53395795e-02, -1.24482551e-01,\n",
       "        -1.15607472e-01,  1.35706616e-02,  6.18957244e-02,\n",
       "        -2.55122762e-02,  1.08439476e-02, -1.54943819e-01,\n",
       "         1.50132655e-01, -3.27194885e-02,  3.35259920e-01,\n",
       "        -3.50518175e-01, -9.95677606e-02, -1.49234454e-01,\n",
       "        -1.94633301e-01,  3.43867755e-01,  1.37892828e-02,\n",
       "         1.35445172e-01, -7.12015820e-02,  2.20436036e-01,\n",
       "        -2.81687409e-01,  4.30921863e-01,  6.78808741e-02,\n",
       "         8.13535803e-02,  6.63634814e-02,  8.28709730e-02,\n",
       "        -2.84331268e-01,  2.16875383e-01, -5.64112933e-03],\n",
       "       [-1.14905477e-01, -3.91805880e-02, -2.43453437e-02,\n",
       "         9.22236587e-02,  8.22694189e-02, -7.39508732e-02,\n",
       "         1.11130926e-01,  5.20967416e-02, -4.54904532e-02,\n",
       "        -1.28556843e-02,  2.36253723e-02, -2.38918946e-01,\n",
       "         1.24013469e-01, -1.13486010e-01, -7.56624541e-02,\n",
       "        -2.67674094e-03,  7.83391950e-02,  6.40827206e-01,\n",
       "        -5.65164752e-01, -1.26242983e-01,  2.01905438e-01,\n",
       "        -9.84497332e-02,  1.74112187e-01,  4.01689953e-02,\n",
       "         3.54934588e-02, -2.25276324e-02,  9.81900865e-02,\n",
       "         3.70542100e-02, -6.07852630e-02, -6.31576961e-02],\n",
       "       [ 3.64322765e-02,  2.12864636e-02,  4.16857747e-03,\n",
       "         3.12327904e-01,  2.07866485e-01,  8.80938644e-02,\n",
       "        -2.10506892e-02,  1.98347068e-02,  8.59334323e-02,\n",
       "        -1.24909455e-01,  4.63903329e-02,  5.41058303e-01,\n",
       "        -5.04626027e-01,  7.84512080e-02, -3.51118051e-02,\n",
       "         1.62939067e-01, -1.27827262e-01,  1.91948712e-01,\n",
       "        -1.56836907e-01, -3.60056963e-02,  7.11175015e-02,\n",
       "         2.33630834e-01, -1.98519029e-01, -9.70663787e-03,\n",
       "         4.48184430e-02,  4.16890950e-02, -6.57728987e-03,\n",
       "         2.28607186e-01, -2.06491922e-02,  8.76347710e-02],\n",
       "       [ 2.37558672e-02,  3.68307201e-02, -5.24480693e-02,\n",
       "         2.34251271e-01,  2.68532524e-01, -4.31941644e-02,\n",
       "         4.59426788e-02, -9.63796664e-02,  7.86145743e-02,\n",
       "         1.24589062e-02, -1.11887496e-01,  3.03343294e-02,\n",
       "        -6.57846219e-03, -1.05198190e-02,  6.34620160e-03,\n",
       "        -1.37533195e-01,  1.31186993e-01,  7.11834413e-02,\n",
       "        -7.75296429e-02,  5.65951236e-01, -5.72297438e-01,\n",
       "        -1.62317117e-01,  1.55970916e-01, -1.66257206e-01,\n",
       "         1.59911004e-01, -1.35056505e-01,  1.28710304e-01,\n",
       "         1.91083205e-03,  3.49478688e-02, -1.28038995e-02],\n",
       "       [-4.49367286e-02, -4.47541098e-02, -7.15283654e-02,\n",
       "         5.72645409e-01,  5.63228733e-01,  1.39533786e-02,\n",
       "        -4.78769773e-02, -5.80186925e-02,  1.86761580e-02,\n",
       "         4.75212017e-02, -8.56435722e-02, -2.04751136e-01,\n",
       "         1.59814408e-01, -2.78756283e-02, -3.39057422e-02,\n",
       "         4.73805254e-02, -1.34747832e-02, -1.71471202e-01,\n",
       "         2.05376944e-01, -1.90547868e-01,  2.24453611e-01,\n",
       "         3.77595251e-02, -3.85378286e-03,  3.01358694e-02,\n",
       "         3.76987280e-03,  6.72221021e-02, -3.33163599e-02,\n",
       "        -2.56902570e-01,  6.08435868e-02, -1.48787319e-01],\n",
       "       [-1.99321058e-01,  1.28143552e-01, -2.76612593e-02,\n",
       "         1.18692098e-03, -1.33525239e-03,  2.09147058e-02,\n",
       "         2.03651182e-02,  3.75548892e-03,  1.98669459e-02,\n",
       "        -2.50873854e-02,  3.35839251e-01, -8.30605070e-02,\n",
       "        -1.16260550e-01, -2.00194898e-01, -1.12524144e-01,\n",
       "         5.27226188e-01, -4.14702044e-01, -5.97458675e-02,\n",
       "         1.72270012e-01,  1.11507832e-01,  1.01631195e-03,\n",
       "        -2.65655371e-01,  3.78179515e-01,  3.26632791e-02,\n",
       "         7.98608653e-02,  7.22825848e-03,  1.05295886e-01,\n",
       "         8.04802828e-02, -1.41092824e-01, -3.25688162e-02],\n",
       "       [-1.31187206e-01,  1.42382500e-01,  2.93814462e-02,\n",
       "        -4.22359444e-02, -9.13274583e-02,  4.45203489e-02,\n",
       "        -1.97375623e-02,  6.77191208e-02,  2.39395079e-02,\n",
       "        -1.02780272e-01, -9.06612283e-01, -3.49326686e-02,\n",
       "        -9.62545372e-02, -1.18359923e-01, -5.26355284e-02,\n",
       "         1.67901386e-01, -1.15265857e-01, -1.50972398e-03,\n",
       "         5.41452523e-02, -1.23184461e-02,  6.49539744e-02,\n",
       "        -2.30498121e-02,  7.56853405e-02,  3.20045531e-02,\n",
       "         2.06309753e-02, -3.91320120e-02,  9.17675404e-02,\n",
       "         7.35224250e-02, -1.08014857e-01, -2.66003355e-02],\n",
       "       [-3.49879546e-01,  1.04381424e-01,  2.80953095e-02,\n",
       "        -3.48183263e-02, -4.90519748e-02,  2.13964832e-01,\n",
       "        -1.60535217e-01, -5.50706965e-02,  2.54308048e-01,\n",
       "        -1.75624151e-01,  1.72038848e-01, -1.91412168e-01,\n",
       "        -1.58467378e-01, -3.24634497e-01, -1.37460083e-01,\n",
       "        -1.90128855e-01,  3.27588938e-01, -1.66314733e-02,\n",
       "         1.54091557e-01,  4.98402187e-02,  8.76198648e-02,\n",
       "         2.92912229e-01, -1.55452146e-01, -3.15985635e-03,\n",
       "         1.40619940e-01, -1.71289326e-01,  3.08749409e-01,\n",
       "         1.95901009e-02, -1.96864140e-01, -7.31480884e-02],\n",
       "       [-9.12683105e-02,  2.24720585e-02, -2.37045985e-02,\n",
       "        -7.69677984e-02, -1.95091796e-02,  1.87880802e-02,\n",
       "        -4.57773605e-03,  5.66215034e-02, -3.12527703e-02,\n",
       "        -1.99335109e-02, -2.05789615e-02, -7.97160167e-02,\n",
       "        -1.15522938e-02, -8.85214748e-02, -4.39111566e-02,\n",
       "         2.92010275e-04,  4.36191463e-02,  3.23120593e-02,\n",
       "         1.15990973e-02,  1.02217625e-02,  3.36893941e-02,\n",
       "         6.15661271e-02, -1.76549705e-02, -5.01861411e-01,\n",
       "         5.45772568e-01,  4.69601826e-01, -4.25690669e-01,\n",
       "         9.92700901e-03, -4.78727339e-02, -1.96081921e-02],\n",
       "       [ 5.15736298e-02,  1.92090527e-01,  7.78486130e-02,\n",
       "         3.21859309e-02, -6.91660131e-02, -1.81790324e-01,\n",
       "         1.00480781e-01, -4.73708557e-01,  6.61754494e-01,\n",
       "        -1.77428321e-01, -1.08878739e-02,  6.12083829e-02,\n",
       "        -9.63475311e-03,  4.78667618e-02,  7.18831540e-02,\n",
       "        -1.28569541e-01,  5.66863866e-02, -3.62635139e-02,\n",
       "        -3.56196400e-02, -1.56663195e-01,  8.47800406e-02,\n",
       "        -2.39522731e-01,  1.67639577e-01,  1.67545497e-02,\n",
       "        -8.86377037e-02,  1.14493456e-01, -1.86376610e-01,\n",
       "         5.83606761e-02, -3.41088604e-02, -1.08141420e-02],\n",
       "       [ 1.12540380e-01,  1.04754644e-01,  2.01958885e-02,\n",
       "         2.61566597e-02,  4.35742917e-03,  7.49475248e-01,\n",
       "        -5.17810424e-01, -7.60966376e-02,  3.19631316e-02,\n",
       "         2.67713561e-02, -9.65693153e-04, -1.84411426e-02,\n",
       "         1.30981523e-01,  6.60001206e-02,  8.40532859e-02,\n",
       "        -3.03312662e-02, -5.37220197e-02,  6.20662858e-02,\n",
       "        -1.46119572e-01, -3.11032646e-02, -5.29500214e-02,\n",
       "        -1.83563066e-01,  9.95097797e-02, -1.01356512e-03,\n",
       "        -8.30397208e-02,  4.08872568e-02, -1.24940543e-01,\n",
       "         2.34534386e-02, -1.16417906e-02,  8.78640864e-02],\n",
       "       [ 6.64399911e-02,  6.64868623e-01,  8.36378984e-02,\n",
       "         7.71690147e-02,  4.28265468e-02, -7.37325025e-02,\n",
       "         2.37133513e-02,  5.23718670e-01, -9.87360270e-02,\n",
       "        -3.76083796e-01,  1.04019679e-01,  4.72330915e-02,\n",
       "         1.92068996e-02,  5.96400549e-02,  6.97585182e-02,\n",
       "        -1.54318265e-01,  8.45597470e-02, -5.62667300e-02,\n",
       "        -1.34917881e-02, -5.48129319e-02, -1.49455862e-02,\n",
       "        -1.19891424e-01,  5.01329063e-02,  1.16683113e-03,\n",
       "        -7.09253493e-02, -9.12739390e-03, -6.06311242e-02,\n",
       "        -8.20950938e-02,  1.19639617e-02, -1.23848529e-01],\n",
       "       [-3.75219113e-02,  6.36070910e-01, -1.07982597e-02,\n",
       "         4.22922840e-04,  2.38155130e-02, -7.76788055e-02,\n",
       "         2.32114140e-02, -3.79907809e-01, -2.61143105e-01,\n",
       "         5.72999577e-01,  2.47005651e-03, -1.35320618e-03,\n",
       "        -3.61687052e-02, -3.96543612e-02, -1.32212820e-02,\n",
       "        -9.22748752e-03,  2.24487695e-02,  3.97368647e-02,\n",
       "        -2.65155827e-02, -2.11254955e-02,  3.43467776e-02,\n",
       "         1.14758865e-01, -1.01537583e-01,  6.61264229e-03,\n",
       "         6.60863972e-03, -3.71701054e-03,  1.69382926e-02,\n",
       "         4.10971250e-02, -5.67868728e-02,  9.77400645e-02],\n",
       "       [-6.42314627e-02, -1.07042095e-01,  6.96289265e-01,\n",
       "         4.94894995e-01, -4.42672947e-01, -4.63966136e-02,\n",
       "        -5.57445836e-02,  1.37992977e-03, -1.26834655e-01,\n",
       "         1.12181055e-01,  1.85530168e-02, -5.03047899e-03,\n",
       "        -5.92009838e-02, -5.91700299e-03, -7.52148739e-03,\n",
       "        -3.73900725e-02,  4.49115599e-02, -1.09502296e-02,\n",
       "         1.84717170e-02,  1.99115090e-02, -1.23900216e-02,\n",
       "        -6.28547597e-02,  7.03762471e-02, -2.89567467e-02,\n",
       "         3.64782340e-02,  1.26199850e-02, -5.09849758e-03,\n",
       "        -6.57729166e-02, -2.13310254e-02, -1.87746975e-02],\n",
       "       [-6.29527960e-02, -4.23815881e-02,  6.68576397e-01,\n",
       "        -4.58402078e-01,  5.72297440e-01, -6.56620264e-03,\n",
       "        -6.05907281e-03, -1.28634041e-03,  1.11261262e-03,\n",
       "         2.93631520e-02, -8.00267719e-03, -8.38644638e-03,\n",
       "        -5.45663496e-02,  4.32867338e-02,  5.29293625e-03,\n",
       "         1.87739836e-03, -7.17033461e-03,  1.03662971e-03,\n",
       "        -6.32956597e-03, -1.48353179e-02,  9.54238164e-03,\n",
       "        -2.54509470e-02,  2.01580107e-02,  2.94534341e-03,\n",
       "        -8.23827966e-03, -4.82270721e-03, -4.70229044e-04,\n",
       "         2.94223402e-02, -1.62910120e-02,  3.06362337e-02],\n",
       "       [ 5.72948911e-01,  3.30290813e-02,  1.29919132e-01,\n",
       "        -1.31384672e-02,  2.49030224e-03,  6.32435773e-02,\n",
       "         1.04575808e-01, -4.25297703e-02,  2.11843581e-02,\n",
       "        -5.14680269e-02, -9.21577354e-04,  2.49503821e-01,\n",
       "         3.23445090e-01, -6.39775067e-01, -9.67647857e-02,\n",
       "         8.81962776e-02,  8.56850815e-03,  4.71397337e-02,\n",
       "         4.96250521e-02,  4.11403389e-02,  5.56244469e-02,\n",
       "         1.11477293e-01, -1.47125072e-02,  2.51103720e-02,\n",
       "         7.16544137e-02,  2.41516547e-02,  7.26131310e-02,\n",
       "         1.20404317e-02,  5.13460683e-02, -6.18374046e-02],\n",
       "       [-1.92741060e-02,  1.48925758e-02,  3.72041945e-02,\n",
       "        -2.05683940e-02, -3.68803457e-02,  3.20881446e-01,\n",
       "         3.61033750e-01, -2.53245289e-01, -2.27688221e-01,\n",
       "        -1.35707348e-01,  8.43728098e-03, -1.91981617e-02,\n",
       "        -7.59443712e-05,  1.99858786e-01, -3.37085941e-02,\n",
       "        -1.17991290e-02,  4.55077231e-02, -2.70212256e-02,\n",
       "         6.07298197e-02,  3.06810135e-03,  3.06404928e-02,\n",
       "         1.07425357e-02,  2.29660584e-02,  1.38938473e-03,\n",
       "         3.23192094e-02,  8.19388964e-04,  3.28892051e-02,\n",
       "         3.34907489e-01,  2.27639259e-01, -6.42407120e-01],\n",
       "       [-2.72767838e-03, -1.93018158e-02, -1.93627564e-02,\n",
       "        -1.57236941e-02,  2.82987476e-02, -2.28946550e-01,\n",
       "        -2.96986396e-01, -4.84588230e-01, -5.10231870e-01,\n",
       "        -5.76418652e-01,  7.75029934e-03,  2.92320591e-03,\n",
       "        -5.65088429e-03, -4.74306198e-02,  1.49011092e-02,\n",
       "        -7.03288986e-03, -7.86821932e-03,  1.96849149e-03,\n",
       "        -1.68696007e-02, -1.11816550e-02, -3.71945417e-03,\n",
       "        -1.87140919e-02,  3.81298272e-03, -1.35589379e-02,\n",
       "        -1.34217131e-03, -1.24243714e-02, -2.47673773e-03,\n",
       "        -6.99823286e-02, -5.78788956e-02,  1.34497113e-01],\n",
       "       [ 7.38350600e-02, -3.96135956e-02, -4.43430271e-02,\n",
       "        -1.46608268e-02,  2.69936275e-02, -4.00447291e-01,\n",
       "        -6.29924666e-01,  1.16084030e-01,  6.22954483e-02,\n",
       "         1.81976312e-01,  2.27652840e-03,  3.74165169e-02,\n",
       "         3.64185431e-02, -1.79010164e-02, -1.83435439e-02,\n",
       "        -2.69524656e-02,  4.52960096e-02, -1.19466536e-02,\n",
       "         3.02901975e-02, -2.73269414e-02,  4.56704854e-02,\n",
       "        -4.16517296e-02,  5.99952735e-02, -2.09229565e-02,\n",
       "         3.92665004e-02, -2.21235347e-02,  4.04670787e-02,\n",
       "         4.50602734e-01,  1.09097778e-01, -3.84693458e-01],\n",
       "       [-2.99022929e-01,  5.35042308e-04, -1.11219964e-03,\n",
       "         1.13356455e-03, -1.43359627e-03, -9.85106280e-04,\n",
       "        -1.51274106e-04,  6.35650382e-04,  9.91521055e-04,\n",
       "         4.11139360e-04, -1.97154554e-04, -1.00028207e-01,\n",
       "        -1.98994722e-01, -4.95024115e-01,  2.23630891e-01,\n",
       "        -6.21749560e-02, -1.61455935e-01, -6.24676364e-02,\n",
       "        -1.61163254e-01, -6.16188725e-02, -1.62012018e-01,\n",
       "        -6.23321503e-02, -1.61298740e-01, -1.28236736e-02,\n",
       "        -2.10807217e-01, -1.28750684e-02, -2.10755822e-01,\n",
       "         1.27331923e-03,  5.97464532e-01, -1.82730782e-03],\n",
       "       [-5.77350269e-01, -3.76942330e-16, -1.26526638e-17,\n",
       "         1.22651590e-16,  1.32922256e-16,  1.93228183e-17,\n",
       "        -1.36684754e-16,  1.89309677e-16,  1.66406839e-16,\n",
       "         2.74378456e-16, -7.98030904e-17,  5.77350269e-01,\n",
       "         5.77350269e-01, -1.27873419e-16,  1.87512267e-16,\n",
       "         1.05005434e-16,  8.07405447e-17, -3.51820912e-16,\n",
       "        -5.01025617e-16,  6.98254272e-17, -2.41188316e-18,\n",
       "        -1.72515917e-16, -1.66102912e-16, -1.05443651e-16,\n",
       "        -3.11225233e-16,  1.44861605e-16, -5.51893534e-17,\n",
       "        -1.06773678e-16,  3.48881009e-16, -9.54898441e-17],\n",
       "       [-0.00000000e+00,  1.22195586e-16,  1.42662363e-16,\n",
       "         5.92551613e-17,  1.73495547e-16,  1.49467264e-16,\n",
       "         9.08067919e-17, -4.66540403e-17, -1.84836989e-16,\n",
       "         2.35834184e-17,  8.13494468e-17, -2.99794850e-16,\n",
       "        -2.00910092e-16,  3.94795785e-16,  7.94511364e-02,\n",
       "        -3.12552354e-01, -3.12552354e-01, -4.45006408e-01,\n",
       "        -4.45006408e-01,  1.81323233e-01,  1.81323233e-01,\n",
       "         1.86344618e-01,  1.86344618e-01,  1.26549170e-01,\n",
       "         1.26549170e-01,  3.42792878e-01,  3.42792878e-01,\n",
       "         1.12461015e-17, -2.18108694e-16, -1.16187721e-16],\n",
       "       [-0.00000000e+00, -1.92175189e-16, -1.51581146e-16,\n",
       "         7.86162180e-17,  3.44208754e-17,  1.55770865e-16,\n",
       "         2.68081531e-16,  1.18532155e-17, -1.14399830e-16,\n",
       "        -1.91154173e-16,  8.56245585e-17,  1.02520211e-16,\n",
       "         1.64216936e-16, -3.23016625e-17, -6.40766338e-01,\n",
       "        -3.32012538e-01, -3.32012538e-01, -6.71606032e-02,\n",
       "        -6.71606032e-02,  1.09283316e-01,  1.09283316e-01,\n",
       "         6.48174510e-02,  6.48174510e-02, -1.10965088e-02,\n",
       "        -1.10965088e-02, -4.04597455e-01, -4.04597455e-01,\n",
       "         6.01304600e-17,  1.04026863e-16, -1.99565558e-16],\n",
       "       [-0.00000000e+00,  2.26527096e-16,  2.04359915e-16,\n",
       "         1.99715432e-16,  3.27748786e-17, -4.90424874e-17,\n",
       "         1.47804320e-16,  1.62042667e-16,  1.77516523e-16,\n",
       "         8.76616905e-17, -1.75337053e-17,  2.02398542e-16,\n",
       "         2.42353911e-16,  3.46279604e-16,  7.60955142e-02,\n",
       "        -2.91868277e-01, -2.91868277e-01,  3.41808170e-01,\n",
       "         3.41808170e-01, -1.64164423e-02, -1.64164423e-02,\n",
       "         2.90158792e-01,  2.90158792e-01, -4.23771365e-01,\n",
       "        -4.23771365e-01,  1.76184637e-01,  1.76184637e-01,\n",
       "        -2.30886800e-17, -3.71777487e-16, -1.70043943e-16],\n",
       "       [-0.00000000e+00,  4.69739711e-16,  2.37430411e-16,\n",
       "        -1.46162710e-16, -9.42563839e-17, -1.78518880e-16,\n",
       "         1.73887729e-16, -1.23372798e-17,  6.00827622e-17,\n",
       "         5.90857619e-18,  1.90110637e-16, -1.48140505e-16,\n",
       "        -2.92555619e-16, -1.39325141e-16, -5.41412599e-02,\n",
       "         3.50582247e-01,  3.50582247e-01, -3.07433194e-01,\n",
       "        -3.07433194e-01, -1.08737808e-01, -1.08737808e-01,\n",
       "         4.22316513e-01,  4.22316513e-01, -2.62572319e-01,\n",
       "        -2.62572319e-01, -1.48296699e-01, -1.48296699e-01,\n",
       "        -5.12261081e-17,  2.04200524e-16,  4.51894467e-17],\n",
       "       [ 0.00000000e+00, -2.25687407e-16, -1.60480388e-16,\n",
       "         3.31804005e-17, -1.04544572e-16, -1.56765333e-16,\n",
       "        -4.11815688e-16, -2.25034713e-16, -5.40483968e-17,\n",
       "         3.44698535e-17,  1.78344495e-16, -3.06167574e-16,\n",
       "        -3.35328358e-16, -9.21310672e-17, -4.68593537e-01,\n",
       "         1.11818685e-01,  1.11818685e-01, -1.53418430e-01,\n",
       "        -1.53418430e-01,  4.92922952e-02,  4.92922952e-02,\n",
       "        -3.64476399e-01, -3.64476399e-01, -3.81976874e-01,\n",
       "        -3.81976874e-01,  2.70167185e-01,  2.70167185e-01,\n",
       "         4.34439364e-17,  3.17435839e-16, -1.07122856e-17],\n",
       "       [-0.00000000e+00, -1.51387490e-17, -1.14928547e-16,\n",
       "         1.51930381e-16, -5.62524124e-17,  7.16326220e-17,\n",
       "         2.15584846e-16, -6.59859514e-17, -6.83580404e-17,\n",
       "        -8.59752166e-17, -1.11064446e-17,  1.48584648e-16,\n",
       "         1.85030378e-16,  1.59377497e-16, -3.23734939e-01,\n",
       "        -9.47643338e-02, -9.47643338e-02, -8.57564990e-03,\n",
       "        -8.57564990e-03, -6.14943819e-01, -6.14943819e-01,\n",
       "         5.64621486e-02,  5.64621486e-02,  1.64101952e-01,\n",
       "         1.64101952e-01,  1.73984763e-01,  1.73984763e-01,\n",
       "         5.44008300e-17, -9.42771542e-17, -1.13060945e-16]])"
      ]
     },
     "execution_count": 55,
     "metadata": {},
     "output_type": "execute_result"
    }
   ],
   "source": [
    "pca.components_"
   ]
  },
  {
   "cell_type": "markdown",
   "metadata": {},
   "source": [
    "Looking at the explained variance ratio for each component"
   ]
  },
  {
   "cell_type": "code",
   "execution_count": 8,
   "metadata": {},
   "outputs": [
    {
     "data": {
      "text/plain": [
       "array([6.51886873e-01, 1.52836342e-01, 1.30717403e-01, 6.43810220e-02,\n",
       "       1.78359842e-04])"
      ]
     },
     "execution_count": 8,
     "metadata": {},
     "output_type": "execute_result"
    }
   ],
   "source": [
    "pca.explained_variance_ratio_"
   ]
  },
  {
   "cell_type": "markdown",
   "metadata": {},
   "source": [
    "Making a scree plot for the explained variance"
   ]
  },
  {
   "cell_type": "code",
   "execution_count": 9,
   "metadata": {},
   "outputs": [],
   "source": [
    "var_cumu = np.cumsum(pca.explained_variance_ratio_)"
   ]
  },
  {
   "cell_type": "code",
   "execution_count": 10,
   "metadata": {},
   "outputs": [
    {
     "data": {
      "image/png": "[encoded data removed]",
      "text/plain": [
       "<Figure size 864x576 with 1 Axes>"
      ]
     },
     "metadata": {
      "needs_background": "light"
     },
     "output_type": "display_data"
    }
   ],
   "source": [
    "fig = plt.figure(figsize=[12,8])\n",
    "plt.vlines(x=15, ymax=1, ymin=0, colors=\"r\", linestyles=\"--\")\n",
    "plt.hlines(y=0.95, xmax=30, xmin=0, colors=\"g\", linestyles=\"--\")\n",
    "plt.plot(var_cumu)\n",
    "plt.ylabel(\"Cumulative variance explained\")\n",
    "plt.show()"
   ]
  },
  {
   "cell_type": "markdown",
   "metadata": {},
   "source": [
    "Perform PCA with 16 components"
   ]
  },
  {
   "cell_type": "code",
   "execution_count": 11,
   "metadata": {},
   "outputs": [],
   "source": [
    "from sklearn.decomposition import IncrementalPCA"
   ]
  },
  {
   "cell_type": "code",
   "execution_count": 62,
   "metadata": {},
   "outputs": [],
   "source": [
    "pca_final = IncrementalPCA(n_components=16)"
   ]
  },
  {
   "cell_type": "code",
   "execution_count": 74,
   "metadata": {},
   "outputs": [],
   "source": [
    "df_train_pca = pca_final.fit_transform(X_train)"
   ]
  },
  {
   "cell_type": "code",
   "execution_count": 75,
   "metadata": {},
   "outputs": [
    {
     "data": {
      "text/plain": [
       "(4922, 16)"
      ]
     },
     "execution_count": 75,
     "metadata": {},
     "output_type": "execute_result"
    }
   ],
   "source": [
    "df_train_pca.shape"
   ]
  },
  {
   "cell_type": "code",
   "execution_count": 76,
   "metadata": {},
   "outputs": [],
   "source": [
    "corrmat = np.corrcoef(df_train_pca.transpose())"
   ]
  },
  {
   "cell_type": "code",
   "execution_count": 77,
   "metadata": {},
   "outputs": [
    {
     "data": {
      "text/plain": [
       "(16, 16)"
      ]
     },
     "execution_count": 77,
     "metadata": {},
     "output_type": "execute_result"
    }
   ],
   "source": [
    "corrmat.shape"
   ]
  },
  {
   "cell_type": "markdown",
   "metadata": {},
   "source": [
    "Plotting the heatmap of the corr matrix"
   ]
  },
  {
   "cell_type": "code",
   "execution_count": 78,
   "metadata": {},
   "outputs": [
    {
     "data": {
      "text/plain": [
       "<matplotlib.axes._subplots.AxesSubplot at 0x1c1dd176a0>"
      ]
     },
     "execution_count": 78,
     "metadata": {},
     "output_type": "execute_result"
    },
    {
     "data": {
      "image/png": "[encoded data removed]",
      "text/plain": [
       "<Figure size 1080x1080 with 2 Axes>"
      ]
     },
     "metadata": {},
     "output_type": "display_data"
    }
   ],
   "source": [
    "plt.figure(figsize=[15,15])\n",
    "sns.heatmap(corrmat, annot=True)"
   ]
  },
  {
   "cell_type": "markdown",
   "metadata": {},
   "source": [
    "Applying the transformation on the test set"
   ]
  },
  {
   "cell_type": "code",
   "execution_count": 79,
   "metadata": {},
   "outputs": [
    {
     "data": {
      "text/plain": [
       "(2110, 16)"
      ]
     },
     "execution_count": 79,
     "metadata": {},
     "output_type": "execute_result"
    }
   ],
   "source": [
    "df_test_pca = pca_final.transform(X_test)\n",
    "df_test_pca.shape"
   ]
  },
  {
   "cell_type": "markdown",
   "metadata": {},
   "source": [
    "### Applying logistic regression on the data on our Principal components"
   ]
  },
  {
   "cell_type": "code",
   "execution_count": 80,
   "metadata": {},
   "outputs": [],
   "source": [
    "from sklearn.linear_model import LogisticRegression"
   ]
  },
  {
   "cell_type": "code",
   "execution_count": 81,
   "metadata": {},
   "outputs": [],
   "source": [
    "learner_pca = LogisticRegression()"
   ]
  },
  {
   "cell_type": "code",
   "execution_count": 82,
   "metadata": {},
   "outputs": [],
   "source": [
    "model_pca = learner_pca.fit(df_train_pca, y_train)"
   ]
  },
  {
   "cell_type": "markdown",
   "metadata": {},
   "source": [
    "Making predictions on the test set"
   ]
  },
  {
   "cell_type": "code",
   "execution_count": 83,
   "metadata": {},
   "outputs": [],
   "source": [
    "pred_probs_test = model_pca.predict_proba(df_test_pca)"
   ]
  },
  {
   "cell_type": "code",
   "execution_count": 86,
   "metadata": {},
   "outputs": [
    {
     "data": {
      "text/plain": [
       "'0.83'"
      ]
     },
     "execution_count": 86,
     "metadata": {},
     "output_type": "execute_result"
    }
   ],
   "source": [
    "\"{:2.2}\".format(metrics.roc_auc_score(y_test, pred_probs_test[:,1]))"
   ]
  },
  {
   "cell_type": "markdown",
   "metadata": {},
   "source": [
    "#### Making it a little more unsupervised "
   ]
  },
  {
   "cell_type": "code",
   "execution_count": 87,
   "metadata": {},
   "outputs": [],
   "source": [
    "pca_again = PCA(0.9)"
   ]
  },
  {
   "cell_type": "code",
   "execution_count": 88,
   "metadata": {},
   "outputs": [],
   "source": [
    "df_train_pca2 = pca_again.fit_transform(X_train)"
   ]
  },
  {
   "cell_type": "code",
   "execution_count": 89,
   "metadata": {},
   "outputs": [
    {
     "data": {
      "text/plain": [
       "(4922, 14)"
      ]
     },
     "execution_count": 89,
     "metadata": {},
     "output_type": "execute_result"
    }
   ],
   "source": [
    "df_train_pca2.shape"
   ]
  },
  {
   "cell_type": "markdown",
   "metadata": {},
   "source": [
    "Following it up with a logistic regression model"
   ]
  },
  {
   "cell_type": "code",
   "execution_count": 90,
   "metadata": {},
   "outputs": [],
   "source": [
    "learner_pca2 = LogisticRegression()"
   ]
  },
  {
   "cell_type": "code",
   "execution_count": 91,
   "metadata": {},
   "outputs": [],
   "source": [
    "model_pca2 = learner_pca2.fit(df_train_pca2, y_train)"
   ]
  },
  {
   "cell_type": "code",
   "execution_count": 92,
   "metadata": {},
   "outputs": [],
   "source": [
    "df_test_pca2 = pca_again.transform(X_test)"
   ]
  },
  {
   "cell_type": "code",
   "execution_count": 93,
   "metadata": {},
   "outputs": [
    {
     "data": {
      "text/plain": [
       "(2110, 14)"
      ]
     },
     "execution_count": 93,
     "metadata": {},
     "output_type": "execute_result"
    }
   ],
   "source": [
    "df_test_pca2.shape"
   ]
  },
  {
   "cell_type": "code",
   "execution_count": 94,
   "metadata": {},
   "outputs": [],
   "source": [
    "pred_probs_test2 = model_pca2.predict_proba(df_test_pca2)[:,1]"
   ]
  },
  {
   "cell_type": "code",
   "execution_count": 95,
   "metadata": {},
   "outputs": [
    {
     "data": {
      "text/plain": [
       "'0.83'"
      ]
     },
     "execution_count": 95,
     "metadata": {},
     "output_type": "execute_result"
    }
   ],
   "source": [
    "\"{:2.2}\".format(metrics.roc_auc_score(y_test, pred_probs_test2))"
   ]
  },
  {
   "cell_type": "markdown",
   "metadata": {},
   "source": [
    "PCA is great!"
   ]
  },
  {
   "cell_type": "code",
   "execution_count": null,
   "metadata": {},
   "outputs": [],
   "source": []
  },
  {
   "cell_type": "code",
   "execution_count": null,
   "metadata": {},
   "outputs": [],
   "source": []
  }
 ],
 "metadata": {
  "kernelspec": {
   "display_name": "Python 3",
   "language": "python",
   "name": "python3"
  },
  "language_info": {
   "codemirror_mode": {
    "name": "ipython",
    "version": 3
   },
   "file_extension": ".py",
   "mimetype": "text/x-python",
   "name": "python",
   "nbconvert_exporter": "python",
   "pygments_lexer": "ipython3",
   "version": "3.8.3"
  }
 },
 "nbformat": 4,
 "nbformat_minor": 2
}
