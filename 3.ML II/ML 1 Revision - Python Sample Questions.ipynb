{
 "cells": [
  {
   "cell_type": "code",
   "execution_count": 6,
   "metadata": {},
   "outputs": [
    {
     "name": "stdout",
     "output_type": "stream",
     "text": [
      " ** \n",
      "*  *\n",
      "*  *\n",
      "****\n",
      "*  *\n",
      "*  *\n"
     ]
    }
   ],
   "source": [
    "for i in range(6):   #row\n",
    "    for j in range(4):   #column\n",
    "        if ((j==0 or j ==3) and i!=0):\n",
    "            print(\"*\", end = '')\n",
    "        elif ((i==0 or i==3) and (j!=0 and j!=3)):\n",
    "            print('*', end = '')\n",
    "        else:\n",
    "            print(end = ' ')\n",
    "    print()"
   ]
  },
  {
   "cell_type": "code",
   "execution_count": 8,
   "metadata": {},
   "outputs": [
    {
     "name": "stdout",
     "output_type": "stream",
     "text": [
      "0000\n",
      "0110\n",
      "0110\n",
      "0000\n"
     ]
    }
   ],
   "source": [
    "for i in range(4):\n",
    "    for j in range(4):\n",
    "        if ((i==1 or i==2) and (j==1 or j==2)):\n",
    "            print(1, end=\"\")\n",
    "        else:\n",
    "            print(0, end=\"\")\n",
    "    print()"
   ]
  },
  {
   "cell_type": "code",
   "execution_count": 9,
   "metadata": {},
   "outputs": [
    {
     "data": {
      "text/plain": [
       "[[0, 0, 0, 0], [0, 1, 1, 0], [0, 1, 1, 0], [0, 0, 0, 0]]"
      ]
     },
     "execution_count": 9,
     "metadata": {},
     "output_type": "execute_result"
    }
   ],
   "source": [
    "a = []\n",
    "\n",
    "for i in range(4):\n",
    "    b = []\n",
    "    for j in range(4):\n",
    "        if ((i==1 or i==2) and (j==1 or j==2)):\n",
    "            b.append(1)\n",
    "        else:\n",
    "            b.append(0)\n",
    "    a.append(b)\n",
    "a"
   ]
  },
  {
   "cell_type": "code",
   "execution_count": 15,
   "metadata": {},
   "outputs": [
    {
     "data": {
      "text/plain": [
       "7"
      ]
     },
     "execution_count": 15,
     "metadata": {},
     "output_type": "execute_result"
    }
   ],
   "source": [
    "# Find out nth largest number in a list\n",
    "ls = [1,4,2,6,4,3,6,7,8,9,7,6]\n",
    "n = 3\n",
    "\n",
    "sorted(list(set(ls)), reverse = True)[n-1]"
   ]
  },
  {
   "cell_type": "code",
   "execution_count": 21,
   "metadata": {},
   "outputs": [
    {
     "name": "stdout",
     "output_type": "stream",
     "text": [
      "4\n"
     ]
    }
   ],
   "source": [
    "s = \"abababaacab\"\n",
    "ss = \"ab\"\n",
    "\n",
    "#s[1:].startswith(ss)\n",
    "\n",
    "cnt = 0\n",
    "for i in range(len(s)):\n",
    "    if s[i:].startswith(ss):\n",
    "        cnt += 1\n",
    "\n",
    "print(cnt)\n",
    "    "
   ]
  },
  {
   "cell_type": "code",
   "execution_count": null,
   "metadata": {},
   "outputs": [],
   "source": []
  }
 ],
 "metadata": {
  "kernelspec": {
   "display_name": "Python 3",
   "language": "python",
   "name": "python3"
  },
  "language_info": {
   "codemirror_mode": {
    "name": "ipython",
    "version": 3
   },
   "file_extension": ".py",
   "mimetype": "text/x-python",
   "name": "python",
   "nbconvert_exporter": "python",
   "pygments_lexer": "ipython3",
   "version": "3.7.3"
  }
 },
 "nbformat": 4,
 "nbformat_minor": 2
}
